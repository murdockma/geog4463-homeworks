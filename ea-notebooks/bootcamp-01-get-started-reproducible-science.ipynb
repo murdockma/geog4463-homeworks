{
 "cells": [
  {
   "cell_type": "markdown",
   "metadata": {},
   "source": [
    "<img style=\"float: left;\" src=\"earth-lab-logo-rgb.png\" width=\"150\" height=\"150\" />\n",
    "\n",
    "# Earth Analytics Education - Bootcamp Course Fall 2020"
   ]
  },
  {
   "cell_type": "markdown",
   "metadata": {},
   "source": [
    "## Important  - Assignment Guidelines\n",
    "\n",
    "1. Before you submit your assignment to GitHub, make sure to run the entire notebook with a fresh kernel. To do this first, **restart the kernel** (in the menubar, select Kernel$\\rightarrow$Restart & Run All)\n",
    "2. Always replace the `raise NotImplementedError()` code with your code that addresses the activity challenge. If you don't replace that code, your notebook will not run.\n",
    "\n",
    "```\n",
    "# YOUR CODE HERE\n",
    "raise NotImplementedError()\n",
    "```\n",
    "\n",
    "3. Any open ended questions will have a \"YOUR ANSWER HERE\" within a markdown cell. Replace that text with your answer also formatted using Markdown.\n",
    "4. **DO NOT RENAME THIS NOTEBOOK File!** If the file name changes, the autograder will not grade your assignment properly.\n",
    "6. When you create a figure, comment out `plt.show()` to ensure the autograder can grade your plots. For figure cells, DO NOT DELETE the code that says `DO NOT REMOVE LINE BELOW`.\n",
    "\n",
    "```\n",
    "### DO NOT REMOVE LINE BELOW ###\n",
    "student_plot1_ax = nb.convert_axes(plt)\n",
    "```\n",
    "\n",
    "* Only include the package imports, code, and outputs that are required to run your homework assignment.\n",
    "* Be sure that your code can be run on any operating system. This means that:\n",
    "   1. the data should be downloaded in the notebook to ensure it's reproducible\n",
    "   2. all paths should be created dynamically using the `os.path.join`\n",
    "\n",
    "## Follow to PEP 8 Syntax Guidelines & Documentation\n",
    "\n",
    "* Run the `autopep8` tool on all cells prior to submitting (HINT: hit shift + the tool to run it on all cells at once!\n",
    "* Use clear and expressive names for variables. \n",
    "* Organize your code to support readability.\n",
    "* Check for code line length\n",
    "* Use comments and white space sparingly where it is needed\n",
    "* Make sure all python imports are at the top of your notebook and follow PEP 8 order conventions\n",
    "* Spell check your Notebook before submitting it.\n",
    "\n",
    "For all of the plots below, be sure to do the following:\n",
    "\n",
    "* Make sure each plot has a clear TITLE and, where appropriate, label the x and y axes. Be sure to include UNITS in your labels.\n"
   ]
  },
  {
   "cell_type": "markdown",
   "metadata": {},
   "source": [
    "### Add Your Name Below \n",
    "**Your Name:** Michael Murdock"
   ]
  },
  {
   "cell_type": "markdown",
   "metadata": {},
   "source": [
    "<img style=\"float: left;\" src=\"colored-bar.png\"/>"
   ]
  },
  {
   "cell_type": "markdown",
   "metadata": {},
   "source": [
    "---"
   ]
  },
  {
   "cell_type": "markdown",
   "metadata": {
    "deletable": false,
    "editable": false,
    "nbgrader": {
     "cell_type": "markdown",
     "checksum": "731b459f21b5a5bebdae400432a9f8da",
     "grade": false,
     "grade_id": "title",
     "locked": true,
     "schema_version": 3,
     "solution": false,
     "task": false
    }
   },
   "source": [
    "# Get Started with Reproducible Science\n",
    "\n",
    "In this portion of assignment 1, you will work with Markdown and Code cells in Jupyter Notebook.\n",
    "\n",
    "Read the instructions for each question carefully to successfully complete the required tasks.\n",
    "\n",
    "To receive full points, please make sure to complete the written questions as well as the code. Take care with your written responses and proof-read."
   ]
  },
  {
   "cell_type": "markdown",
   "metadata": {
    "deletable": false,
    "editable": false,
    "nbgrader": {
     "cell_type": "markdown",
     "checksum": "292b1cd3d4af7fdd7f0f6e1ca15740b5",
     "grade": false,
     "grade_id": "task-markdown",
     "locked": true,
     "points": 12,
     "schema_version": 3,
     "solution": false,
     "task": true
    }
   },
   "source": [
    "## Practice using Markdown\n",
    "\n",
    "**Create a Markdown cell below.** \n",
    "\n",
    "In the cell, add the following items using Markdown:\n",
    "1. A **header** for a location/place you want to visit\n",
    "2. A **hyperlink** to a webpage on this location (include the location's name in the hyperlink title)\n",
    "3. A **bold** word for a favorite food's name\n",
    "4. An **image** from the web for this food (include the food's name in the image alt text)\n"
   ]
  },
  {
   "cell_type": "markdown",
   "metadata": {},
   "source": [
    "## Singapore\n",
    "\n",
    "[singapore location](https://www.whereig.com/singapore/)\n",
    "\n",
    "<b>Steak (filet mignon)</b>\n",
    "\n",
    "![Filet Mignon](images/filet.jpg)"
   ]
  },
  {
   "cell_type": "markdown",
   "metadata": {
    "deletable": false,
    "editable": false,
    "nbgrader": {
     "cell_type": "markdown",
     "checksum": "95b65b15c467a9f71762ac63b18e0f12",
     "grade": false,
     "grade_id": "task-open-science",
     "locked": true,
     "points": 12,
     "schema_version": 3,
     "solution": false,
     "task": true
    }
   },
   "source": [
    "## What Does Open Reproducible Science Mean To You?\n",
    "\n",
    "**Convert the cell below to a Markdown cell.** Remove any existing text in the cell. \n",
    "\n",
    "In the new cell, answer the following questions using a **numbered list** in Markdown:\n",
    "1. In 1-2 sentences, define open reproducible science.\n",
    "2. In 1-2 sentences, choose one of the open source tools that you have learned about in week 1 (i.e. Shell, Git/GitHub, Jupyter Notebook, Python) and explain how it supports open reproducible science.\n",
    "3. In 1-2 sentences, does this Jupyter Notebook file have a machine readable name? Explain your answer.\n"
   ]
  },
  {
   "cell_type": "markdown",
   "metadata": {},
   "source": [
    "1. Open, reproducible science is creating workflows that can be widely understood and reproduced by as many people as possible on the same or new data. These workflows are typically constructed using tools like git/GitHub for better organization, collaborative ability, documentation, and easier replication of workflows.\n",
    "\n",
    "2. Jupyter supports open, reproducible science through the use of code cells in conjunction with LaTex (markdown) to create organized and well-documented steps (cells) within an anlysis. Notebooks are also easy to share and modify through their flexible export formats like ipynb and HTML.\n",
    "\n",
    "3. Yes, the file name is informative and avoids strange characters by using dashes to indicate spaces. The filename is also sortable as long as all other files are prefixed with 'bootcamp.'"
   ]
  },
  {
   "cell_type": "markdown",
   "metadata": {
    "deletable": false,
    "editable": false,
    "nbgrader": {
     "cell_type": "markdown",
     "checksum": "c366e637ecba16b420a7a7f0c7ff6633",
     "grade": false,
     "grade_id": "task-math",
     "locked": true,
     "points": 4,
     "schema_version": 3,
     "solution": false,
     "task": true
    }
   },
   "source": [
    "## Do Some Math With Python\n",
    "\n",
    "Remove any existing text in the four **code** cells below. \n",
    "\n",
    "Run the following calculations:"
   ]
  },
  {
   "cell_type": "markdown",
   "metadata": {
    "deletable": false,
    "editable": false,
    "nbgrader": {
     "cell_type": "markdown",
     "checksum": "846f3a37b406ee572e605f6c84ce0564",
     "grade": false,
     "grade_id": "read-math-1",
     "locked": true,
     "schema_version": 3,
     "solution": false,
     "task": false
    }
   },
   "source": [
    "```python\n",
    "6 * 2\n",
    "```"
   ]
  },
  {
   "cell_type": "code",
   "execution_count": 1,
   "metadata": {
    "deletable": false,
    "nbgrader": {
     "cell_type": "code",
     "checksum": "0efbde5816272e2174fd61d3aceef068",
     "grade": false,
     "grade_id": "ans-math-1",
     "locked": false,
     "schema_version": 3,
     "solution": true,
     "task": false
    }
   },
   "outputs": [
    {
     "data": {
      "text/plain": [
       "12"
      ]
     },
     "execution_count": 1,
     "metadata": {},
     "output_type": "execute_result"
    }
   ],
   "source": [
    "6 * 2"
   ]
  },
  {
   "cell_type": "code",
   "execution_count": 2,
   "metadata": {
    "deletable": false,
    "editable": false,
    "nbgrader": {
     "cell_type": "code",
     "checksum": "86973a81d238b383c4d61ac625a0fcc5",
     "grade": true,
     "grade_id": "test-math-1",
     "locked": true,
     "points": 2,
     "schema_version": 3,
     "solution": false,
     "task": false
    }
   },
   "outputs": [
    {
     "name": "stdout",
     "output_type": "stream",
     "text": [
      "✅ Great job! You performed the * operation\n"
     ]
    },
    {
     "data": {
      "text/plain": [
       "2"
      ]
     },
     "execution_count": 2,
     "metadata": {},
     "output_type": "execute_result"
    }
   ],
   "source": [
    "# DO NOT MODIFY THIS CELL\n",
    "\n",
    "student_math_1 = _\n",
    "student_math_1_answer_pts = 0\n",
    "\n",
    "if student_math_1 == 12:\n",
    "    print(\"\\u2705 Great job! You performed the * operation\")\n",
    "    student_math_1_answer_pts += 2\n",
    "else:\n",
    "    print(\"\\u274C Oops - the last line in your cell should read 6 * 2\")\n",
    "    \n",
    "student_math_1_answer_pts"
   ]
  },
  {
   "cell_type": "markdown",
   "metadata": {
    "deletable": false,
    "editable": false,
    "nbgrader": {
     "cell_type": "markdown",
     "checksum": "3f91d07c0545d498894a5693545da21f",
     "grade": false,
     "grade_id": "read-math-2",
     "locked": true,
     "schema_version": 3,
     "solution": false,
     "task": false
    }
   },
   "source": [
    "```python\n",
    "6 ** 2\n",
    "```"
   ]
  },
  {
   "cell_type": "code",
   "execution_count": 3,
   "metadata": {
    "deletable": false,
    "nbgrader": {
     "cell_type": "code",
     "checksum": "519ed814bef4ff15d7bf801b76ccb164",
     "grade": false,
     "grade_id": "ans-math-2",
     "locked": false,
     "schema_version": 3,
     "solution": true,
     "task": false
    }
   },
   "outputs": [
    {
     "data": {
      "text/plain": [
       "36"
      ]
     },
     "execution_count": 3,
     "metadata": {},
     "output_type": "execute_result"
    }
   ],
   "source": [
    "6 ** 2"
   ]
  },
  {
   "cell_type": "code",
   "execution_count": 4,
   "metadata": {
    "deletable": false,
    "editable": false,
    "nbgrader": {
     "cell_type": "code",
     "checksum": "e2ebd24ddfa5b50ed5122397b57f4ae3",
     "grade": true,
     "grade_id": "test-math-2",
     "locked": true,
     "points": 2,
     "schema_version": 3,
     "solution": false,
     "task": false
    }
   },
   "outputs": [
    {
     "name": "stdout",
     "output_type": "stream",
     "text": [
      "✅ Great job! You performed the ** operation\n"
     ]
    },
    {
     "data": {
      "text/plain": [
       "2"
      ]
     },
     "execution_count": 4,
     "metadata": {},
     "output_type": "execute_result"
    }
   ],
   "source": [
    "# DO NOT MODIFY THIS CELL\n",
    "\n",
    "student_math_2 = _\n",
    "student_math_2_answer_pts = 0\n",
    "\n",
    "if student_math_2 == 36:\n",
    "    print(\"\\u2705 Great job! You performed the ** operation\")\n",
    "    student_math_2_answer_pts += 2\n",
    "else:\n",
    "    print(\"\\u274C Oops - the last line in your cell should read 6 ** 2\")\n",
    "    \n",
    "student_math_2_answer_pts"
   ]
  },
  {
   "cell_type": "markdown",
   "metadata": {
    "deletable": false,
    "editable": false,
    "nbgrader": {
     "cell_type": "markdown",
     "checksum": "2dd7460639a30d9e4d0039f005ea99b3",
     "grade": false,
     "grade_id": "read-math-3",
     "locked": true,
     "schema_version": 3,
     "solution": false,
     "task": false
    }
   },
   "source": [
    "```python\n",
    "6 / 2\n",
    "```"
   ]
  },
  {
   "cell_type": "code",
   "execution_count": 5,
   "metadata": {
    "deletable": false,
    "nbgrader": {
     "cell_type": "code",
     "checksum": "f6b794efe674c0132c94a4a3363d9311",
     "grade": false,
     "grade_id": "ans-math-3",
     "locked": false,
     "schema_version": 3,
     "solution": true,
     "task": false
    }
   },
   "outputs": [
    {
     "data": {
      "text/plain": [
       "3.0"
      ]
     },
     "execution_count": 5,
     "metadata": {},
     "output_type": "execute_result"
    }
   ],
   "source": [
    "6 / 2"
   ]
  },
  {
   "cell_type": "code",
   "execution_count": 6,
   "metadata": {
    "deletable": false,
    "editable": false,
    "nbgrader": {
     "cell_type": "code",
     "checksum": "e7c6a9381fc5dd1d3a6f232542fd0487",
     "grade": true,
     "grade_id": "test-math-3",
     "locked": true,
     "points": 2,
     "schema_version": 3,
     "solution": false,
     "task": false
    }
   },
   "outputs": [
    {
     "name": "stdout",
     "output_type": "stream",
     "text": [
      "✅ Great job! You performed the / operation\n"
     ]
    },
    {
     "data": {
      "text/plain": [
       "2"
      ]
     },
     "execution_count": 6,
     "metadata": {},
     "output_type": "execute_result"
    }
   ],
   "source": [
    "# DO NOT MODIFY THIS CELL\n",
    "\n",
    "student_math_3 = _\n",
    "student_math_3_answer_pts = 0\n",
    "\n",
    "if student_math_3 == 3.0:\n",
    "    print(\"\\u2705 Great job! You performed the / operation\")\n",
    "    student_math_3_answer_pts += 2\n",
    "else:\n",
    "    print(\"\\u274C Oops - the last line in your cell should read 6 / 2\")\n",
    "    \n",
    "student_math_3_answer_pts"
   ]
  },
  {
   "cell_type": "markdown",
   "metadata": {
    "deletable": false,
    "editable": false,
    "nbgrader": {
     "cell_type": "markdown",
     "checksum": "2c099bf23b0318e510011f16ef844c01",
     "grade": false,
     "grade_id": "read-math-4",
     "locked": true,
     "schema_version": 3,
     "solution": false,
     "task": false
    }
   },
   "source": [
    "```python\n",
    "6 == 2\n",
    "```"
   ]
  },
  {
   "cell_type": "code",
   "execution_count": 7,
   "metadata": {
    "deletable": false,
    "nbgrader": {
     "cell_type": "code",
     "checksum": "40bbafe10aeeef6632c359d2f8a958fd",
     "grade": false,
     "grade_id": "ans-math-4",
     "locked": false,
     "schema_version": 3,
     "solution": true,
     "task": false
    }
   },
   "outputs": [
    {
     "data": {
      "text/plain": [
       "False"
      ]
     },
     "execution_count": 7,
     "metadata": {},
     "output_type": "execute_result"
    }
   ],
   "source": [
    "6 == 2"
   ]
  },
  {
   "cell_type": "code",
   "execution_count": 8,
   "metadata": {
    "deletable": false,
    "editable": false,
    "nbgrader": {
     "cell_type": "code",
     "checksum": "ce4cce7b71c9c881221276ba7a4cd0d7",
     "grade": true,
     "grade_id": "test-math-4",
     "locked": true,
     "points": 2,
     "schema_version": 3,
     "solution": false,
     "task": false
    }
   },
   "outputs": [
    {
     "name": "stdout",
     "output_type": "stream",
     "text": [
      "✅ Great job! You performed the == operation\n"
     ]
    },
    {
     "data": {
      "text/plain": [
       "2"
      ]
     },
     "execution_count": 8,
     "metadata": {},
     "output_type": "execute_result"
    }
   ],
   "source": [
    "# DO NOT MODIFY THIS CELL\n",
    "\n",
    "student_math_4 = _\n",
    "student_math_4_answer_pts = 0\n",
    "\n",
    "if not student_math_4:\n",
    "    print(\"\\u2705 Great job! You performed the == operation\")\n",
    "    student_math_4_answer_pts += 2\n",
    "else:\n",
    "    print(\"\\u274C Oops - the last line in your cell should read 6 == 2\")\n",
    "    \n",
    "student_math_4_answer_pts"
   ]
  },
  {
   "cell_type": "markdown",
   "metadata": {
    "deletable": false,
    "editable": false,
    "nbgrader": {
     "cell_type": "markdown",
     "checksum": "e7c36745c72031910bf1574a56b02cf7",
     "grade": false,
     "grade_id": "task-explain-math",
     "locked": true,
     "points": 12,
     "schema_version": 3,
     "solution": false,
     "task": true
    }
   },
   "source": [
    "## Explain Your Calculation Results\n",
    "\n",
    "Convert the cell below to a **markdown cell**, and answer the following questions about the results of your calculations using a **numbered list**:\n",
    "1. What calculation does the ```**``` execute?\n",
    "2. What do you notice about the format of the result of the calculation ```5 / 2```?\n",
    "3. What do you think the ```==``` operation is used for in Python? (Hint: look at the result carefully.)\n",
    "\n",
    "Remove any existing text in the cell before adding your answer. \n"
   ]
  },
  {
   "cell_type": "markdown",
   "metadata": {},
   "source": [
    "1. Squares the value on the left by the value on the right\n",
    "\n",
    "2. (6/2?), the output is a float (decimal)\n",
    "\n",
    "3. Comparing if one object is equal to another"
   ]
  },
  {
   "cell_type": "markdown",
   "metadata": {
    "deletable": false,
    "editable": false,
    "nbgrader": {
     "cell_type": "markdown",
     "checksum": "ef211dfbb848f61e927e5903fc453f4b",
     "grade": false,
     "grade_id": "read-import",
     "locked": true,
     "schema_version": 3,
     "solution": false,
     "task": false
    }
   },
   "source": [
    "## Import Python Packages\n",
    "\n",
    "Selecting the **code cell** below, replace\n",
    "```python\n",
    "# YOUR CODE HERE\n",
    "raise NotImplementedError()\n",
    "```\n",
    "with code that will import the `pandas` library:\n",
    "```python\n",
    "import pandas as pd\n",
    "```\n",
    "\n",
    "`pd` is the standard nickname or alias for `pandas` - it will shorten your code. You will use pandas to enter and plot some precipitation data.  "
   ]
  },
  {
   "cell_type": "code",
   "execution_count": 9,
   "metadata": {
    "deletable": false,
    "nbgrader": {
     "cell_type": "code",
     "checksum": "6f877ce12e05fcb22ab76b793ec817d4",
     "grade": false,
     "grade_id": "ans-import",
     "locked": false,
     "schema_version": 3,
     "solution": true,
     "task": false
    }
   },
   "outputs": [],
   "source": [
    "import pandas as pd"
   ]
  },
  {
   "cell_type": "code",
   "execution_count": 10,
   "metadata": {
    "deletable": false,
    "editable": false,
    "nbgrader": {
     "cell_type": "code",
     "checksum": "f58104e0fdb3793f86cf9206e3c880c8",
     "grade": true,
     "grade_id": "test-import",
     "locked": true,
     "points": 5,
     "schema_version": 3,
     "solution": false,
     "task": false
    }
   },
   "outputs": [
    {
     "name": "stdout",
     "output_type": "stream",
     "text": [
      "✅ Great job! You imported the pandas package correctly\n"
     ]
    },
    {
     "data": {
      "text/plain": [
       "5"
      ]
     },
     "execution_count": 10,
     "metadata": {},
     "output_type": "execute_result"
    }
   ],
   "source": [
    "# DO NOT MODIFY THIS CELL\n",
    "student_imports_pts = 0\n",
    "\n",
    "try:\n",
    "    pd.DataFrame()\n",
    "    print(\"\\u2705 Great job! You imported the pandas package correctly\")\n",
    "    student_imports_pts += 5\n",
    "except:\n",
    "    print(\"\\u274C Oops - make sure your import statement is correct\")\n",
    "\n",
    "student_imports_pts"
   ]
  },
  {
   "cell_type": "markdown",
   "metadata": {
    "deletable": false,
    "editable": false,
    "nbgrader": {
     "cell_type": "markdown",
     "checksum": "0bd3481ba151ea619a863c4ec363922b",
     "grade": false,
     "grade_id": "read-dataframe",
     "locked": true,
     "schema_version": 3,
     "solution": false,
     "task": false
    }
   },
   "source": [
    "## Create a DataFrame\n",
    "\n",
    "In the Code cell below, replace:\n",
    "\n",
    "```python\n",
    "# YOUR CODE HERE\n",
    "raise NotImplementedError()\n",
    "```\n",
    "\n",
    "with code to create your precipitation DataFrame:\n",
    "\n",
    "```python\n",
    "# Put data in a pandas DataFrame\n",
    "boulder_precip_df = pd.DataFrame(\n",
    "    index=pd.date_range(\"2013-09-09\", periods=8, freq=\"D\"),\n",
    "    columns=[\"precip_in\"],\n",
    "    data=[0.1, 1.0, 2.3, 9.8, 1.9, 0.01, 1.4, 0.4]\n",
    ")\n",
    "boulder_precip_df\n",
    "```"
   ]
  },
  {
   "cell_type": "code",
   "execution_count": 11,
   "metadata": {
    "deletable": false,
    "nbgrader": {
     "cell_type": "code",
     "checksum": "750b3a221102de50c553da68338e32d4",
     "grade": true,
     "grade_id": "cell-25c24f3ab9b5ebb8",
     "locked": false,
     "points": 5,
     "schema_version": 3,
     "solution": true,
     "task": false
    }
   },
   "outputs": [
    {
     "data": {
      "text/html": [
       "<div>\n",
       "<style scoped>\n",
       "    .dataframe tbody tr th:only-of-type {\n",
       "        vertical-align: middle;\n",
       "    }\n",
       "\n",
       "    .dataframe tbody tr th {\n",
       "        vertical-align: top;\n",
       "    }\n",
       "\n",
       "    .dataframe thead th {\n",
       "        text-align: right;\n",
       "    }\n",
       "</style>\n",
       "<table border=\"1\" class=\"dataframe\">\n",
       "  <thead>\n",
       "    <tr style=\"text-align: right;\">\n",
       "      <th></th>\n",
       "      <th>precip_in</th>\n",
       "    </tr>\n",
       "  </thead>\n",
       "  <tbody>\n",
       "    <tr>\n",
       "      <th>2013-09-09</th>\n",
       "      <td>0.10</td>\n",
       "    </tr>\n",
       "    <tr>\n",
       "      <th>2013-09-10</th>\n",
       "      <td>1.00</td>\n",
       "    </tr>\n",
       "    <tr>\n",
       "      <th>2013-09-11</th>\n",
       "      <td>2.30</td>\n",
       "    </tr>\n",
       "    <tr>\n",
       "      <th>2013-09-12</th>\n",
       "      <td>9.80</td>\n",
       "    </tr>\n",
       "    <tr>\n",
       "      <th>2013-09-13</th>\n",
       "      <td>1.90</td>\n",
       "    </tr>\n",
       "    <tr>\n",
       "      <th>2013-09-14</th>\n",
       "      <td>0.01</td>\n",
       "    </tr>\n",
       "    <tr>\n",
       "      <th>2013-09-15</th>\n",
       "      <td>1.40</td>\n",
       "    </tr>\n",
       "    <tr>\n",
       "      <th>2013-09-16</th>\n",
       "      <td>0.40</td>\n",
       "    </tr>\n",
       "  </tbody>\n",
       "</table>\n",
       "</div>"
      ],
      "text/plain": [
       "            precip_in\n",
       "2013-09-09       0.10\n",
       "2013-09-10       1.00\n",
       "2013-09-11       2.30\n",
       "2013-09-12       9.80\n",
       "2013-09-13       1.90\n",
       "2013-09-14       0.01\n",
       "2013-09-15       1.40\n",
       "2013-09-16       0.40"
      ]
     },
     "execution_count": 11,
     "metadata": {},
     "output_type": "execute_result"
    }
   ],
   "source": [
    "boulder_precip_df = pd.DataFrame(\n",
    "    index=pd.date_range(\"2013-09-09\", periods=8, freq=\"D\"),\n",
    "    columns=[\"precip_in\"],\n",
    "    data=[0.1, 1.0, 2.3, 9.8, 1.9, 0.01, 1.4, 0.4]\n",
    ")\n",
    "boulder_precip_df"
   ]
  },
  {
   "cell_type": "markdown",
   "metadata": {
    "deletable": false,
    "editable": false,
    "nbgrader": {
     "cell_type": "markdown",
     "checksum": "ae64b6bdf7e5b1613ba4cb2e4a4d1001",
     "grade": false,
     "grade_id": "cell-f564840ef713893c",
     "locked": true,
     "points": 6,
     "schema_version": 3,
     "solution": false,
     "task": true
    }
   },
   "source": [
    "## Reading code: pd.DataFrame\n",
    "\n",
    "Create a Markdown cell below. In a **numbered list**, state what you think each **argument** above does in the code:\n",
    "\n",
    "  1. index\n",
    "  2. columns\n",
    "  3. data"
   ]
  },
  {
   "cell_type": "markdown",
   "metadata": {},
   "source": [
    "1. The index contains the labels of the row (can be a range index)\n",
    "\n",
    "2. Columns are variables or headers for the data contained within\n",
    "\n",
    "3. Data is what lives in our columns, and is represented as a series in a dataframe"
   ]
  },
  {
   "cell_type": "markdown",
   "metadata": {
    "deletable": false,
    "editable": false,
    "nbgrader": {
     "cell_type": "markdown",
     "checksum": "1c2eeb6bb0344c14765b031b0ed4db60",
     "grade": false,
     "grade_id": "cell-d66818e473b41a7a",
     "locked": true,
     "points": 4,
     "schema_version": 3,
     "solution": false,
     "task": true
    }
   },
   "source": [
    "## Descriptive code\n",
    "\n",
    "Create a Markdown cell below. In a **bulleted list**, state two ways in which the code above is descriptive, and explain why."
   ]
  },
  {
   "cell_type": "markdown",
   "metadata": {},
   "source": [
    "- The variable name of the dataframe is descriptive as it states the location, what's being measured (precipitation), and has a suffix of df so we know it's a dataframe object.\n",
    "\n",
    "- It also explicitly states the start date, end_date, and step size or frequency of our date range so we can easily understand that were looking at eight days of data starting in September of 2013."
   ]
  },
  {
   "cell_type": "markdown",
   "metadata": {
    "deletable": false,
    "editable": false,
    "nbgrader": {
     "cell_type": "markdown",
     "checksum": "5235ffdd5f6a7459146cef548cfb73fd",
     "grade": false,
     "grade_id": "cell-87c49680314affef",
     "locked": true,
     "points": 7,
     "schema_version": 3,
     "solution": false,
     "task": true
    }
   },
   "source": [
    "## Plot your data\n",
    "\n",
    "Create a **code cell** immediately below this cell. Then, use the following code to plot your data:\n",
    "\n",
    "```python\n",
    "ax = boulder_precip_dt.precip_in.plot.bar()\n",
    "```\n",
    "\n",
    "This code block will create a **plot of daily precipitation values in inches for Boulder, CO** for one week in **September 2013**, during which there was a major flooding event. "
   ]
  },
  {
   "cell_type": "code",
   "execution_count": 12,
   "metadata": {},
   "outputs": [
    {
     "data": {
      "image/png": "[encoded data removed]",
      "text/plain": [
       "<Figure size 432x288 with 1 Axes>"
      ]
     },
     "metadata": {
      "needs_background": "light"
     },
     "output_type": "display_data"
    }
   ],
   "source": [
    "ax = boulder_precip_df.precip_in.plot.bar()"
   ]
  },
  {
   "cell_type": "markdown",
   "metadata": {
    "deletable": false,
    "editable": false,
    "nbgrader": {
     "cell_type": "markdown",
     "checksum": "e7a1a29b0327c9df5c5374dd3a15f2a1",
     "grade": false,
     "grade_id": "read-id-labels",
     "locked": true,
     "schema_version": 3,
     "solution": false,
     "task": false
    }
   },
   "source": [
    "## Identify Plot Title and Axes Labels\n",
    "\n",
    "Note that your plot is missing important labels. How would you describe the plotted data? \n",
    "\n",
    "Create a Markdown cell below. Provide the following in a **bullet list**:\n",
    "1. an appropriate title for the plot\n",
    "2. a clear label for the x-axis\n",
    "3. a clear label for the y-axis\n",
    "\n",
    "Be sure to think about the following pieces of information that could help someone easily interpret the plot:\n",
    "* geographic coverage or extent of data\n",
    "* duration or temporal extent of the data\n",
    "* what was actually measured and/or represented by the data\n",
    "* units of measurement"
   ]
  },
  {
   "cell_type": "markdown",
   "metadata": {},
   "source": [
    "- Daily Precipitation in Boulder (2013-09-09 - 2013-09-16)\n",
    "\n",
    "- Timestamp\n",
    "\n",
    "- Precipitation (inches)"
   ]
  },
  {
   "cell_type": "markdown",
   "metadata": {
    "deletable": false,
    "editable": false,
    "nbgrader": {
     "cell_type": "markdown",
     "checksum": "51204cc6036383d0c3aaf6326c4eb8f0",
     "grade": false,
     "grade_id": "read-label-plot",
     "locked": true,
     "schema_version": 3,
     "solution": false,
     "task": false
    }
   },
   "source": [
    "## Label your plot\n",
    "\n",
    "Convert the cell below to a **code cell**. Add the code you used to make your plot. Then add the following code, substituting your own labels:\n",
    "\n",
    "```python\n",
    "ax.set(\n",
    "    title=\"Title Goes Here\", \n",
    "    xlabel=\"X Axis Label Goes Here\", \n",
    "    ylabel=\"Y Axis Label Goes Here\");\n",
    "```\n",
    "\n",
    "BONUS: What do you think the semicolon at the end does? "
   ]
  },
  {
   "cell_type": "code",
   "execution_count": 13,
   "metadata": {},
   "outputs": [
    {
     "data": {
      "image/png": "[encoded data removed]",
      "text/plain": [
       "<Figure size 720x432 with 1 Axes>"
      ]
     },
     "metadata": {
      "needs_background": "light"
     },
     "output_type": "display_data"
    }
   ],
   "source": [
    "import matplotlib.pyplot as plt\n",
    "\n",
    "f, ax = plt.subplots(figsize=(10,6))\n",
    "\n",
    "ax = boulder_precip_df.precip_in.plot.bar()\n",
    "\n",
    "plt.xticks(rotation=50)\n",
    "\n",
    "ax.set(\n",
    "    title=\"Daily Precipitation in Boulder (2013-09-09 - 2013-09-16)\", \n",
    "    xlabel=\"Timestamp\", \n",
    "    ylabel=\"Precipitation (inches)\");"
   ]
  },
  {
   "cell_type": "markdown",
   "metadata": {},
   "source": [
    "- The semicolon omits the text output above your plot"
   ]
  },
  {
   "cell_type": "markdown",
   "metadata": {
    "deletable": false,
    "editable": false,
    "nbgrader": {
     "cell_type": "markdown",
     "checksum": "cb0505afed3fbe53da70ca8993e9bfad",
     "grade": false,
     "grade_id": "task-explain-plot",
     "locked": true,
     "points": 14,
     "schema_version": 3,
     "solution": false,
     "task": true
    }
   },
   "source": [
    "## Explain your plot\n",
    "\n",
    "What does this plot tell you about this Sept 2013 flood event in Boulder, CO?\n",
    "\n",
    "Create a Markdown cell below. In it:\n",
    "  * Add a **heading** that explains a main takeaway from your plot in a full sentence\n",
    "  * Elaborate on your point in 2-3 sentences, **in paragraph form**, not list\n",
    "  "
   ]
  },
  {
   "cell_type": "markdown",
   "metadata": {},
   "source": [
    "## Boulder recieved the most precipitation on September 12, 2013\n",
    "\n",
    "We can see from the plot, that precipitation started to occur on September 9th, and continued to rise until September 12th when precipitation peaked. The 12/13th most likely had the most severe flooding throughout the date range, as precipitation continued to decline after the 12th. Surprisingly, Boulder received ~10 inches on the 12th, considering all other days in the flood range received less than 5 inches."
   ]
  }
 ],
 "metadata": {
  "colab": {
   "collapsed_sections": [],
   "name": "ea-bootcamp-01-get-started-reproducible-science-svetlana-kurakina.ipynb",
   "provenance": []
  },
  "kernelspec": {
   "display_name": "Python 3 (ipykernel)",
   "language": "python",
   "name": "python3"
  },
  "language_info": {
   "codemirror_mode": {
    "name": "ipython",
    "version": 3
   },
   "file_extension": ".py",
   "mimetype": "text/x-python",
   "name": "python",
   "nbconvert_exporter": "python",
   "pygments_lexer": "ipython3",
   "version": "3.9.10"
  },
  "varInspector": {
   "cols": {
    "lenName": 16,
    "lenType": 16,
    "lenVar": 40
   },
   "kernels_config": {
    "python": {
     "delete_cmd_postfix": "",
     "delete_cmd_prefix": "del ",
     "library": "var_list.py",
     "varRefreshCmd": "print(var_dic_list())"
    },
    "r": {
     "delete_cmd_postfix": ") ",
     "delete_cmd_prefix": "rm(",
     "library": "var_list.r",
     "varRefreshCmd": "cat(var_dic_list()) "
    }
   },
   "types_to_exclude": [
    "module",
    "function",
    "builtin_function_or_method",
    "instance",
    "_Feature"
   ],
   "window_display": false
  }
 },
 "nbformat": 4,
 "nbformat_minor": 1
}
