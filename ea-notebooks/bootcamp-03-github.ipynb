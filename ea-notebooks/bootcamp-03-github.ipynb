{
 "cells": [
  {
   "cell_type": "markdown",
   "metadata": {},
   "source": [
    "<img style=\"float: left;\" src=\"earth-lab-logo-rgb.png\" width=\"150\" height=\"150\" />\n",
    "\n",
    "# Earth Analytics Education"
   ]
  },
  {
   "cell_type": "markdown",
   "metadata": {},
   "source": [
    "## Important  - Assignment Guidelines\n",
    "\n",
    "1. Before you submit your assignment to GitHub, make sure to run the entire notebook with a fresh kernel. To do this first, **restart the kernel** (in the menubar, select Kernel$\\rightarrow$Restart & Run All)\n",
    "2. Always replace the `raise NotImplementedError()` code with your code that addresses the activity challenge. If you don't replace that code, your notebook will not run.\n",
    "\n",
    "```\n",
    "# YOUR CODE HERE\n",
    "raise NotImplementedError()\n",
    "```\n",
    "\n",
    "3. Any open ended questions will have a \"YOUR ANSWER HERE\" within a markdown cell. Replace that text with your answer also formatted using Markdown.\n",
    "4. **DO NOT RENAME THIS NOTEBOOK File!** If the file name changes, the autograder will not grade your assignment properly.\n",
    "\n",
    "* Only include the package imports, code, and outputs that are required to run your homework assignment.\n",
    "* Be sure that your code can be run on any operating system. This means that:\n",
    "   1. the data should be downloaded in the notebook to ensure it's reproducible\n",
    "   2. all paths should be created dynamically using the `os.path.join`\n",
    "   3. sort lists of dated files even if they are sorted correctly by default on your machine\n",
    "\n",
    "## Follow to PEP 8 Syntax Guidelines & Documentation\n",
    "\n",
    "* Run the `autopep8` tool on all cells prior to submitting (HINT: hit shift + the tool to run it on all cells at once!\n",
    "* Use clear and expressive names for variables. \n",
    "* Organize your code to support readability.\n",
    "* Check for code line length\n",
    "* Use comments and white space sparingly where it is needed\n",
    "* Make sure all python imports are at the top of your notebook and follow PEP 8 order conventions\n",
    "* Spell check your Notebook before submitting it.\n",
    "\n",
    "For all of the plots below, be sure to do the following:\n",
    "\n",
    "* Make sure each plot has a clear TITLE and, where appropriate, label the x and y axes. Be sure to include UNITS in your labels.\n"
   ]
  },
  {
   "cell_type": "markdown",
   "metadata": {},
   "source": [
    "### Add Your Name Below \n",
    "**Your Name: Michael Murdock**"
   ]
  },
  {
   "cell_type": "markdown",
   "metadata": {},
   "source": [
    "<img style=\"float: left;\" src=\"colored-bar.png\"/>"
   ]
  },
  {
   "cell_type": "markdown",
   "metadata": {},
   "source": [
    "---"
   ]
  },
  {
   "cell_type": "markdown",
   "metadata": {
    "deletable": false,
    "editable": false,
    "nbgrader": {
     "cell_type": "markdown",
     "checksum": "09e5fd6ded81cf19b7510dea15470277",
     "grade": false,
     "grade_id": "hw-instructions",
     "locked": true,
     "schema_version": 3,
     "solution": false,
     "task": false
    }
   },
   "source": [
    "# Week 3 Homework - GitHub and Python\n",
    "\n",
    "In this assignment you will experiment with conditionals (if/then), functions, and plotting. You will then use your new git and GitHub skills to submit the assignment to GitHub Classroom. **MAKE SURE THAT YOU FORKED YOUR ASSIGNMENT REPOSITORY BEFORE STARTING**\n",
    "\n",
    "You can check that the repository you downloaded belongs to you by running the following command in the terminal from inside the repository:\n",
    "\n",
    "```bash\n",
    "git remote -v\n",
    "```\n",
    "\n",
    "The printed url should have your username at the beginning, not `earthlab-education`. This will enable us (and you!) to automatically test your notebook for PEP 8 style and running all the way through starting next week. We will use a tool called GitHub Actions for testing.\n",
    "\n",
    "## Challenge 0 - Import Packages\n",
    "To begin, you will import the pyplot module from matplotlib. **Matplotlib** is the base package used by many if not most open source plotting tools. There are many plotting tools out there! We teach basic **matplotlib** in this program as it will empower you to modify and customize plots using many different tools. \n",
    "Replace the code in the cell below that says `raise NotImplementedError()` with \n",
    "the code in this cell that imports  **matplotlib.pyplot** and **geopandas**.\n",
    "\n",
    "```python\n",
    "# Import pyplot\n",
    "import matplotlib.pyplot as plt\n",
    "\n",
    "# Geopandas is a popular tool for working with spatial vector data\n",
    "import geopandas as gpd\n",
    "```"
   ]
  },
  {
   "cell_type": "code",
   "execution_count": 1,
   "metadata": {
    "deletable": false,
    "nbgrader": {
     "cell_type": "code",
     "checksum": "20489880accefdb27a2f10ca8cc97835",
     "grade": false,
     "grade_id": "student-imports-answer",
     "locked": false,
     "schema_version": 3,
     "solution": true,
     "task": false
    }
   },
   "outputs": [],
   "source": [
    "import matplotlib.pyplot as plt\n",
    "import geopandas as gpd"
   ]
  },
  {
   "cell_type": "code",
   "execution_count": 2,
   "metadata": {
    "deletable": false,
    "editable": false,
    "nbgrader": {
     "cell_type": "code",
     "checksum": "bc10c4a3df4294f8700869ed99ba5302",
     "grade": true,
     "grade_id": "import-tests",
     "locked": true,
     "points": 2,
     "schema_version": 3,
     "solution": false,
     "task": false
    }
   },
   "outputs": [
    {
     "name": "stdout",
     "output_type": "stream",
     "text": [
      "✅ Great - you imported pyplot correctly\n",
      "✅ Great - you imported geopandas correctly\n",
      "\n",
      " ➡ You received 2 out of 5 points for importing the correct packages.\n"
     ]
    },
    {
     "data": {
      "text/plain": [
       "2"
      ]
     },
     "execution_count": 2,
     "metadata": {},
     "output_type": "execute_result"
    }
   ],
   "source": [
    "import_points = 0\n",
    "try:\n",
    "    plt.show()\n",
    "    print(\"\\u2705 Great - you imported pyplot correctly\")\n",
    "    import_points += 1\n",
    "except NameError:\n",
    "    print((\"\\u274C Oops - make sure you imported the pyplot module from \"\n",
    "           \"matplotlib\"))\n",
    "\n",
    "try:\n",
    "    gpd.gpd\n",
    "    print(\"\\u2705 Great - you imported geopandas correctly\")\n",
    "    import_points += 1\n",
    "except NameError:\n",
    "    print(\"\\u274C Oops - make sure you imported geopandas\")\n",
    "\n",
    "print((\"\\n \\u27A1 You received {} out of 5 points for importing the \"\n",
    "       \"correct packages.\"\n",
    "       .format(import_points)))\n",
    "import_points"
   ]
  },
  {
   "cell_type": "markdown",
   "metadata": {
    "deletable": false,
    "editable": false,
    "nbgrader": {
     "cell_type": "markdown",
     "checksum": "a477f075d54be2a9120d1ea938a81dda",
     "grade": false,
     "grade_id": "plot1-data-instructions",
     "locked": true,
     "schema_version": 3,
     "solution": false,
     "task": false
    }
   },
   "source": [
    "# Below we create some data that you will use to create a basic plot.  "
   ]
  },
  {
   "cell_type": "code",
   "execution_count": 3,
   "metadata": {
    "deletable": false,
    "editable": false,
    "nbgrader": {
     "cell_type": "code",
     "checksum": "fa23d1b6db7898cebc79a184989a8cf6",
     "grade": false,
     "grade_id": "plot1-data-creation",
     "locked": true,
     "schema_version": 3,
     "solution": false,
     "task": false
    }
   },
   "outputs": [],
   "source": [
    "# Monthly average precipitation (inches)\n",
    "boulder_monthly_precip_in = [\n",
    "    0.70,\n",
    "    0.75,\n",
    "    1.85,\n",
    "    2.93,\n",
    "    3.05,\n",
    "    2.02,\n",
    "    1.62,\n",
    "    1.84,\n",
    "    1.31,\n",
    "    1.39,\n",
    "    0.84,\n",
    "]\n",
    "\n",
    "# List of month names for plotting\n",
    "months = [\n",
    "    \"Jan\",\n",
    "    \"Feb\",\n",
    "    \"Mar\",\n",
    "    \"Apr\",\n",
    "    \"May\",\n",
    "    \"June\",\n",
    "    \"July\",\n",
    "    \"Aug\",\n",
    "    \"Sept\",\n",
    "    \"Oct\",\n",
    "    \"Nov\",\n",
    "    \"Dec\",\n",
    "]"
   ]
  },
  {
   "cell_type": "markdown",
   "metadata": {
    "deletable": false,
    "editable": false,
    "nbgrader": {
     "cell_type": "markdown",
     "checksum": "2e4b4f1e9c8a63f70fc6a5e72210d570",
     "grade": false,
     "grade_id": "task-conditional-if",
     "locked": true,
     "points": 8,
     "schema_version": 3,
     "solution": false,
     "task": true
    }
   },
   "source": [
    "## Check for errors in the data \n",
    "This is monthly data, so we should have 12 data points. Use an `if` statement in the cell below to check if there are enough data points in the precipitation list by replacing `condition` with a test that checks if the length of `boulder_monthly_precip_in` is equal to `12`:\n",
    "\n",
    "```python\n",
    "if condition:\n",
    "    print('The data includes all months')\n",
    "```\n",
    "\n",
    "**Make sure to add a descriptive comment and follow PEP 8 standards**\n"
   ]
  },
  {
   "cell_type": "code",
   "execution_count": 4,
   "metadata": {
    "deletable": false,
    "nbgrader": {
     "cell_type": "code",
     "checksum": "a340ba0bb3c84510daa5ceafb85c2933",
     "grade": false,
     "grade_id": "student-conditional-if",
     "locked": false,
     "schema_version": 3,
     "solution": true,
     "task": false
    }
   },
   "outputs": [],
   "source": [
    "# if the length of boulder monthly precipitation list has 12 elements, print the statement\n",
    "if len(boulder_monthly_precip_in) == 12:\n",
    "    print('The data includes all months')"
   ]
  },
  {
   "cell_type": "markdown",
   "metadata": {
    "deletable": false,
    "editable": false,
    "nbgrader": {
     "cell_type": "markdown",
     "checksum": "86ac7e867ac08ecd814c52f62d5b10ba",
     "grade": false,
     "grade_id": "task-conditional-else",
     "locked": true,
     "points": 8,
     "schema_version": 3,
     "solution": false,
     "task": true
    }
   },
   "source": [
    "Whoops - nothing happens! To make this code useful you need the `if` statement to also print a message if there are *not* 12 data points. You can do that by adding an `else`:\n",
    "\n",
    "```python\n",
    "if condition:\n",
    "    print('The data includes all months')\n",
    "else:\n",
    "    print(\"Oops - there aren't enought data points for each month\")\n",
    "```\n",
    "**Make sure to add a descriptive comment and follow PEP 8 standards**\n",
    "\n",
    "*Note: we have to use double quotes for the second string because it contains a single quote. Try it both ways!*\n"
   ]
  },
  {
   "cell_type": "code",
   "execution_count": 5,
   "metadata": {
    "deletable": false,
    "nbgrader": {
     "cell_type": "code",
     "checksum": "825388c7eda59d0c7b3cefd9c8a1a822",
     "grade": false,
     "grade_id": "student-conditional-else",
     "locked": false,
     "schema_version": 3,
     "solution": true,
     "task": false
    }
   },
   "outputs": [
    {
     "name": "stdout",
     "output_type": "stream",
     "text": [
      "Oops - there aren't enought data points for each month\n"
     ]
    }
   ],
   "source": [
    "# if the length of boulder monthly precipitation list has 12 elements, print the statement\n",
    "if len(boulder_monthly_precip_in) == 12:\n",
    "    print('The data includes all months')\n",
    "\n",
    "# else print a different statement\n",
    "else:\n",
    "    print(\"Oops - there aren't enought data points for each month\")"
   ]
  },
  {
   "cell_type": "markdown",
   "metadata": {
    "deletable": false,
    "editable": false,
    "nbgrader": {
     "cell_type": "markdown",
     "checksum": "1bccfc0e7feae48c1f61876fbe349938",
     "grade": false,
     "grade_id": "task-insert",
     "locked": true,
     "points": 4,
     "schema_version": 3,
     "solution": false,
     "task": true
    }
   },
   "source": [
    "Now we're getting somewhere. You notice that the value for July (1.93) is missing. Insert the value in the correct spot *if* a month is missing. There are a couple of ways to solve this problem. Practice working with lists and indices by finding your own solution, or you can use the built-in `.insert()` method of lists:\n",
    "\n",
    "```python\n",
    "else:\n",
    "    boulder_monthly_precip_in.insert(value, index)\n",
    "```\n",
    "\n",
    "For full credit, do the following:\n",
    " - **Modify the printed message to describe what your code does.**\n",
    " - **Make sure to add a descriptive comment(s) and follow PEP 8 standards**\n",
    " - **Call the modified `boulder_monthly_precip_in` at the end of your cell so the tests will run**\n",
    " "
   ]
  },
  {
   "cell_type": "code",
   "execution_count": 6,
   "metadata": {
    "deletable": false,
    "nbgrader": {
     "cell_type": "code",
     "checksum": "9f16e6121ec75340a0a0501de6033c6f",
     "grade": false,
     "grade_id": "solution-insert",
     "locked": false,
     "schema_version": 3,
     "solution": true,
     "task": false
    }
   },
   "outputs": [
    {
     "name": "stdout",
     "output_type": "stream",
     "text": [
      "Adding July's precipitation\n"
     ]
    },
    {
     "data": {
      "text/plain": [
       "[0.7, 0.75, 1.85, 2.93, 3.05, 2.02, 1.93, 1.62, 1.84, 1.31, 1.39, 0.84]"
      ]
     },
     "execution_count": 6,
     "metadata": {},
     "output_type": "execute_result"
    }
   ],
   "source": [
    "# if the list contains 12 elements, print statement\n",
    "if len(boulder_monthly_precip_in) == 12:\n",
    "    print('The data contains all monthly values')\n",
    "    \n",
    "# else insert July's value and print statement\n",
    "else:\n",
    "    boulder_monthly_precip_in.insert(6, 1.93)\n",
    "    print(\"Adding July's precipitation\")\n",
    "\n",
    "# calling modified list\n",
    "boulder_monthly_precip_in"
   ]
  },
  {
   "cell_type": "code",
   "execution_count": 7,
   "metadata": {
    "deletable": false,
    "editable": false,
    "nbgrader": {
     "cell_type": "code",
     "checksum": "e2fdbe2e2c19836803ab16db4489831e",
     "grade": true,
     "grade_id": "tests-insert",
     "locked": true,
     "points": 6,
     "schema_version": 3,
     "solution": false,
     "task": false
    }
   },
   "outputs": [
    {
     "name": "stdout",
     "output_type": "stream",
     "text": [
      "✅ Nice work! The object you called at the end of the cell is of type - list\n",
      "✅ Nice work! Your list has the correct number of elements\n",
      "✅ The list you created has the correct values in it, good job!\n",
      "✅ You inserted the July precip in the correct location\n",
      "\n",
      " ➡ You received 6 out of 6 points for inserting the July precipitation in the correct location\n"
     ]
    },
    {
     "data": {
      "text/plain": [
       "6"
      ]
     },
     "execution_count": 7,
     "metadata": {},
     "output_type": "execute_result"
    }
   ],
   "source": [
    "# DO NOT MODIFY THIS CELL\n",
    "\n",
    "student_precip = _\n",
    "insert_points = 0\n",
    "is_list = False\n",
    "\n",
    "\n",
    "if isinstance(student_precip, list):\n",
    "    print((\"\\u2705 Nice work! The object you called at the end of the cell \"\n",
    "           \"is of type - list\"))\n",
    "    insert_points += 1\n",
    "    is_list = True\n",
    "else:\n",
    "    print((\"\\u274C Oops! Did you create a list variable and call it at the \"\n",
    "           \"end of the cell? Please reread the directions.\"))\n",
    "if is_list:\n",
    "    if len(student_precip) == 12:\n",
    "        print((\"\\u2705 Nice work! Your list has the correct number of \"\n",
    "               \"elements\"))\n",
    "        insert_points += 1\n",
    "    else:\n",
    "        print((\"\\u274C Oops - your list is not the correct length.\"))\n",
    "    \n",
    "    if round(sum(student_precip), 1) == 20.2:\n",
    "        print((\"\\u2705 The list you created has the correct values in it, \"\n",
    "               \"good job!\"))\n",
    "        insert_points += 2\n",
    "    else:\n",
    "        print((\"\\u274C The list you created does not contain the correct \"\n",
    "               \"values.\"))\n",
    "\n",
    "    if student_precip[6] == 1.93:\n",
    "        print((\"\\u2705 You inserted the July precip in the correct location\"))\n",
    "        insert_points += 2\n",
    "    else:\n",
    "        print(\"\\u274C Your July precip value is in the wrong location.\")\n",
    "    \n",
    "print((\"\\n \\u27A1 You received {} out of 6 points for inserting the July \"\n",
    "       \"precipitation in the correct location\")\n",
    "       .format(insert_points))\n",
    "\n",
    "insert_points"
   ]
  },
  {
   "cell_type": "markdown",
   "metadata": {
    "deletable": false,
    "editable": false,
    "nbgrader": {
     "cell_type": "markdown",
     "checksum": "7cb06b3a5d6f334e0041e0a8e10b9142",
     "grade": false,
     "grade_id": "instructions-convert",
     "locked": true,
     "schema_version": 3,
     "solution": false,
     "task": false
    }
   },
   "source": [
    "## Convert your precipitation data to millimeters\n",
    "\n",
    "You may have completed the bonus challenge, converting data from Fahrenheit to Celcius using **list comprehension**. For this assignment, you will learn complete a similar task, converting precipitation from inches to mm, using a **function**.\n",
    "  \n",
    "**Functions** allow you to repeat the same or similar tasks over and over without having to rewrite the code. Recall in the last assignment that it was very easy to mis-type or forget a step during the conversion calculations. We call this sort of thing 'copy pasta' and functions will help you avoid it (as well as a lot of typing)."
   ]
  },
  {
   "cell_type": "markdown",
   "metadata": {
    "deletable": false,
    "editable": false,
    "nbgrader": {
     "cell_type": "markdown",
     "checksum": "95bb902bc660676b7ee2f295b3af4ca3",
     "grade": false,
     "grade_id": "task-convert-single",
     "locked": true,
     "points": 2,
     "schema_version": 3,
     "solution": false,
     "task": true
    }
   },
   "source": [
    "### Step one: perform your calculation on a single value\n",
    "\n",
    "1 inch = 25.4 mm\n",
    "\n",
    "Compute the October precipitation in mm in the cell below, making sure to call the value at the end of the cell.\n",
    "\n",
    "**Make sure to add a descriptive comment(s) and follow PEP 8 standards**\n",
    " "
   ]
  },
  {
   "cell_type": "code",
   "execution_count": 8,
   "metadata": {
    "deletable": false,
    "nbgrader": {
     "cell_type": "code",
     "checksum": "83178eb7fd98ac615eb4580e6c11e716",
     "grade": false,
     "grade_id": "student-convert-single",
     "locked": false,
     "schema_version": 3,
     "solution": true,
     "task": false
    }
   },
   "outputs": [
    {
     "data": {
      "text/plain": [
       "33.274"
      ]
     },
     "execution_count": 8,
     "metadata": {},
     "output_type": "execute_result"
    }
   ],
   "source": [
    "# setting variable to Octobers precipitation converted to millimeters\n",
    "oct_precip = boulder_monthly_precip_in[9]*25.4\n",
    "\n",
    "# displaying octobers precipitation in mm\n",
    "oct_precip"
   ]
  },
  {
   "cell_type": "code",
   "execution_count": 9,
   "metadata": {
    "deletable": false,
    "editable": false,
    "nbgrader": {
     "cell_type": "code",
     "checksum": "e04420a48c9bbcfd034694f8a79840f3",
     "grade": true,
     "grade_id": "tests-convert-single",
     "locked": true,
     "points": 1,
     "schema_version": 3,
     "solution": false,
     "task": false
    }
   },
   "outputs": [
    {
     "name": "stdout",
     "output_type": "stream",
     "text": [
      "✅ Nice work! You converted the precipitation correctly\n"
     ]
    },
    {
     "data": {
      "text/plain": [
       "1"
      ]
     },
     "execution_count": 9,
     "metadata": {},
     "output_type": "execute_result"
    }
   ],
   "source": [
    "student_oct_mm = _\n",
    "oct_mm_points = 0\n",
    "\n",
    "\n",
    "if round(student_oct_mm, 1) == 33.3:\n",
    "    print((\"\\u2705 Nice work! You converted the precipitation correctly\"))\n",
    "    oct_mm_points += 1\n",
    "else:\n",
    "    print((\"\\u274C Oops! Did you put your calculation on the last line of \"\n",
    "           \"the cell above?.\"))\n",
    "\n",
    "oct_mm_points"
   ]
  },
  {
   "cell_type": "markdown",
   "metadata": {
    "deletable": false,
    "editable": false,
    "nbgrader": {
     "cell_type": "markdown",
     "checksum": "39ec5953ced6feee39eb6bfbdeec711e",
     "grade": false,
     "grade_id": "task-function",
     "locked": true,
     "points": 2,
     "schema_version": 3,
     "solution": false,
     "task": true
    }
   },
   "source": [
    "### Step 2: Write a function to do your calculation\n",
    "\n",
    "The syntax for a function looks a lot like the syntax for an `if` statement, but with the `def` keyword insteado `if`. Call your function `empty_function`.\n",
    "\n",
    "We'll begin by defining a function that prints something. Replace `function_name` with `empty_function`. It is recommended to type out the function definition to get familiar with the syntax, below:\n",
    "\n",
    "```python\n",
    "def function_name():\n",
    "    return 'The function ran.'\n",
    "```\n",
    "Note the following key pieces of the syntax:\n",
    "  - the `def` statement (short for define)\n",
    "  - parentheses after the function name\n",
    "  - colon at the end of the first line\n",
    "  - all lines inside the function definition are indented; this is how Python knows what to include\n",
    "  - the `return` statement, which controls the output of the function\n",
    "\n",
    "**At the end of the cell, run the function to see if it works with ```empty_function()```  - Note the parentheses (required for most functions)**\n",
    "\n",
    "A question: should the function call be indented or not? Try it both ways and see!\n",
    "  "
   ]
  },
  {
   "cell_type": "code",
   "execution_count": 10,
   "metadata": {
    "deletable": false,
    "nbgrader": {
     "cell_type": "code",
     "checksum": "8c1260ac4988eda9fa23ff66e84ef894",
     "grade": false,
     "grade_id": "student-function",
     "locked": false,
     "schema_version": 3,
     "solution": true,
     "task": false
    }
   },
   "outputs": [
    {
     "data": {
      "text/plain": [
       "'The function ran.'"
      ]
     },
     "execution_count": 10,
     "metadata": {},
     "output_type": "execute_result"
    }
   ],
   "source": [
    "def empty_function():\n",
    "    \n",
    "    \"\"\"\n",
    "    Returns a statement if the function ran\n",
    "    \n",
    "    \"\"\"\n",
    "    \n",
    "    return 'The function ran.'\n",
    "\n",
    "empty_function()"
   ]
  },
  {
   "cell_type": "code",
   "execution_count": 11,
   "metadata": {
    "deletable": false,
    "editable": false,
    "nbgrader": {
     "cell_type": "code",
     "checksum": "e341363934b1e4f12ba12fb9a18d09ed",
     "grade": true,
     "grade_id": "tests-function",
     "locked": true,
     "points": 1,
     "schema_version": 3,
     "solution": false,
     "task": false
    }
   },
   "outputs": [
    {
     "name": "stdout",
     "output_type": "stream",
     "text": [
      "✅ Nice work! You defined a working function\n",
      "\n",
      " ➡ You received 1 out of 1 points for defining a working function\n"
     ]
    },
    {
     "data": {
      "text/plain": [
       "1"
      ]
     },
     "execution_count": 11,
     "metadata": {},
     "output_type": "execute_result"
    }
   ],
   "source": [
    "def_points = 0\n",
    "\n",
    "try:\n",
    "    empty_function()\n",
    "    print((\"\\u2705 Nice work! You defined a working function\"))\n",
    "    def_points += 1\n",
    "except:\n",
    "    print((\"\\u274C Oops! Did you name your function empty_function?\"))\n",
    "    \n",
    "print((\"\\n \\u27A1 You received {} out of 1 points for defining a working \"\n",
    "       \"function\")\n",
    "       .format(def_points))\n",
    "\n",
    "def_points"
   ]
  },
  {
   "cell_type": "markdown",
   "metadata": {
    "deletable": false,
    "editable": false,
    "nbgrader": {
     "cell_type": "markdown",
     "checksum": "62418164c930746b8c732841f628f3be",
     "grade": false,
     "grade_id": "task-argument",
     "locked": true,
     "points": 2,
     "schema_version": 3,
     "solution": false,
     "task": true
    }
   },
   "source": [
    "Now that you have written a function and tested it, you can build it out to do what you want. First, you will add an **argument**, some value measured in inches, to your function. This function won't do what you want yet, but it's getting closer.\n",
    "\n",
    "Arguments are like variables that can change each time the function is called, and do not exist outside the function. Just like variables, arguments should be descriptive, but since the function can be used many types, the argument shouldn't be too specific. Think value_in instead of precip_in. You put them inside the parentheses in the function definition, replacing `argument` with a name of your choice (and leaving the function name as `return_an_argument`), like so:\n",
    "\n",
    "```python\n",
    "def return_an_argument(argument):\n",
    "    return argument\n",
    "```\n",
    "**Make sure to call your function at the end of the cell using the october precipitation value from above to see if it works as expected.**\n"
   ]
  },
  {
   "cell_type": "code",
   "execution_count": 12,
   "metadata": {
    "deletable": false,
    "nbgrader": {
     "cell_type": "code",
     "checksum": "90a952b204663fa1f4897d4fec6dddde",
     "grade": false,
     "grade_id": "student-argument",
     "locked": false,
     "schema_version": 3,
     "solution": true,
     "task": false
    }
   },
   "outputs": [
    {
     "data": {
      "text/plain": [
       "1.31"
      ]
     },
     "execution_count": 12,
     "metadata": {},
     "output_type": "execute_result"
    }
   ],
   "source": [
    "def return_an_argument(value):\n",
    "    \n",
    "    \"\"\"\n",
    "    Returns inputted parameter\n",
    "    \n",
    "    \"\"\"\n",
    "    \n",
    "    return value\n",
    "\n",
    "return_an_argument(boulder_monthly_precip_in[9])"
   ]
  },
  {
   "cell_type": "code",
   "execution_count": 13,
   "metadata": {
    "deletable": false,
    "editable": false,
    "nbgrader": {
     "cell_type": "code",
     "checksum": "15f85d19297aacffe42a3f9444205afe",
     "grade": true,
     "grade_id": "test-argument",
     "locked": true,
     "points": 3,
     "schema_version": 3,
     "solution": false,
     "task": false
    }
   },
   "outputs": [
    {
     "name": "stdout",
     "output_type": "stream",
     "text": [
      "✅ Nice work! You defined a function with an argument\n",
      "✅ Nice work! Your function produces the correct result\n",
      "\n",
      " ➡ You received 3 out of 3 points for writing a function with an argument\n"
     ]
    },
    {
     "data": {
      "text/plain": [
       "3"
      ]
     },
     "execution_count": 13,
     "metadata": {},
     "output_type": "execute_result"
    }
   ],
   "source": [
    "student_argument = _\n",
    "argument_points = 0\n",
    "\n",
    "try:\n",
    "    return_an_argument(1.31)\n",
    "    print((\"\\u2705 Nice work! You defined a function with an argument\"))\n",
    "    argument_points += 1\n",
    "    \n",
    "    if round(student_argument, 1)==1.3:\n",
    "        print((\"\\u2705 Nice work! Your function produces the correct result\"))\n",
    "        argument_points += 2\n",
    "    else:\n",
    "        print((\"\\u274C Oops! Did you use the October precipitation value 1.31 \"\n",
    "               \"in your testing code?\"))\n",
    "except:\n",
    "    print((\"\\u274C Oops! Check that your function doesn't produce an error.\"))\n",
    "\n",
    "\n",
    "print((\"\\n \\u27A1 You received {} out of 3 points for writing a function \"\n",
    "       \"with an argument\")\n",
    "       .format(argument_points))\n",
    "\n",
    "argument_points"
   ]
  },
  {
   "cell_type": "markdown",
   "metadata": {
    "deletable": false,
    "editable": false,
    "nbgrader": {
     "cell_type": "markdown",
     "checksum": "8034fd0c514d7b65ab639be1f81914a6",
     "grade": false,
     "grade_id": "task-in-to-mm",
     "locked": true,
     "points": 1,
     "schema_version": 3,
     "solution": false,
     "task": true
    }
   },
   "source": [
    "Change your function so that it return the converted value - in mm - instead of the original value. **Name your finalized function `in_to_mm`**. You will do this by replacing your argument in the `return` statement with your equation from above (when you converted the October precipitation value from inches to mm). Your function should now convert **any arbitrary value** from inches to mm."
   ]
  },
  {
   "cell_type": "code",
   "execution_count": 14,
   "metadata": {
    "deletable": false,
    "nbgrader": {
     "cell_type": "code",
     "checksum": "6b11626437eb8b6b49bef753c41e3987",
     "grade": false,
     "grade_id": "student-in-to-mm",
     "locked": false,
     "schema_version": 3,
     "solution": true,
     "task": false
    }
   },
   "outputs": [
    {
     "data": {
      "text/plain": [
       "33.274"
      ]
     },
     "execution_count": 14,
     "metadata": {},
     "output_type": "execute_result"
    }
   ],
   "source": [
    "def in_to_mm(value):\n",
    "    \n",
    "    \"\"\"\n",
    "    \n",
    "    Converts inputted parameter from inches to millimeters\n",
    "    \n",
    "    \"\"\"\n",
    "    return value*25.4\n",
    "\n",
    "in_to_mm(boulder_monthly_precip_in[9])"
   ]
  },
  {
   "cell_type": "code",
   "execution_count": 15,
   "metadata": {
    "deletable": false,
    "editable": false,
    "nbgrader": {
     "cell_type": "code",
     "checksum": "45746a676f9dfd70989a8a1ee85d0a93",
     "grade": true,
     "grade_id": "test-in-to-mm",
     "locked": true,
     "points": 3,
     "schema_version": 3,
     "solution": false,
     "task": false
    }
   },
   "outputs": [
    {
     "name": "stdout",
     "output_type": "stream",
     "text": [
      "✅ Nice work! You defined an in_to_mm function.\n",
      "✅ Nice work! Your function produces the correct result\n",
      "\n",
      " ➡ You received 3 out of 4 points for writing a function with an argument\n"
     ]
    },
    {
     "data": {
      "text/plain": [
       "3"
      ]
     },
     "execution_count": 15,
     "metadata": {},
     "output_type": "execute_result"
    }
   ],
   "source": [
    "student_convert = _\n",
    "convert_points = 0\n",
    "\n",
    "\n",
    "try:\n",
    "    in_to_mm(1.31)\n",
    "    print((\"\\u2705 Nice work! You defined an in_to_mm function.\"))\n",
    "    convert_points += 1\n",
    "    \n",
    "    if round(student_convert, 1)==33.3:\n",
    "        print((\"\\u2705 Nice work! Your function produces the correct result\"))\n",
    "        convert_points += 2\n",
    "    else:\n",
    "        print((\"\\u274C Oops! Did you use the October precipitation value 1.31\"\n",
    "               \"in your testing code?\"))\n",
    "except:\n",
    "    print((\"\\u274C Oops! Check that your function doesn't produce an error.\"))\n",
    "\n",
    "\n",
    "print((\"\\n \\u27A1 You received {} out of 4 points for writing a function \"\n",
    "       \"with an argument\")\n",
    "       .format(convert_points))\n",
    "\n",
    "convert_points"
   ]
  },
  {
   "cell_type": "markdown",
   "metadata": {
    "deletable": false,
    "editable": false,
    "nbgrader": {
     "cell_type": "markdown",
     "checksum": "6fc47a685e6a4ce7d21e4523ab8f1683",
     "grade": false,
     "grade_id": "task-docstr",
     "locked": true,
     "points": 2,
     "schema_version": 3,
     "solution": false,
     "task": true
    }
   },
   "source": [
    "You're not quite done! Just like you should always add descriptive comments to your code to enhance readability and reproducibility, you should always include a **docstring** when you write a function. Docstrings describe what a function does.\n",
    "\n",
    "Later on, we'll use a more formal style, numpy style, for docstrings. It will include additional information like For now, go back and a **single-line descriptive summary** to **all three** functions that you wrote above. The example below shows how to add a docstring by indenting and surrounding your text with triple quotes:\n",
    "\n",
    "```python\n",
    "def empty_function():\n",
    "    \"\"\"Does nothing\"\"\"\n",
    "    return 'The function ran.'\n",
    "```\n",
    "\n",
    "**PEP-8 suggests that while code may be up to 79 characters per line, docstrings should be a maximum of 72 characters. For class, you must stick to this standard.**\n",
    "\n",
    "Make sure to re-run the cells defining your functions so the test below will work for you\n"
   ]
  },
  {
   "cell_type": "code",
   "execution_count": 16,
   "metadata": {
    "deletable": false,
    "editable": false,
    "nbgrader": {
     "cell_type": "code",
     "checksum": "b7afd8e886fc4664ce2ecd8b97089e58",
     "grade": true,
     "grade_id": "tests-docstr",
     "locked": true,
     "points": 3,
     "schema_version": 3,
     "solution": false,
     "task": false
    }
   },
   "outputs": [
    {
     "name": "stdout",
     "output_type": "stream",
     "text": [
      "✅ Nice work! empty_function has a docstring:\n",
      "    \n",
      "    Returns a statement if the function ran\n",
      "    \n",
      "    \n",
      "✅ Nice work! return_an_argument has a docstring:\n",
      "    \n",
      "    Returns inputted parameter\n",
      "    \n",
      "    \n",
      "✅ Nice work! empty_function has a docstring\n",
      "    \n",
      "    \n",
      "    Converts inputted parameter from inches to millimeters\n",
      "    \n",
      "    \n",
      "\n",
      " ➡ You received 3 out of 6 points for writing docstrings\n"
     ]
    },
    {
     "data": {
      "text/plain": [
       "3"
      ]
     },
     "execution_count": 16,
     "metadata": {},
     "output_type": "execute_result"
    }
   ],
   "source": [
    "docstr_points = 0\n",
    "\n",
    "if not empty_function.__doc__ is None:\n",
    "    docstr_points += 1\n",
    "    print((\"\\u2705 Nice work! empty_function has a docstring:\"))\n",
    "    print(\"    \" + empty_function.__doc__)\n",
    "else:\n",
    "    print((\"\\u274C Oops! empty_function is missing a docstring. \"\n",
    "           \"Did you re-run the cells above?\"))\n",
    "    \n",
    "if not return_an_argument.__doc__ is None:\n",
    "    docstr_points += 1\n",
    "    print((\"\\u2705 Nice work! return_an_argument has a docstring:\"))\n",
    "    print(\"    \" + return_an_argument.__doc__)\n",
    "else:\n",
    "    print((\"\\u274C Oops! return_an_argument is missing a docstring. \"\n",
    "           \"Did you re-run the cells above?\"))\n",
    "    \n",
    "if not in_to_mm.__doc__ is None:\n",
    "    docstr_points += 1\n",
    "    print((\"\\u2705 Nice work! empty_function has a docstring\"))\n",
    "    print(\"    \" + in_to_mm.__doc__)\n",
    "else:\n",
    "    print((\"\\u274C Oops! empty_function is missing a docstring. \"\n",
    "           \"Did you re-run the cells above?\"))\n",
    "    \n",
    "print((\"\\n \\u27A1 You received {} out of 6 points for writing docstrings\"\n",
    "       .format(docstr_points)))\n",
    "\n",
    "docstr_points"
   ]
  },
  {
   "cell_type": "markdown",
   "metadata": {
    "deletable": false,
    "editable": false,
    "nbgrader": {
     "cell_type": "markdown",
     "checksum": "17fee538edabf7603990e36c92b444cc",
     "grade": false,
     "grade_id": "task-comprehension",
     "locked": true,
     "points": 2,
     "schema_version": 3,
     "solution": false,
     "task": true
    }
   },
   "source": [
    "### Step 3: Use list comprehension to apply the in_to_mm function to each precipitation value\n",
    "\n",
    "You may wish to review the Bonus challenge from the previous assignment. To apply your function using list comprehension, you will use the syntax below:\n",
    "\n",
    "```python\n",
    "[your_conversion_function(precip_in) for precip_in in precip_in_list]\n",
    "```\n",
    "\n",
    "Your task:\n",
    "  1. substitute the correct function name for `your_conversion_function`\n",
    "  2. substitute the name of your list of monthly average precipitation values for `precip_in_list`\n",
    "  3. Save the result of the list comprehension in a descriptively named variable\n",
    "  4. Call your new variable at the end of the cell for testing\n",
    "  \n",
    "Make sure to follow PEP 8 (in particular, keep line length less than 80 character) and include descriptive comment(s).\n"
   ]
  },
  {
   "cell_type": "code",
   "execution_count": 17,
   "metadata": {
    "deletable": false,
    "nbgrader": {
     "cell_type": "code",
     "checksum": "73c55a30abbda87d82f11182e93dd8a3",
     "grade": false,
     "grade_id": "student-comprehension",
     "locked": false,
     "schema_version": 3,
     "solution": true,
     "task": false
    }
   },
   "outputs": [
    {
     "data": {
      "text/plain": [
       "[17.779999999999998,\n",
       " 19.049999999999997,\n",
       " 46.99,\n",
       " 74.422,\n",
       " 77.46999999999998,\n",
       " 51.308,\n",
       " 49.022,\n",
       " 41.148,\n",
       " 46.736,\n",
       " 33.274,\n",
       " 35.306,\n",
       " 21.336]"
      ]
     },
     "execution_count": 17,
     "metadata": {},
     "output_type": "execute_result"
    }
   ],
   "source": [
    "# converting each value in boulder_monthly_precip_in to millimeters using the in_to_mm function\n",
    "precip_mm = [in_to_mm(precip_in) for precip_in in boulder_monthly_precip_in]\n",
    "\n",
    "precip_mm"
   ]
  },
  {
   "cell_type": "code",
   "execution_count": 18,
   "metadata": {
    "deletable": false,
    "editable": false,
    "nbgrader": {
     "cell_type": "code",
     "checksum": "fd10cc1f02cc34a8fc1a0e3fce5b17a0",
     "grade": true,
     "grade_id": "tests-comprehension",
     "locked": true,
     "points": 4,
     "schema_version": 3,
     "solution": false,
     "task": false
    }
   },
   "outputs": [
    {
     "name": "stdout",
     "output_type": "stream",
     "text": [
      "✅ Nice work! The object you called is a list\n",
      "✅ Nice work! Your list has the correct number of values.\n",
      "✅ Nice work! Your list has the correct values in mm\n",
      "\n",
      " ➡ You received 4 out of 5 points for converting precipitation values to mm\n"
     ]
    },
    {
     "data": {
      "text/plain": [
       "4"
      ]
     },
     "execution_count": 18,
     "metadata": {},
     "output_type": "execute_result"
    }
   ],
   "source": [
    "student_mm = _\n",
    "mm_points = 0\n",
    "is_list = False\n",
    "\n",
    "if isinstance(student_mm, list):\n",
    "    is_list = True\n",
    "    mm_points += 1\n",
    "    print((\"\\u2705 Nice work! The object you called is a list\"))\n",
    "else:\n",
    "    print((\"\\u274C Oops! Did you call your result at the end of the cell?\"))\n",
    "    \n",
    "if is_list:\n",
    "    if len(student_mm)==12:\n",
    "        mm_points += 1\n",
    "        print(\"\\u2705 Nice work! Your list has the correct number of values.\")\n",
    "    else:\n",
    "        print((\"\\u274C Oops! Your list has the wrong number of values\"))\n",
    "        \n",
    "    if round(sum(student_mm), 1)==513.8:\n",
    "        mm_points += 2\n",
    "        print((\"\\u2705 Nice work! Your list has the correct values in mm\"))\n",
    "    else:\n",
    "        print((\"\\u274C Oops! Some of the values in your list are incorrect\"))\n",
    "        \n",
    "print((\"\\n \\u27A1 You received {} out of 5 points for converting precipitation\"\n",
    "       \" values to mm\"\n",
    "       .format(mm_points)))\n",
    "\n",
    "mm_points"
   ]
  },
  {
   "cell_type": "markdown",
   "metadata": {
    "deletable": false,
    "editable": false,
    "nbgrader": {
     "cell_type": "markdown",
     "checksum": "f844e4d1dba130bf0f5910027394e9a8",
     "grade": false,
     "grade_id": "plot1-explanation",
     "locked": true,
     "schema_version": 3,
     "solution": false,
     "task": false
    }
   },
   "source": [
    "<img style=\"float: left;\" src=\"colored-bar.png\"/>\n",
    "\n",
    "## Plot Your Data Using Matplotlib\n",
    "\n",
    "You can add data to your plot by calling the desired `ax` object, which is the axis element that you previously defined with: \n",
    "\n",
    "`fig, ax = plt.subplots()`\n",
    "\n",
    "You can call the `.plot` method of the `ax` object and specify the arguments for the x axis (horizontal axis) and the y axis (vertical axis) of the plot as follows:\n",
    "\n",
    "`ax.plot(x_axis, y_axis)`\n",
    "\n",
    "In this example, you are adding data from lists that you previously defined, with `months` along the x axis and `boulder_monthly_precip` along the y axis.  "
   ]
  },
  {
   "cell_type": "markdown",
   "metadata": {
    "deletable": false,
    "editable": false,
    "nbgrader": {
     "cell_type": "markdown",
     "checksum": "aba6e255ddc21ba899d78c37ad19ba47",
     "grade": false,
     "grade_id": "plot1-instructions",
     "locked": true,
     "points": 6,
     "schema_version": 3,
     "solution": false,
     "task": true
    }
   },
   "source": [
    "### Customize a Scatter Plot\n",
    "\n",
    "Run the cell below these instructions to create a scatter plot. Then, do the following to customize this plot. Rerun the cell to see your changes be implemented. You may choose to plot the data in mm instead, but make sure that your axis labels match the data you use!\n",
    "\n",
    "1. Blue is the default scatter plot color. We have assigned the plot to be blue in the cell below using the `color=\"blue\"` parameter. A parameter is a value that you use to customize a function or method. In this case you are customizing the `scatter()` function (it is actually called a method) using the `color=` parameter. Change the color to something other than blue! \n",
    "2. Add a\n",
    "   * title,\n",
    "   * x axis label (optional - we can see the x-axis is for months), and\n",
    "   * y axis label (with correct units)\n",
    "   \n",
    "to your plot using the syntax:\n",
    "\n",
    "```\n",
    "ax.set(title = \"title text here\",\n",
    "       xlabel = \"x label text here\",\n",
    "       ylabel = \"y label text here\")\n",
    "```\n",
    "3. Change the marker type to something different using the list of marker options below.  \n",
    "   The default marker is `\"o\"`. If you don't specify `marker=` that is the marker type you will see in your plot.  \n",
    "\n",
    "|Marker symbol| Marker description\n",
    "|---|---|\n",
    "| . | \tpoint |\n",
    "| , |\tpixel |\n",
    "| o |\tcircle|\n",
    "| v | \ttriangle_down|\n",
    "| ^ | \ttriangle_up |\n",
    "| < |\ttriangle_left|\n",
    "| > | \ttriangle_right |\n",
    "\n",
    "For more color options, visit the <a href=\"https://matplotlib.org/gallery/color/named_colors.html#sphx-glr-gallery-color-named-colors-py\" target=\"_blank\">matplotlib documentation</a> on color. \n",
    "\n",
    "**For all three plots in this assignment: Make sure that the color combination you use is easy to read! Some common issues are:**\n",
    "  - **Light colors like yellow without a border**\n",
    "  - **Clashing colors, e.g. red and green**\n",
    "  - **Combinations that are not colorblind-safe**\n",
    "  \n",
    "You can use a 6-digit code available on the colorbrewer site instead of a named color if you prefer (Note that the code will need to be enclosed in quotes). You can check out some nice color schemes for maps at <a href=\"https://colorbrewer2.org/\" target=\"_blank\">Color Brewer.</a> There is a colorblind safe button. Most of these color schemes are good for scatter plots and bar plots as well. However, sometimes the qualitative ones do not look good when paired as the fill color and the edge color - use your judgement.\n"
   ]
  },
  {
   "cell_type": "code",
   "execution_count": 19,
   "metadata": {
    "caption": "You can use ax.scatter to create a scatter plot."
   },
   "outputs": [
    {
     "data": {
      "image/png": "[encoded data removed]",
      "text/plain": [
       "<Figure size 720x432 with 1 Axes>"
      ]
     },
     "metadata": {
      "needs_background": "light"
     },
     "output_type": "display_data"
    }
   ],
   "source": [
    "# Modify the plot code below as instructed above\n",
    "# Define plot space\n",
    "fig, ax1 = plt.subplots(figsize=(10, 6))\n",
    "\n",
    "# Create scatter plot\n",
    "ax1.scatter(months, boulder_monthly_precip_in, color=\"tab:red\", marker=\"v\")\n",
    "\n",
    "ax1.set(title = \"Monthly Precipitation in Inches in Boulder\",\n",
    "       xlabel = \"Month\",\n",
    "       ylabel = \"Precipitation (in)\");"
   ]
  },
  {
   "cell_type": "markdown",
   "metadata": {
    "deletable": false,
    "editable": false,
    "nbgrader": {
     "cell_type": "markdown",
     "checksum": "fbf06239af8808b7384e0c23bb727d00",
     "grade": false,
     "grade_id": "plot2-instructions",
     "locked": true,
     "points": 5,
     "schema_version": 3,
     "solution": false,
     "task": true
    }
   },
   "source": [
    "<img style=\"float: left;\" src=\"colored-bar.png\"/>\n",
    "\n",
    "## Customize a Barplot\n",
    "\n",
    "Below you can see code for the same plot that you created above. \n",
    "Above however you used `scatter()`. In the plot code below, see what happens if you \n",
    "change `ax.scatter()` to `ax.bar()`\n",
    "\n",
    "Once you have a bar plot, do the following:\n",
    "\n",
    "1. Set the bar colors to a color that is NOT BLUE (not the default color!)\n",
    "2. Add a plot title, and x and y axes \n",
    "3. see what happens when you add `edgecolor = 'darkblue'` parameter to your `ax.bar()` plot call.  \n",
    "\n",
    "HINT: If you aren't sure how to do this be sure to check the <a href=\"http://localhost:4000/courses/scientists-guide-to-plotting-data-in-python/plot-with-matplotlib/introduction-to-matplotlib-plots/customize-plot-colors-labels-matplotlib/\" target=\"_blank\">online plotting textbook for help! </a>\n"
   ]
  },
  {
   "cell_type": "code",
   "execution_count": 20,
   "metadata": {
    "caption": "You can use ax.bar to create a scatter bar."
   },
   "outputs": [
    {
     "data": {
      "image/png": "[encoded data removed]",
      "text/plain": [
       "<Figure size 720x432 with 1 Axes>"
      ]
     },
     "metadata": {
      "needs_background": "light"
     },
     "output_type": "display_data"
    }
   ],
   "source": [
    "# Modify the code below as instructed above\n",
    "# Define plot space\n",
    "fig, ax2 = plt.subplots(figsize=(10, 6))\n",
    "\n",
    "# Create bar plot\n",
    "ax2.bar(months, \n",
    "        boulder_monthly_precip_in,\n",
    "        color='tab:orange',\n",
    "        edgecolor='darkblue');\n",
    "\n",
    "ax2.set(title = \"Monthly Precipitation in Inches in Boulder\",\n",
    "       xlabel = \"Month\",\n",
    "       ylabel = \"Precipitation (in)\");"
   ]
  },
  {
   "cell_type": "markdown",
   "metadata": {
    "deletable": false,
    "editable": false,
    "nbgrader": {
     "cell_type": "markdown",
     "checksum": "f6542c4d4ca1b65a43422f065b8b4de9",
     "grade": false,
     "grade_id": "plot3-instructions",
     "locked": true,
     "points": 5,
     "schema_version": 3,
     "solution": false,
     "task": true
    }
   },
   "source": [
    "<img style=\"float: left;\" src=\"colored-bar.png\"/>\n",
    "\n",
    "## Modify a Map of Trails in Rocky Mountain National Park \n",
    "\n",
    "Below you download 3 data layers that represent trails, trail heads and a boundary \n",
    "layer for Rocky Mountain National Park located in Colorado, USA. Modify the plot as follows:\n",
    "\n",
    "1. Add a title to the plot.\n",
    "2. Modify the color **of each layer** in the plot\n",
    "3. Adjust the `marker` type that represents the trailheads\n"
   ]
  },
  {
   "cell_type": "code",
   "execution_count": 21,
   "metadata": {
    "deletable": false,
    "editable": false,
    "nbgrader": {
     "cell_type": "code",
     "checksum": "4a1ff7e4fa3bbb62c47bb4f7dd61a6ee",
     "grade": false,
     "grade_id": "plot4-data",
     "locked": true,
     "schema_version": 3,
     "solution": false,
     "task": false
    }
   },
   "outputs": [],
   "source": [
    "# Download Rocky Mountain National Park datasets\n",
    "opendata_url = \"https://opendata.arcgis.com/datasets/\"\n",
    "rmnp_boundary = gpd.read_file(\n",
    "    opendata_url + \"7cb5f22df8c44900a9f6632adb5f96a5_0.geojson\")\n",
    "\n",
    "rmnp_trails = gpd.read_file(\n",
    "    opendata_url + \"e1e0bcb87eb94960bc04f76e03936385_0.geojson\")\n",
    "\n",
    "trailheads = gpd.read_file(\n",
    "    opendata_url + \"55748f2f1d8a4db7aa26f7549e74be57_0.geojson\")"
   ]
  },
  {
   "cell_type": "code",
   "execution_count": 22,
   "metadata": {},
   "outputs": [
    {
     "data": {
      "image/png": "[encoded data removed]",
      "text/plain": [
       "<Figure size 720x720 with 1 Axes>"
      ]
     },
     "metadata": {
      "needs_background": "light"
     },
     "output_type": "display_data"
    }
   ],
   "source": [
    "# Modify the code below to improve the map:\n",
    "#    there are three layers plotted but they are all blue\n",
    "# You can fix this!\n",
    "# Plot the trail data - modify the code below\n",
    "\n",
    "fig, ax4 = plt.subplots(figsize=(10, 10))\n",
    "rmnp_boundary.plot(ax=ax4, color='#377eb8')\n",
    "rmnp_trails.plot(ax=ax4,\n",
    "                 linestyles='--',\n",
    "                 label=\"Hiking Trails\",\n",
    "                 color='darkgray')\n",
    "\n",
    "trailheads.plot(ax=ax4,\n",
    "                label=\"Trailheads\",\n",
    "                color='#ff7f00',\n",
    "                marker='^',\n",
    "                markersize=60)\n",
    "\n",
    "ax4.set_axis_off()\n",
    "\n",
    "ax4.set_title(\"Map of Trails and Trailheads in Rocky Mountain National Park\");"
   ]
  },
  {
   "cell_type": "markdown",
   "metadata": {
    "deletable": false,
    "editable": false,
    "nbgrader": {
     "cell_type": "markdown",
     "checksum": "71ce69f649740a7a4c8c1713ddfbe469",
     "grade": false,
     "grade_id": "github-points",
     "locked": true,
     "points": 25,
     "schema_version": 3,
     "solution": false,
     "task": true
    }
   },
   "source": [
    "## Assignment Submitted Using GitHub\n",
    "\n",
    "Once you commit this notebook to GitHub,\n",
    "we will give you points for it being complete and in the correct location!\n",
    "\n",
    "Be sure to run the notebook from the beginning (restart and run all) to ensure the first cell begins at [1] and that everything runs properly!"
   ]
  },
  {
   "cell_type": "markdown",
   "metadata": {
    "deletable": false,
    "editable": false,
    "nbgrader": {
     "cell_type": "markdown",
     "checksum": "f16ed818dc5f486aaa6557054a82cf1b",
     "grade": false,
     "grade_id": "notebook-running-points",
     "locked": true,
     "points": 5,
     "schema_version": 3,
     "solution": false,
     "task": true
    }
   },
   "source": [
    "## Notebook Runs From Start to Finish\n",
    "Assignment starts at [1] and runs all the way through on a fresh kernel. "
   ]
  },
  {
   "cell_type": "markdown",
   "metadata": {
    "deletable": false,
    "editable": false,
    "nbgrader": {
     "cell_type": "markdown",
     "checksum": "9db2c04e840d32c188cb0e7aa2f13409",
     "grade": false,
     "grade_id": "resources",
     "locked": true,
     "schema_version": 3,
     "solution": false,
     "task": false
    }
   },
   "source": [
    "<img style=\"float: left;\" src=\"colored-bar.png\"/>\n",
    "\n",
    "## Additional Resources\n",
    "\n",
    "* Additional information about [color bars](http://joseph-long.com/writing/colorbars/) \n",
    "* An [in-depth guide to matplotlib](https://realpython.com/blog/python/python-matplotlib-guide/)"
   ]
  }
 ],
 "metadata": {
  "anaconda-cloud": {},
  "jupytext": {
   "formats": "ipynb,md"
  },
  "kernelspec": {
   "display_name": "Python 3 (ipykernel)",
   "language": "python",
   "name": "python3"
  },
  "language_info": {
   "codemirror_mode": {
    "name": "ipython",
    "version": 3
   },
   "file_extension": ".py",
   "mimetype": "text/x-python",
   "name": "python",
   "nbconvert_exporter": "python",
   "pygments_lexer": "ipython3",
   "version": "3.9.10"
  },
  "toc": {
   "base_numbering": 1,
   "nav_menu": {},
   "number_sections": true,
   "sideBar": true,
   "skip_h1_title": true,
   "title_cell": "Table of Contents",
   "title_sidebar": "Contents",
   "toc_cell": false,
   "toc_position": {},
   "toc_section_display": true,
   "toc_window_display": true
  },
  "varInspector": {
   "cols": {
    "lenName": 16,
    "lenType": 16,
    "lenVar": 40
   },
   "kernels_config": {
    "python": {
     "delete_cmd_postfix": "",
     "delete_cmd_prefix": "del ",
     "library": "var_list.py",
     "varRefreshCmd": "print(var_dic_list())"
    },
    "r": {
     "delete_cmd_postfix": ") ",
     "delete_cmd_prefix": "rm(",
     "library": "var_list.r",
     "varRefreshCmd": "cat(var_dic_list()) "
    }
   },
   "types_to_exclude": [
    "module",
    "function",
    "builtin_function_or_method",
    "instance",
    "_Feature"
   ],
   "window_display": false
  }
 },
 "nbformat": 4,
 "nbformat_minor": 2
}
