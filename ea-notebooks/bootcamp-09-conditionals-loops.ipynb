{
 "cells": [
  {
   "cell_type": "markdown",
   "id": "e5d96320",
   "metadata": {},
   "source": [
    "<img style=\"float: left;\" src=\"earth-lab-logo-rgb.png\" width=\"150\" height=\"150\" />\n",
    "\n",
    "# Earth Analytics Education"
   ]
  },
  {
   "cell_type": "markdown",
   "id": "f21b6cf4",
   "metadata": {},
   "source": [
    "## Important  - Assignment Guidelines\n",
    "\n",
    "1. Before you submit your assignment to GitHub, make sure to run the entire notebook with a fresh kernel. To do this first, **restart the kernel** (in the menubar, select Kernel$\\rightarrow$Restart & Run All)\n",
    "2. Always replace the `raise NotImplementedError()` code with your code that addresses the activity challenge. If you don't replace that code, your notebook will not run.\n",
    "\n",
    "```\n",
    "# YOUR CODE HERE\n",
    "raise NotImplementedError()\n",
    "```\n",
    "\n",
    "3. Any open ended questions will have a \"YOUR ANSWER HERE\" within a markdown cell. Replace that text with your answer also formatted using Markdown.\n",
    "4. **DO NOT RENAME THIS NOTEBOOK File!** If the file name changes, the autograder will not grade your assignment properly.\n",
    "\n",
    "* Only include the package imports, code, and outputs that are required to run your homework assignment.\n",
    "* Be sure that your code can be run on any operating system. This means that:\n",
    "   1. the data should be downloaded in the notebook to ensure it's reproducible\n",
    "   2. all paths should be created dynamically using the `os.path.join`\n",
    "   3. sort lists of dated files even if they are sorted correctly by default on your machine\n",
    "\n",
    "## Follow to PEP 8 Syntax Guidelines & Documentation\n",
    "\n",
    "* Run the `autopep8` tool on all cells prior to submitting (HINT: hit shift + the tool to run it on all cells at once!\n",
    "* Use clear and expressive names for variables. \n",
    "* Organize your code to support readability.\n",
    "* Check for code line length\n",
    "* Use comments and white space sparingly where it is needed\n",
    "* Make sure all python imports are at the top of your notebook and follow PEP 8 order conventions\n",
    "* Spell check your Notebook before submitting it.\n",
    "\n",
    "For all of the plots below, be sure to do the following:\n",
    "\n",
    "* Make sure each plot has a clear TITLE and, where appropriate, label the x and y axes. Be sure to include UNITS in your labels.\n"
   ]
  },
  {
   "cell_type": "markdown",
   "id": "a694cce0",
   "metadata": {},
   "source": [
    "### Add Your Name Below \n",
    "**Michael Murdock**"
   ]
  },
  {
   "cell_type": "markdown",
   "id": "d2e8f3a0",
   "metadata": {},
   "source": [
    "<img style=\"float: left;\" src=\"colored-bar.png\"/>"
   ]
  },
  {
   "cell_type": "markdown",
   "id": "8de76c6f",
   "metadata": {},
   "source": [
    "---"
   ]
  },
  {
   "cell_type": "markdown",
   "id": "a3223e12",
   "metadata": {
    "deletable": false,
    "editable": false,
    "nbgrader": {
     "cell_type": "markdown",
     "checksum": "63d77091b6538e8bc025993bee395c49",
     "grade": false,
     "grade_id": "overview",
     "locked": true,
     "schema_version": 3,
     "solution": false,
     "task": false
    }
   },
   "source": [
    "# Thomas Fire: Leaf Area Index\n",
    "\n",
    "One of the effects of wildfire is to decrease vegetation. In this notebook, you will use earth observations from the MODIS platform to visualize changes in vegetation due to California's Thomas Fire of 2017."
   ]
  },
  {
   "cell_type": "markdown",
   "id": "4a934bd3",
   "metadata": {
    "deletable": false,
    "editable": false,
    "nbgrader": {
     "cell_type": "markdown",
     "checksum": "df1c02ed98d35daae885ef0919e6cf47",
     "grade": false,
     "grade_id": "instr-imports",
     "locked": true,
     "schema_version": 3,
     "solution": false,
     "task": false
    }
   },
   "source": [
    "## Step 1: Set up an interoperable analysis\n",
    "\n",
    "### Imports\n",
    "In the cell below, import necessary packages to:\n",
    "  * Define interoperable file paths\n",
    "  * Work with vector data\n",
    "  * Work with raster data\n",
    "  * Generate sequences of dates (HINT: what package did we use for time series data?)\n",
    "  * Generate plots\n",
    "  \n",
    "In addition, you will need the `requests` library to download data in the JSON format, the numpy (as np) library to work with arrays, and the `json` **standard library** to cache your downloads in .json files, and the `clear_output` function from the `IPython.display` library for creating animations."
   ]
  },
  {
   "cell_type": "code",
   "execution_count": 1,
   "id": "7a313268",
   "metadata": {
    "deletable": false,
    "nbgrader": {
     "cell_type": "code",
     "checksum": "6f877ce12e05fcb22ab76b793ec817d4",
     "grade": false,
     "grade_id": "ans-import",
     "locked": false,
     "schema_version": 3,
     "solution": true,
     "task": false
    }
   },
   "outputs": [],
   "source": [
    "from IPython.display import clear_output\n",
    "\n",
    "import json\n",
    "import os\n",
    "import pathlib\n",
    "import time\n",
    "\n",
    "import matplotlib.pyplot as plt\n",
    "import geopandas as gpd\n",
    "import earthpy as et\n",
    "import xarray as xr\n",
    "import rioxarray as rxr\n",
    "import requests\n",
    "import pandas as pd\n",
    "import numpy as np"
   ]
  },
  {
   "cell_type": "code",
   "execution_count": 2,
   "id": "ee0cddf7",
   "metadata": {
    "deletable": false,
    "editable": false,
    "nbgrader": {
     "cell_type": "code",
     "checksum": "26859903a1868f4e9ecf2531139eae0c",
     "grade": true,
     "grade_id": "tests-import",
     "locked": true,
     "points": 9,
     "schema_version": 3,
     "solution": false,
     "task": false
    }
   },
   "outputs": [
    {
     "name": "stdout",
     "output_type": "stream",
     "text": [
      "✅ Correctly imported json\n",
      "✅ Correctly imported os\n",
      "✅ Correctly imported gpd\n",
      "✅ Correctly imported clear_output\n",
      "✅ Correctly imported np\n",
      "✅ Correctly imported plt\n",
      "✅ Correctly imported pd\n",
      "✅ Correctly imported requests\n",
      "✅ Correctly imported rxr\n",
      "You received 9 of 9 points for imports.\n"
     ]
    },
    {
     "data": {
      "text/plain": [
       "9"
      ]
     },
     "execution_count": 2,
     "metadata": {},
     "output_type": "execute_result"
    }
   ],
   "source": [
    "import_pts = 0\n",
    "\n",
    "libraries = [\n",
    "    'json', 'os', 'gpd', 'clear_output', 'np', 'plt', 'pd', 'requests', 'rxr'\n",
    "]\n",
    "\n",
    "for library in libraries:\n",
    "    try:\n",
    "        exec(library)\n",
    "        print('\\u2705 Correctly imported {}'.format(library))\n",
    "        import_pts += 1\n",
    "    except:\n",
    "        print('\\u274C Missing {}'.format(library))\n",
    "        \n",
    "print('You received {} of 9 points for imports.'.format(import_pts))\n",
    "import_pts"
   ]
  },
  {
   "cell_type": "markdown",
   "id": "31b7c9dd",
   "metadata": {
    "deletable": false,
    "editable": false,
    "nbgrader": {
     "cell_type": "markdown",
     "checksum": "c0ae3f7b5e59c071b175082200a3808e",
     "grade": false,
     "grade_id": "task-wd-conditional",
     "locked": true,
     "points": 5,
     "schema_version": 3,
     "solution": false,
     "task": true
    }
   },
   "source": [
    "### Working Directory\n",
    "In the cell below, change your working directory so that your code will be interoperable. Create two directories for:\n",
    "  * the Thomas Fire perimeter shapefile, `thomas-fire-perimeter`\n",
    "  * the MODIS LAI data subset downloads, `thomas-modis-lai`\n",
    "  \n",
    "**Please use those names! Otherwise I will have to download the data 30 times, which will take some time.**\n",
    "  \n",
    "Write descriptive, robust, and DRY code to set the directory paths:\n",
    "  * Use conditional statement(s) to check if the directories already exist, and create them if they do not.\n",
    "  * Print out descriptive messages about what your code is doing.\n",
    "  * Instead of writing the code out twice, use a `for` loop to create the directories\n",
    "\n",
    "Call both directory paths at the end of your cell for testing."
   ]
  },
  {
   "cell_type": "code",
   "execution_count": 3,
   "id": "0ffe091a",
   "metadata": {
    "deletable": false,
    "nbgrader": {
     "cell_type": "code",
     "checksum": "50776bae848dec2108229ff034139d16",
     "grade": false,
     "grade_id": "ans-wd",
     "locked": false,
     "schema_version": 3,
     "solution": true,
     "task": false
    }
   },
   "outputs": [
    {
     "name": "stdout",
     "output_type": "stream",
     "text": [
      "thomas-fire-perimeter thomas-modis-lai\n"
     ]
    }
   ],
   "source": [
    "# Set working dir\n",
    "os.chdir(os.path.join(et.io.HOME,\n",
    "                      'earth-analytics',\n",
    "                      'data',\n",
    "                      'earthpy-downloads'))\n",
    "\n",
    "# Define dirs for shapefile and subset downloads\n",
    "dirs = ['thomas-fire-perimeter', 'thomas-modis-lai']\n",
    "\n",
    "# Create new dirs if they don't exist\n",
    "for dir_ in dirs:\n",
    "    path = os.path.join(os.getcwd(), dir_)\n",
    "    if not os.path.exists(dir_):\n",
    "        print(f'Creating directory: {path}')\n",
    "        os.makedirs(dir_)\n",
    "\n",
    "print(*dirs)"
   ]
  },
  {
   "cell_type": "markdown",
   "id": "6eb0e63d",
   "metadata": {
    "deletable": false,
    "editable": false,
    "nbgrader": {
     "cell_type": "markdown",
     "checksum": "1c2348cd36f88d1db6a6ec31f3e9872f",
     "grade": false,
     "grade_id": "task-description",
     "locked": true,
     "points": 5,
     "schema_version": 3,
     "solution": false,
     "task": true
    }
   },
   "source": [
    "## Site description\n",
    "\n",
    "In the cell below, write a brief site description, citing sources you used to learn about the Thomas Fire. Include:\n",
    "  * Location and dates of the fire\n",
    "  * Size of the fire\n",
    "  * Climate and ecoregion of the surrounding area\n",
    "  * Any natural hazards that occurred as a result of the fire\n",
    "  "
   ]
  },
  {
   "cell_type": "markdown",
   "id": "84c2dca5",
   "metadata": {},
   "source": [
    "- Southern California by Santa Barbara and Ventura County, December 2017. \n",
    "- 400+ sqaure miles\n",
    "- Dry, minimal precipitation, geographical features of chaparral and forest, extremely high Santa Ana winds\n",
    "- Debris flows into Montecito, extensive amounts of chaparal burned, and around ~1063 structures destroyed."
   ]
  },
  {
   "cell_type": "markdown",
   "id": "31c2c6db",
   "metadata": {
    "deletable": false,
    "editable": false,
    "nbgrader": {
     "cell_type": "markdown",
     "checksum": "2282e1359a8f410afa9e0d600d0118cd",
     "grade": false,
     "grade_id": "task-thomas-download",
     "locked": true,
     "points": 5,
     "schema_version": 3,
     "solution": false,
     "task": true
    }
   },
   "source": [
    "## Step 2: Download  the Thomas Fire perimeter\n",
    "### Construct a download url\n",
    "Fire perimeter data in the US is available from the [National Interagency Fire Center](https://data-nifc.opendata.arcgis.com/).\n",
    "\n",
    "You can find the Thomas fire perimeter using the following procedure:\n",
    "  1. Open the [National Interagency Fire Center Fire Perimeter API constructor](https://data-nifc.opendata.arcgis.com/datasets/nifc::historic-perimeters-combined-2000-2018-geomac/api) in your web browser.\n",
    "  2. Add an `incidentname` parameter that is like `THOMAS`, a `YEAR` between 2017 and 2018, and a `state` like `CA`\n",
    "  3. Click `Copy to clipboard` to get the url, which you will use to download the data. Save the url to a Python variable in the cell below."
   ]
  },
  {
   "cell_type": "code",
   "execution_count": 4,
   "id": "c83eb5ac",
   "metadata": {
    "deletable": false,
    "nbgrader": {
     "cell_type": "code",
     "checksum": "4daaaad7d61aa15fa93cefdbd6ed26b3",
     "grade": false,
     "grade_id": "ans-thomas-download",
     "locked": false,
     "schema_version": 3,
     "solution": true,
     "task": false
    }
   },
   "outputs": [
    {
     "data": {
      "text/plain": [
       "\"https://services3.arcgis.com/T4QMspbfLg3qTGWY/arcgis/rest/services/Historic_Geomac_Perimeters_Combined_2000_2018/FeatureServer/0/query?where=incidentname%20%3D%20'THOMAS'%20AND%20%20(fireyear%20%3D%202017%20OR%20fireyear%20%3D%202018)%20%20AND%20state%20%3D%20'CA'&outFields=*&outSR=4326&f=json\""
      ]
     },
     "execution_count": 4,
     "metadata": {},
     "output_type": "execute_result"
    }
   ],
   "source": [
    "# Define url\n",
    "url = (\"https://services3.arcgis.com/T4QMspbfLg3qTGWY/arcgis/rest/services/\"\n",
    "       \"Historic_Geomac_Perimeters_Combined_2000_2018/FeatureServer/0/query\"\n",
    "       \"?where=\"\n",
    "       \"incidentname%20%3D%20'THOMAS'\"\n",
    "       \"%20AND%20%20(fireyear%20%3D%202017%20OR%20fireyear%20%3D%202018)\"\n",
    "       \"%20%20AND%20state%20%3D%20'CA'\"\n",
    "       \"&outFields=*\"\n",
    "       \"&outSR=4326\"\n",
    "       \"&f=json\")\n",
    "\n",
    "url"
   ]
  },
  {
   "cell_type": "markdown",
   "id": "63402539",
   "metadata": {
    "deletable": false,
    "editable": false,
    "nbgrader": {
     "cell_type": "markdown",
     "checksum": "86d36de4d50f6cc4b781b229f84c1ef5",
     "grade": false,
     "grade_id": "task-cite",
     "locked": true,
     "points": 2,
     "schema_version": 3,
     "solution": false,
     "task": true
    }
   },
   "source": [
    "### Cite your data\n",
    "In the cell below, cite the Thomas Fire perimeter data. They do not specify how to cite the data, so you will need to construct a citation in APA format using information from their web page."
   ]
  },
  {
   "cell_type": "markdown",
   "id": "f1059199",
   "metadata": {},
   "source": [
    "Historic perimeters combined 2000-2018 geomac. National Interagency Fire Center. (n.d.). Retrieved November 1, 2022, from https://data-nifc.opendata.arcgis.com/datasets/nifc::historic-perimeters-combined-2000-2018-geomac/about "
   ]
  },
  {
   "cell_type": "markdown",
   "id": "030a1364",
   "metadata": {
    "deletable": false,
    "editable": false,
    "nbgrader": {
     "cell_type": "markdown",
     "checksum": "8a04bd2e33cc6de4315cd5b2a44e8362",
     "grade": false,
     "grade_id": "inst-download-thomas",
     "locked": true,
     "schema_version": 3,
     "solution": false,
     "task": false
    }
   },
   "source": [
    "### Download and Cache the Thomas Fire perimeter\n",
    "In the cell below, \n",
    "  * Download the Thomas Fire perimeter\n",
    "  * You will get two geometries back from the API. Select the one with the larger area.\n",
    "      > Select the row where the `gisacres` column value is equal to the maximum\n",
    "  * Using a **conditional statement**, make sure to **cache** the single fire perimeter in a shapefile. Your code should load the perimeter from that file if the file already exists.\n",
    "\n",
    "      > Check out the `.to_file` method of your `GeoDataFrame`.\n",
    "    \n",
    "Call the **path** to your GeoDataFrame at the end of the cell for testing."
   ]
  },
  {
   "cell_type": "code",
   "execution_count": 5,
   "id": "9d468682",
   "metadata": {
    "deletable": false,
    "nbgrader": {
     "cell_type": "code",
     "checksum": "afdc328fd8815f09e943267bfe4a3a09",
     "grade": false,
     "grade_id": "ans-download-thomas",
     "locked": false,
     "schema_version": 3,
     "solution": true,
     "task": false
    },
    "scrolled": true
   },
   "outputs": [
    {
     "data": {
      "text/plain": [
       "'thomas-fire-perimeter/thomas-fire-perimeter.shp'"
      ]
     },
     "execution_count": 5,
     "metadata": {},
     "output_type": "execute_result"
    }
   ],
   "source": [
    "# Set path to shape file\n",
    "thomas_path = os.path.join(dirs[0], 'thomas-fire-perimeter.shp')\n",
    "\n",
    "# Cache max gisacres row in shapefile\n",
    "if not os.path.exists(thomas_path):\n",
    "    thomas_gdf = gpd.read_file(url)\n",
    "    thomas_gdf.loc[[df['gisacres'].idxmax()]].to_file(thomas_path)\n",
    "\n",
    "# Read in the shp file\n",
    "thomas_gdf = gpd.read_file(thomas_path)\n",
    "\n",
    "thomas_path"
   ]
  },
  {
   "cell_type": "code",
   "execution_count": 6,
   "id": "db580f87",
   "metadata": {
    "deletable": false,
    "editable": false,
    "nbgrader": {
     "cell_type": "code",
     "checksum": "aea40e5880b60c8feba10c65c8330287",
     "grade": true,
     "grade_id": "tests-download-thomas",
     "locked": true,
     "points": 6,
     "schema_version": 3,
     "solution": false,
     "task": false
    }
   },
   "outputs": [
    {
     "name": "stdout",
     "output_type": "stream",
     "text": [
      "✅ Great! Your file exists.\n",
      "✅ Great! Your file contains vector data.\n",
      "You received 6 of 6 points for downloading and caching data\n"
     ]
    },
    {
     "data": {
      "text/plain": [
       "6"
      ]
     },
     "execution_count": 6,
     "metadata": {},
     "output_type": "execute_result"
    }
   ],
   "source": [
    "ans_path = _\n",
    "download_thomas_pts = 0\n",
    "\n",
    "# Test if the file exists\n",
    "if os.path.exists(ans_path):\n",
    "    print('\\u2705 Great! Your file exists.')\n",
    "    download_thomas_pts += 2\n",
    "else:\n",
    "    print('\\u274C {} does not exist'.format(ans_path))\n",
    "\n",
    "# Test if the file can be loaded by geopandas\n",
    "try:\n",
    "    gpd.read_file(ans_path)\n",
    "    download_thomas_pts += 4\n",
    "    print('\\u2705 Great! Your file contains vector data.')\n",
    "except:\n",
    "    print('\\u274C There is something wrong with your file: {}'\n",
    "          .format(ans_path))\n",
    "\n",
    "print('You received {} of 6 points for downloading and caching data'\n",
    "      .format(download_thomas_pts))\n",
    "\n",
    "download_thomas_pts"
   ]
  },
  {
   "cell_type": "markdown",
   "id": "715bbf0a",
   "metadata": {
    "deletable": false,
    "editable": false,
    "nbgrader": {
     "cell_type": "markdown",
     "checksum": "f2ae548a623cea015c4dc41a9865d4eb",
     "grade": false,
     "grade_id": "instr-reproject-thomas",
     "locked": true,
     "schema_version": 3,
     "solution": false,
     "task": false
    }
   },
   "source": [
    "### Reproject the Thomas Fire perimeter to match the MODIS projection\n",
    "You will be using MODIS raster data to examine the vegetation. The projection of MODIS data IS NOT CLEAR in the documentation. It is:\n",
    "\n",
    "    +proj=sinu +lon_0=0 +x_0=0 +y_0=0 +a=6371007.181 +b=6371007.181 +units=m +no_defs\n",
    "    \n",
    "Reproject the Thomas Fire Perimeter in the MODIS projection and the call the reprojected `GeoDataFrame` for testing. You can use the PROJ4 projection format above as an argument to the reprojection method."
   ]
  },
  {
   "cell_type": "code",
   "execution_count": 7,
   "id": "758db523",
   "metadata": {
    "deletable": false,
    "nbgrader": {
     "cell_type": "code",
     "checksum": "e5d18c063bea1f911782bdcee2404283",
     "grade": false,
     "grade_id": "ans-reproject",
     "locked": false,
     "schema_version": 3,
     "solution": true,
     "task": false
    }
   },
   "outputs": [
    {
     "data": {
      "text/html": [
       "<div>\n",
       "<style scoped>\n",
       "    .dataframe tbody tr th:only-of-type {\n",
       "        vertical-align: middle;\n",
       "    }\n",
       "\n",
       "    .dataframe tbody tr th {\n",
       "        vertical-align: top;\n",
       "    }\n",
       "\n",
       "    .dataframe thead th {\n",
       "        text-align: right;\n",
       "    }\n",
       "</style>\n",
       "<table border=\"1\" class=\"dataframe\">\n",
       "  <thead>\n",
       "    <tr style=\"text-align: right;\">\n",
       "      <th></th>\n",
       "      <th>OBJECTID</th>\n",
       "      <th>agency</th>\n",
       "      <th>comments</th>\n",
       "      <th>mapmethod</th>\n",
       "      <th>datecurren</th>\n",
       "      <th>uniquefire</th>\n",
       "      <th>fireyear</th>\n",
       "      <th>incidentna</th>\n",
       "      <th>pooownerun</th>\n",
       "      <th>perimeterd</th>\n",
       "      <th>...</th>\n",
       "      <th>poorespons</th>\n",
       "      <th>state</th>\n",
       "      <th>inciwebid</th>\n",
       "      <th>localincid</th>\n",
       "      <th>irwinid</th>\n",
       "      <th>incomplex</th>\n",
       "      <th>complexfir</th>\n",
       "      <th>shape__Are</th>\n",
       "      <th>shape__Len</th>\n",
       "      <th>geometry</th>\n",
       "    </tr>\n",
       "  </thead>\n",
       "  <tbody>\n",
       "    <tr>\n",
       "      <th>0</th>\n",
       "      <td>19</td>\n",
       "      <td>C&amp;L</td>\n",
       "      <td>Event Standard Perims</td>\n",
       "      <td>Unknown</td>\n",
       "      <td>1514419200000</td>\n",
       "      <td>2017-CAVNC-103156</td>\n",
       "      <td>2017</td>\n",
       "      <td>THOMAS</td>\n",
       "      <td>CAVNC</td>\n",
       "      <td>1514397660000</td>\n",
       "      <td>...</td>\n",
       "      <td>CAVNC</td>\n",
       "      <td>CA</td>\n",
       "      <td>5670</td>\n",
       "      <td>103156</td>\n",
       "      <td>943d8086-7df4-47c7-bb98-a358e962667e</td>\n",
       "      <td>N</td>\n",
       "      <td>None</td>\n",
       "      <td>1.681720e+09</td>\n",
       "      <td>534069.193173</td>\n",
       "      <td>MULTIPOLYGON (((-10925911.553 3851461.951, -10...</td>\n",
       "    </tr>\n",
       "  </tbody>\n",
       "</table>\n",
       "<p>1 rows × 24 columns</p>\n",
       "</div>"
      ],
      "text/plain": [
       "   OBJECTID agency               comments mapmethod     datecurren  \\\n",
       "0        19    C&L  Event Standard Perims   Unknown  1514419200000   \n",
       "\n",
       "          uniquefire  fireyear incidentna pooownerun     perimeterd  ...  \\\n",
       "0  2017-CAVNC-103156      2017     THOMAS      CAVNC  1514397660000  ...   \n",
       "\n",
       "   poorespons state inciwebid localincid  \\\n",
       "0       CAVNC    CA      5670     103156   \n",
       "\n",
       "                                irwinid incomplex complexfir    shape__Are  \\\n",
       "0  943d8086-7df4-47c7-bb98-a358e962667e         N       None  1.681720e+09   \n",
       "\n",
       "      shape__Len                                           geometry  \n",
       "0  534069.193173  MULTIPOLYGON (((-10925911.553 3851461.951, -10...  \n",
       "\n",
       "[1 rows x 24 columns]"
      ]
     },
     "execution_count": 7,
     "metadata": {},
     "output_type": "execute_result"
    }
   ],
   "source": [
    "# Define MODIS projection\n",
    "modis_crs = ('+proj=sinu +lon_0=0 +x_0=0 +y_0=0 +a=6371007.181 '\n",
    "             '+b=6371007.181 +units=m +no_defs')\n",
    "\n",
    "# Reproject thomas fire perimeter\n",
    "thomas_sinu_gdf = thomas_gdf.to_crs(modis_crs)\n",
    "\n",
    "thomas_sinu_gdf"
   ]
  },
  {
   "cell_type": "code",
   "execution_count": 8,
   "id": "282851ab",
   "metadata": {
    "deletable": false,
    "editable": false,
    "nbgrader": {
     "cell_type": "code",
     "checksum": "e14aa660adc46005a72ecb903b02fa58",
     "grade": true,
     "grade_id": "tests-reproject",
     "locked": true,
     "points": 5,
     "schema_version": 3,
     "solution": false,
     "task": false
    }
   },
   "outputs": [
    {
     "name": "stdout",
     "output_type": "stream",
     "text": [
      "✅ Nice work! Your response is a GeoDataFrame.\n",
      "✅ Great! Your GeoDataFrame has the correct CRS.\n",
      "✅ Great! Your GeoDataFrame has the correct bounds\n",
      "You received 5 of 5 points for reprojecting the perimeter\n"
     ]
    },
    {
     "data": {
      "text/plain": [
       "5"
      ]
     },
     "execution_count": 8,
     "metadata": {},
     "output_type": "execute_result"
    }
   ],
   "source": [
    "ans_reproject = _\n",
    "reproject_pts = 0\n",
    "\n",
    "correct_crs = (\n",
    "    \"+proj=sinu +lon_0=0 +x_0=0 +y_0=0 +a=6371007.181 +b=6371007.181 \"\n",
    "    \"+units=m +no_defs +type=crs\")\n",
    "correct_bounds = [-10973718, 3811755, -10903862, 3851514]\n",
    "\n",
    "# Test if the response is a GeoDataFrame\n",
    "if isinstance(ans_reproject, gpd.GeoDataFrame):\n",
    "    print('\\u2705 Nice work! Your response is a GeoDataFrame.')\n",
    "    reproject_pts += 1\n",
    "else:\n",
    "    print('\\u274C Please return your reprojected GeoDataFrame'\n",
    "          .format(ans_path))\n",
    "    \n",
    "# Test if the CRS is the MODIS Sinusoidal projection\n",
    "if ans_reproject.crs==correct_crs:\n",
    "    print('\\u2705 Great! Your GeoDataFrame has the correct CRS.')\n",
    "    reproject_pts += 2\n",
    "else:\n",
    "    print('\\u274C Incorrect CRS'.format(ans_path))\n",
    "\n",
    "# Test if the total_bounds of the data is correct\n",
    "if [round(b) for b in ans_reproject.total_bounds]==correct_bounds:\n",
    "    print('\\u2705 Great! Your GeoDataFrame has the correct bounds')\n",
    "    reproject_pts += 2\n",
    "else:\n",
    "    print('\\u274C Incorrect bounds - check your work')\n",
    "    \n",
    "print('You received {} of 5 points for reprojecting the perimeter'\n",
    "      .format(reproject_pts))\n",
    "\n",
    "reproject_pts"
   ]
  },
  {
   "cell_type": "markdown",
   "id": "2ead52c4",
   "metadata": {
    "deletable": false,
    "editable": false,
    "nbgrader": {
     "cell_type": "markdown",
     "checksum": "2601137ed79225761bed8537cdd875f7",
     "grade": false,
     "grade_id": "overview-modis",
     "locked": true,
     "schema_version": 3,
     "solution": false,
     "task": false
    }
   },
   "source": [
    "## MODIS LAI data for the location and time of the Thomas Fire\n",
    "\n",
    "Now that you have prepared your site boundary, you will add [MODIS LAI data, part of the MODIS Land Product collection](https://daac.ornl.gov/cgi-bin/dsviewer.pl?ds_id=1557) to visualize the impact of the Thomas Fire on vegetation."
   ]
  },
  {
   "cell_type": "markdown",
   "id": "a0cb0e43",
   "metadata": {
    "deletable": false,
    "editable": false,
    "nbgrader": {
     "cell_type": "markdown",
     "checksum": "8bbbf97e5c25bf877c60727e0cd470e7",
     "grade": false,
     "grade_id": "task-cite-modis",
     "locked": true,
     "points": 2,
     "schema_version": 3,
     "solution": false,
     "task": true
    }
   },
   "source": [
    "### Cite the MODIS LAI data\n",
    "In the cell below, cite the MODIS LAI data. Though it is not required by the citation, you should also make a note of your access date and any other details you would need to get the same data in the future.\n"
   ]
  },
  {
   "cell_type": "markdown",
   "id": "12b436f8",
   "metadata": {},
   "source": [
    "ORNL DAAC. 2018. MODIS Collection 6 Land Product Subsets Web Service. ORNL DAAC, Oak Ridge, Tennessee, USA. Accessed on November 2, 2022. https://doi.org/10.3334/ORNLDAAC/1557"
   ]
  },
  {
   "cell_type": "markdown",
   "id": "d2e77bd3",
   "metadata": {
    "deletable": false,
    "editable": false,
    "nbgrader": {
     "cell_type": "markdown",
     "checksum": "262ad9668a4b4f6b93e2d2b60fd1f5bb",
     "grade": false,
     "grade_id": "task-lai",
     "locked": true,
     "points": 3,
     "schema_version": 3,
     "solution": false,
     "task": true
    }
   },
   "source": [
    "### Define Leaf Area Index (LAI)\n",
    "\n",
    "In the cell below, explain what leaf area index (LAI) is and why we might expect to see a change in LAI due to wildfire. You should consult the [MODIS LAI User Guide](https://lpdaac.usgs.gov/documents/2/mod15_user_guide.pdf) to check what definition of LAI they use - this is important for comparing with field data.\n"
   ]
  },
  {
   "cell_type": "markdown",
   "id": "87841bf7",
   "metadata": {},
   "source": [
    "Leaf Area Index is the amount of leaf material in a canopy, specifically the one-sided green leaf area per unit ground surface area in broadleaf canopies. A wildfire would likely destroy vegetation and reduce the leaf to ground area ratio (i.e, 2:1 -> 1:1) or the layers of vegetation before ground. "
   ]
  },
  {
   "cell_type": "markdown",
   "id": "14b3dfb8",
   "metadata": {
    "deletable": false,
    "editable": false,
    "nbgrader": {
     "cell_type": "markdown",
     "checksum": "426ec8c57688645d307d0593f7fb2f97",
     "grade": false,
     "grade_id": "task-docs",
     "locked": true,
     "points": 5,
     "schema_version": 3,
     "solution": false,
     "task": true
    }
   },
   "source": [
    "### Check the documentation\n",
    "\n",
    "You will need to retrieve some key details from the documentation to use these data, since they are not stored in a self-documenting format. At a minimum, you should check:\n",
    "  * Are there nodata values?\n",
    "  * Is the data scaled?\n",
    "  * What is the valid range of LAI values?\n",
    "  * Are the data available at the time and location of the Thomas Fire?\n",
    "  \n",
    "Put the answers you find in the cell below.\n"
   ]
  },
  {
   "cell_type": "markdown",
   "id": "fb27261b",
   "metadata": {},
   "source": [
    "- 249-255\n",
    "- By .1\n",
    "- 0-100 \n",
    "- Yes it is"
   ]
  },
  {
   "cell_type": "markdown",
   "id": "896ea25d",
   "metadata": {
    "deletable": false,
    "editable": false,
    "nbgrader": {
     "cell_type": "markdown",
     "checksum": "b578ac4e289bd4dfe51721ed29f0f16d",
     "grade": false,
     "grade_id": "instr-bounds",
     "locked": true,
     "schema_version": 3,
     "solution": false,
     "task": false
    }
   },
   "source": [
    "### Define the data bounds\n",
    "You will need the following values to subset the data:\n",
    "  * The center of the Thomas Fire perimeter as a latitude and longitude\n",
    "  * The number of km above and below the center the perimeter extends\n",
    "  * The number of km to the left and right of the center the perimeter extends\n",
    "  * Start and end date of the study (January 1, 2014 - December 31, 2018) as strings\n",
    "  \n",
    "    > Use the `.total_bounds` attribute of your fire perimeter `GeoDataFrame`s to calculate the spatial values. It may be helpful to draw a diagram.\n",
    "    \n",
    "Call four values for testing: latitude, longitude, km_above_below, km_left_right"
   ]
  },
  {
   "cell_type": "code",
   "execution_count": 9,
   "id": "b7a97f79",
   "metadata": {
    "deletable": false,
    "nbgrader": {
     "cell_type": "code",
     "checksum": "b626aa68a1720b36bd916a9641ac0b03",
     "grade": false,
     "grade_id": "ans-bounds",
     "locked": false,
     "schema_version": 3,
     "solution": true,
     "task": false
    }
   },
   "outputs": [
    {
     "data": {
      "text/plain": [
       "(34.45867831513905, -119.303403088672, 19, 34)"
      ]
     },
     "execution_count": 9,
     "metadata": {},
     "output_type": "execute_result"
    }
   ],
   "source": [
    "# Define start & end dates\n",
    "start_date = '2014-01-01'\n",
    "end_date = '2018-12-31'\n",
    "\n",
    "# Define product\n",
    "prod = 'MCD15A3H'\n",
    "\n",
    "# Define scale factor\n",
    "scale_factor = 0.1\n",
    "\n",
    "# Define max valid range\n",
    "max_valid = 100\n",
    "\n",
    "# Compute center cords\n",
    "minlon, minlat, maxlon, maxlat = thomas_gdf.total_bounds\n",
    "lat = (minlat + maxlat) / 2\n",
    "lon = (minlon + maxlon) / 2\n",
    "\n",
    "# Compute bounds\n",
    "minx, miny, maxx, maxy = thomas_sinu_gdf.total_bounds\n",
    "km_above_below = int((maxy - miny) / 2 / 1000)\n",
    "km_left_right = int((maxx - minx) / 2 / 1000)\n",
    "\n",
    "lat, lon, km_above_below, km_left_right"
   ]
  },
  {
   "cell_type": "code",
   "execution_count": 10,
   "id": "c69049dc",
   "metadata": {
    "deletable": false,
    "editable": false,
    "nbgrader": {
     "cell_type": "code",
     "checksum": "bfb2fc15939ea10a132c37d7d2239023",
     "grade": true,
     "grade_id": "tests-bounds",
     "locked": true,
     "points": 7,
     "schema_version": 3,
     "solution": false,
     "task": false
    }
   },
   "outputs": [
    {
     "name": "stdout",
     "output_type": "stream",
     "text": [
      "✅ Nice work! You returned the correct number of values.\n",
      "✅ Great! Your values appear to be correct.\n",
      "Your received 7 of 7 points for defining your data bounds\n"
     ]
    },
    {
     "data": {
      "text/plain": [
       "7"
      ]
     },
     "execution_count": 10,
     "metadata": {},
     "output_type": "execute_result"
    }
   ],
   "source": [
    "ans_bound_info = _\n",
    "bound_pts = 0\n",
    "\n",
    "correct_sum = -31.84\n",
    "\n",
    "# Test if there are the correct number of values\n",
    "if len(ans_bound_info)==4:\n",
    "    print('\\u2705 Nice work! You returned the correct number of values.')\n",
    "    bound_pts += 1\n",
    "else:\n",
    "    print('\\u274C Check that you called 4 values'.format(ans_path))\n",
    "    \n",
    "# Test if the values are correct\n",
    "if round(sum(ans_bound_info), 2)==correct_sum:\n",
    "    print('\\u2705 Great! Your values appear to be correct.')\n",
    "    bound_pts += 6\n",
    "else:\n",
    "    print('\\u274C Check your computation - looks like there an error')\n",
    "\n",
    "print('Your received {} of 7 points for defining your data bounds'\n",
    "      .format(bound_pts))\n",
    "bound_pts"
   ]
  },
  {
   "cell_type": "markdown",
   "id": "a9c68de2",
   "metadata": {
    "deletable": false,
    "editable": false,
    "nbgrader": {
     "cell_type": "markdown",
     "checksum": "e38617a85abf5cb47381f7039e82e9d0",
     "grade": false,
     "grade_id": "instr-dates",
     "locked": true,
     "schema_version": 3,
     "solution": false,
     "task": false
    }
   },
   "source": [
    "### Generate start and end dates for each subset\n",
    "This API only allows you to download 10 dates at a time. You will need to split up your downloads. Use a `for` loop to generate a list of dictionaries that each contain a start and end date for one month of data. Format the dates as '%Y%j', or year followed by day of the year. \n",
    "\n",
    "    > Try using the `pd.date_range` function, with 'MS' and 'M' frequencies, and then zipping together the results\n",
    "    \n",
    "Call your list of dictionaries for testing."
   ]
  },
  {
   "cell_type": "code",
   "execution_count": 11,
   "id": "37048e86",
   "metadata": {
    "deletable": false,
    "nbgrader": {
     "cell_type": "code",
     "checksum": "0ce5d2eab054662492a7efaa72f06585",
     "grade": false,
     "grade_id": "ans-dates",
     "locked": false,
     "schema_version": 3,
     "solution": true,
     "task": false
    }
   },
   "outputs": [
    {
     "data": {
      "text/plain": [
       "[{'start_date': '2014001', 'end_date': '2014031'},\n",
       " {'start_date': '2014032', 'end_date': '2014059'},\n",
       " {'start_date': '2014060', 'end_date': '2014090'},\n",
       " {'start_date': '2014091', 'end_date': '2014120'},\n",
       " {'start_date': '2014121', 'end_date': '2014151'},\n",
       " {'start_date': '2014152', 'end_date': '2014181'},\n",
       " {'start_date': '2014182', 'end_date': '2014212'},\n",
       " {'start_date': '2014213', 'end_date': '2014243'},\n",
       " {'start_date': '2014244', 'end_date': '2014273'},\n",
       " {'start_date': '2014274', 'end_date': '2014304'},\n",
       " {'start_date': '2014305', 'end_date': '2014334'},\n",
       " {'start_date': '2014335', 'end_date': '2014365'},\n",
       " {'start_date': '2015001', 'end_date': '2015031'},\n",
       " {'start_date': '2015032', 'end_date': '2015059'},\n",
       " {'start_date': '2015060', 'end_date': '2015090'},\n",
       " {'start_date': '2015091', 'end_date': '2015120'},\n",
       " {'start_date': '2015121', 'end_date': '2015151'},\n",
       " {'start_date': '2015152', 'end_date': '2015181'},\n",
       " {'start_date': '2015182', 'end_date': '2015212'},\n",
       " {'start_date': '2015213', 'end_date': '2015243'},\n",
       " {'start_date': '2015244', 'end_date': '2015273'},\n",
       " {'start_date': '2015274', 'end_date': '2015304'},\n",
       " {'start_date': '2015305', 'end_date': '2015334'},\n",
       " {'start_date': '2015335', 'end_date': '2015365'},\n",
       " {'start_date': '2016001', 'end_date': '2016031'},\n",
       " {'start_date': '2016032', 'end_date': '2016060'},\n",
       " {'start_date': '2016061', 'end_date': '2016091'},\n",
       " {'start_date': '2016092', 'end_date': '2016121'},\n",
       " {'start_date': '2016122', 'end_date': '2016152'},\n",
       " {'start_date': '2016153', 'end_date': '2016182'},\n",
       " {'start_date': '2016183', 'end_date': '2016213'},\n",
       " {'start_date': '2016214', 'end_date': '2016244'},\n",
       " {'start_date': '2016245', 'end_date': '2016274'},\n",
       " {'start_date': '2016275', 'end_date': '2016305'},\n",
       " {'start_date': '2016306', 'end_date': '2016335'},\n",
       " {'start_date': '2016336', 'end_date': '2016366'},\n",
       " {'start_date': '2017001', 'end_date': '2017031'},\n",
       " {'start_date': '2017032', 'end_date': '2017059'},\n",
       " {'start_date': '2017060', 'end_date': '2017090'},\n",
       " {'start_date': '2017091', 'end_date': '2017120'},\n",
       " {'start_date': '2017121', 'end_date': '2017151'},\n",
       " {'start_date': '2017152', 'end_date': '2017181'},\n",
       " {'start_date': '2017182', 'end_date': '2017212'},\n",
       " {'start_date': '2017213', 'end_date': '2017243'},\n",
       " {'start_date': '2017244', 'end_date': '2017273'},\n",
       " {'start_date': '2017274', 'end_date': '2017304'},\n",
       " {'start_date': '2017305', 'end_date': '2017334'},\n",
       " {'start_date': '2017335', 'end_date': '2017365'},\n",
       " {'start_date': '2018001', 'end_date': '2018031'},\n",
       " {'start_date': '2018032', 'end_date': '2018059'},\n",
       " {'start_date': '2018060', 'end_date': '2018090'},\n",
       " {'start_date': '2018091', 'end_date': '2018120'},\n",
       " {'start_date': '2018121', 'end_date': '2018151'},\n",
       " {'start_date': '2018152', 'end_date': '2018181'},\n",
       " {'start_date': '2018182', 'end_date': '2018212'},\n",
       " {'start_date': '2018213', 'end_date': '2018243'},\n",
       " {'start_date': '2018244', 'end_date': '2018273'},\n",
       " {'start_date': '2018274', 'end_date': '2018304'},\n",
       " {'start_date': '2018305', 'end_date': '2018334'},\n",
       " {'start_date': '2018335', 'end_date': '2018365'}]"
      ]
     },
     "execution_count": 11,
     "metadata": {},
     "output_type": "execute_result"
    }
   ],
   "source": [
    "# Create date ranges\n",
    "start_dates = pd.date_range(start_date, end_date, freq='MS')\n",
    "end_dates = pd.date_range(start_date, end_date, freq='M')\n",
    "\n",
    "# Define date format\n",
    "date_format = '%Y%j'\n",
    "\n",
    "# Generate list of dictionaries for start and end dates (1 month intervals)\n",
    "chunks = []\n",
    "for start, end in zip(start_dates, end_dates):\n",
    "    chunks.append({'start_date': start.strftime(date_format),\n",
    "                  'end_date': end.strftime(date_format)})\n",
    "\n",
    "chunks"
   ]
  },
  {
   "cell_type": "code",
   "execution_count": 12,
   "id": "50ccb93f",
   "metadata": {
    "deletable": false,
    "editable": false,
    "nbgrader": {
     "cell_type": "code",
     "checksum": "82c80ac5aa533fcc969f8605b46e5537",
     "grade": true,
     "grade_id": "tests-dates",
     "locked": true,
     "points": 5,
     "schema_version": 3,
     "solution": false,
     "task": false
    }
   },
   "outputs": [
    {
     "name": "stdout",
     "output_type": "stream",
     "text": [
      "✅ Nice work! You returned a list of dictionaries.\n",
      "✅ Nice work! Your dictionaries all have two values.\n",
      "✅ Nice work! Your dates appear to be correct.\n",
      "You earned 5 of 5 points for generating start and end dates\n"
     ]
    },
    {
     "data": {
      "text/plain": [
       "5"
      ]
     },
     "execution_count": 12,
     "metadata": {},
     "output_type": "execute_result"
    }
   ],
   "source": [
    "ans_dates = _\n",
    "dates_pts = 0\n",
    "\n",
    "date_sum = 241941886\n",
    "\n",
    "# Test if the data are a list of dictionaries\n",
    "if all([isinstance(d, dict) for d in ans_dates]):\n",
    "    print('\\u2705 Nice work! You returned a list of dictionaries.')\n",
    "    dates_pts += 1\n",
    "else:\n",
    "    print('\\u274C Check that you returned a list of dictionaries')\n",
    "    \n",
    "# Test if dictionaries have the correct number of values\n",
    "if all([len(d)==2 for d in ans_dates]):\n",
    "    print('\\u2705 Nice work! Your dictionaries all have two values.')\n",
    "    dates_pts += 2\n",
    "else:\n",
    "    print('\\u274C Check that you have a start and end date in each '\n",
    "          'dictionary')\n",
    "    \n",
    "# Test if dictionary values are correct\n",
    "if sum([sum([int(v) for v in d.values()]) for d in chunks]) == date_sum:\n",
    "    print('\\u2705 Nice work! Your dates appear to be correct.')\n",
    "    dates_pts += 2\n",
    "else:\n",
    "    print('\\u274C Check that your dates are correct.')\n",
    "    \n",
    "print('You earned {} of 5 points for generating start and end dates'\n",
    "      .format(dates_pts))\n",
    " \n",
    "dates_pts"
   ]
  },
  {
   "cell_type": "markdown",
   "id": "35e2b0c3",
   "metadata": {
    "deletable": false,
    "editable": false,
    "nbgrader": {
     "cell_type": "markdown",
     "checksum": "51e724de06a7ed83d48e40b3e893fd3d",
     "grade": false,
     "grade_id": "inst-json-name",
     "locked": true,
     "schema_version": 3,
     "solution": false,
     "task": false
    }
   },
   "source": [
    "### Generate JSON file names for each chunk of data\n",
    "\n",
    "Using a `for` loop, iterate over your list of date dictionaries and add a `.json` file name to each dictionary. The file name should be descriptive and unique (i.e. include at least one date).\n",
    "\n",
    "**Please name your files with the provided format string, for example: `MCD15A3H-thomas-2015091-2015120.json.` for the April file.** That way I don't have to download the files multiple times.\n",
    "\n",
    "Call your list of dictionaries at the end for testing."
   ]
  },
  {
   "cell_type": "code",
   "execution_count": 13,
   "id": "84d5ff1f",
   "metadata": {
    "deletable": false,
    "nbgrader": {
     "cell_type": "code",
     "checksum": "7fbc56cf160492a6ab9225cf33e36b4c",
     "grade": false,
     "grade_id": "ans-json-name",
     "locked": false,
     "schema_version": 3,
     "solution": true,
     "task": false
    }
   },
   "outputs": [
    {
     "data": {
      "text/plain": [
       "[{'start_date': '2014001',\n",
       "  'end_date': '2014031',\n",
       "  'json_path': 'MCD15A3H-thomas-2014001-2014031.json'},\n",
       " {'start_date': '2014032',\n",
       "  'end_date': '2014059',\n",
       "  'json_path': 'MCD15A3H-thomas-2014032-2014059.json'},\n",
       " {'start_date': '2014060',\n",
       "  'end_date': '2014090',\n",
       "  'json_path': 'MCD15A3H-thomas-2014060-2014090.json'},\n",
       " {'start_date': '2014091',\n",
       "  'end_date': '2014120',\n",
       "  'json_path': 'MCD15A3H-thomas-2014091-2014120.json'},\n",
       " {'start_date': '2014121',\n",
       "  'end_date': '2014151',\n",
       "  'json_path': 'MCD15A3H-thomas-2014121-2014151.json'},\n",
       " {'start_date': '2014152',\n",
       "  'end_date': '2014181',\n",
       "  'json_path': 'MCD15A3H-thomas-2014152-2014181.json'},\n",
       " {'start_date': '2014182',\n",
       "  'end_date': '2014212',\n",
       "  'json_path': 'MCD15A3H-thomas-2014182-2014212.json'},\n",
       " {'start_date': '2014213',\n",
       "  'end_date': '2014243',\n",
       "  'json_path': 'MCD15A3H-thomas-2014213-2014243.json'},\n",
       " {'start_date': '2014244',\n",
       "  'end_date': '2014273',\n",
       "  'json_path': 'MCD15A3H-thomas-2014244-2014273.json'},\n",
       " {'start_date': '2014274',\n",
       "  'end_date': '2014304',\n",
       "  'json_path': 'MCD15A3H-thomas-2014274-2014304.json'},\n",
       " {'start_date': '2014305',\n",
       "  'end_date': '2014334',\n",
       "  'json_path': 'MCD15A3H-thomas-2014305-2014334.json'},\n",
       " {'start_date': '2014335',\n",
       "  'end_date': '2014365',\n",
       "  'json_path': 'MCD15A3H-thomas-2014335-2014365.json'},\n",
       " {'start_date': '2015001',\n",
       "  'end_date': '2015031',\n",
       "  'json_path': 'MCD15A3H-thomas-2015001-2015031.json'},\n",
       " {'start_date': '2015032',\n",
       "  'end_date': '2015059',\n",
       "  'json_path': 'MCD15A3H-thomas-2015032-2015059.json'},\n",
       " {'start_date': '2015060',\n",
       "  'end_date': '2015090',\n",
       "  'json_path': 'MCD15A3H-thomas-2015060-2015090.json'},\n",
       " {'start_date': '2015091',\n",
       "  'end_date': '2015120',\n",
       "  'json_path': 'MCD15A3H-thomas-2015091-2015120.json'},\n",
       " {'start_date': '2015121',\n",
       "  'end_date': '2015151',\n",
       "  'json_path': 'MCD15A3H-thomas-2015121-2015151.json'},\n",
       " {'start_date': '2015152',\n",
       "  'end_date': '2015181',\n",
       "  'json_path': 'MCD15A3H-thomas-2015152-2015181.json'},\n",
       " {'start_date': '2015182',\n",
       "  'end_date': '2015212',\n",
       "  'json_path': 'MCD15A3H-thomas-2015182-2015212.json'},\n",
       " {'start_date': '2015213',\n",
       "  'end_date': '2015243',\n",
       "  'json_path': 'MCD15A3H-thomas-2015213-2015243.json'},\n",
       " {'start_date': '2015244',\n",
       "  'end_date': '2015273',\n",
       "  'json_path': 'MCD15A3H-thomas-2015244-2015273.json'},\n",
       " {'start_date': '2015274',\n",
       "  'end_date': '2015304',\n",
       "  'json_path': 'MCD15A3H-thomas-2015274-2015304.json'},\n",
       " {'start_date': '2015305',\n",
       "  'end_date': '2015334',\n",
       "  'json_path': 'MCD15A3H-thomas-2015305-2015334.json'},\n",
       " {'start_date': '2015335',\n",
       "  'end_date': '2015365',\n",
       "  'json_path': 'MCD15A3H-thomas-2015335-2015365.json'},\n",
       " {'start_date': '2016001',\n",
       "  'end_date': '2016031',\n",
       "  'json_path': 'MCD15A3H-thomas-2016001-2016031.json'},\n",
       " {'start_date': '2016032',\n",
       "  'end_date': '2016060',\n",
       "  'json_path': 'MCD15A3H-thomas-2016032-2016060.json'},\n",
       " {'start_date': '2016061',\n",
       "  'end_date': '2016091',\n",
       "  'json_path': 'MCD15A3H-thomas-2016061-2016091.json'},\n",
       " {'start_date': '2016092',\n",
       "  'end_date': '2016121',\n",
       "  'json_path': 'MCD15A3H-thomas-2016092-2016121.json'},\n",
       " {'start_date': '2016122',\n",
       "  'end_date': '2016152',\n",
       "  'json_path': 'MCD15A3H-thomas-2016122-2016152.json'},\n",
       " {'start_date': '2016153',\n",
       "  'end_date': '2016182',\n",
       "  'json_path': 'MCD15A3H-thomas-2016153-2016182.json'},\n",
       " {'start_date': '2016183',\n",
       "  'end_date': '2016213',\n",
       "  'json_path': 'MCD15A3H-thomas-2016183-2016213.json'},\n",
       " {'start_date': '2016214',\n",
       "  'end_date': '2016244',\n",
       "  'json_path': 'MCD15A3H-thomas-2016214-2016244.json'},\n",
       " {'start_date': '2016245',\n",
       "  'end_date': '2016274',\n",
       "  'json_path': 'MCD15A3H-thomas-2016245-2016274.json'},\n",
       " {'start_date': '2016275',\n",
       "  'end_date': '2016305',\n",
       "  'json_path': 'MCD15A3H-thomas-2016275-2016305.json'},\n",
       " {'start_date': '2016306',\n",
       "  'end_date': '2016335',\n",
       "  'json_path': 'MCD15A3H-thomas-2016306-2016335.json'},\n",
       " {'start_date': '2016336',\n",
       "  'end_date': '2016366',\n",
       "  'json_path': 'MCD15A3H-thomas-2016336-2016366.json'},\n",
       " {'start_date': '2017001',\n",
       "  'end_date': '2017031',\n",
       "  'json_path': 'MCD15A3H-thomas-2017001-2017031.json'},\n",
       " {'start_date': '2017032',\n",
       "  'end_date': '2017059',\n",
       "  'json_path': 'MCD15A3H-thomas-2017032-2017059.json'},\n",
       " {'start_date': '2017060',\n",
       "  'end_date': '2017090',\n",
       "  'json_path': 'MCD15A3H-thomas-2017060-2017090.json'},\n",
       " {'start_date': '2017091',\n",
       "  'end_date': '2017120',\n",
       "  'json_path': 'MCD15A3H-thomas-2017091-2017120.json'},\n",
       " {'start_date': '2017121',\n",
       "  'end_date': '2017151',\n",
       "  'json_path': 'MCD15A3H-thomas-2017121-2017151.json'},\n",
       " {'start_date': '2017152',\n",
       "  'end_date': '2017181',\n",
       "  'json_path': 'MCD15A3H-thomas-2017152-2017181.json'},\n",
       " {'start_date': '2017182',\n",
       "  'end_date': '2017212',\n",
       "  'json_path': 'MCD15A3H-thomas-2017182-2017212.json'},\n",
       " {'start_date': '2017213',\n",
       "  'end_date': '2017243',\n",
       "  'json_path': 'MCD15A3H-thomas-2017213-2017243.json'},\n",
       " {'start_date': '2017244',\n",
       "  'end_date': '2017273',\n",
       "  'json_path': 'MCD15A3H-thomas-2017244-2017273.json'},\n",
       " {'start_date': '2017274',\n",
       "  'end_date': '2017304',\n",
       "  'json_path': 'MCD15A3H-thomas-2017274-2017304.json'},\n",
       " {'start_date': '2017305',\n",
       "  'end_date': '2017334',\n",
       "  'json_path': 'MCD15A3H-thomas-2017305-2017334.json'},\n",
       " {'start_date': '2017335',\n",
       "  'end_date': '2017365',\n",
       "  'json_path': 'MCD15A3H-thomas-2017335-2017365.json'},\n",
       " {'start_date': '2018001',\n",
       "  'end_date': '2018031',\n",
       "  'json_path': 'MCD15A3H-thomas-2018001-2018031.json'},\n",
       " {'start_date': '2018032',\n",
       "  'end_date': '2018059',\n",
       "  'json_path': 'MCD15A3H-thomas-2018032-2018059.json'},\n",
       " {'start_date': '2018060',\n",
       "  'end_date': '2018090',\n",
       "  'json_path': 'MCD15A3H-thomas-2018060-2018090.json'},\n",
       " {'start_date': '2018091',\n",
       "  'end_date': '2018120',\n",
       "  'json_path': 'MCD15A3H-thomas-2018091-2018120.json'},\n",
       " {'start_date': '2018121',\n",
       "  'end_date': '2018151',\n",
       "  'json_path': 'MCD15A3H-thomas-2018121-2018151.json'},\n",
       " {'start_date': '2018152',\n",
       "  'end_date': '2018181',\n",
       "  'json_path': 'MCD15A3H-thomas-2018152-2018181.json'},\n",
       " {'start_date': '2018182',\n",
       "  'end_date': '2018212',\n",
       "  'json_path': 'MCD15A3H-thomas-2018182-2018212.json'},\n",
       " {'start_date': '2018213',\n",
       "  'end_date': '2018243',\n",
       "  'json_path': 'MCD15A3H-thomas-2018213-2018243.json'},\n",
       " {'start_date': '2018244',\n",
       "  'end_date': '2018273',\n",
       "  'json_path': 'MCD15A3H-thomas-2018244-2018273.json'},\n",
       " {'start_date': '2018274',\n",
       "  'end_date': '2018304',\n",
       "  'json_path': 'MCD15A3H-thomas-2018274-2018304.json'},\n",
       " {'start_date': '2018305',\n",
       "  'end_date': '2018334',\n",
       "  'json_path': 'MCD15A3H-thomas-2018305-2018334.json'},\n",
       " {'start_date': '2018335',\n",
       "  'end_date': '2018365',\n",
       "  'json_path': 'MCD15A3H-thomas-2018335-2018365.json'}]"
      ]
     },
     "execution_count": 13,
     "metadata": {},
     "output_type": "execute_result"
    }
   ],
   "source": [
    "# Deine file path template\n",
    "path_tmpl = 'MCD15A3H-thomas-{start_date}-{end_date}.json'\n",
    "\n",
    "# Create new key to store each chunks formatted file path\n",
    "for chunk in chunks:\n",
    "    chunk['json_path'] = path_tmpl.format(**chunk)\n",
    "\n",
    "chunks"
   ]
  },
  {
   "cell_type": "code",
   "execution_count": 14,
   "id": "d2083324",
   "metadata": {
    "deletable": false,
    "editable": false,
    "nbgrader": {
     "cell_type": "code",
     "checksum": "f00c9baa6462eaeb20b7b8fe32149443",
     "grade": true,
     "grade_id": "tests-json-name",
     "locked": true,
     "points": 3,
     "schema_version": 3,
     "solution": false,
     "task": false
    }
   },
   "outputs": [
    {
     "name": "stdout",
     "output_type": "stream",
     "text": [
      "✅ Nice work! You returned a list of dictionaries.\n",
      "✅ Nice work! Your dictionaries all have three values.\n",
      "You earned 3 of 3 points for generating json file names\n"
     ]
    },
    {
     "data": {
      "text/plain": [
       "3"
      ]
     },
     "execution_count": 14,
     "metadata": {},
     "output_type": "execute_result"
    }
   ],
   "source": [
    "ans_json = _\n",
    "json_pts = 0\n",
    "\n",
    "# Test if the data are a list of dictionaries\n",
    "if all([isinstance(d, dict) for d in ans_json]):\n",
    "    print('\\u2705 Nice work! You returned a list of dictionaries.')\n",
    "    json_pts += 1\n",
    "else:\n",
    "    print('\\u274C Check that you returned a list of dictionaries')\n",
    "    \n",
    "# Test if dictionaries have the correct number of values\n",
    "if all([len(d)==3 for d in ans_json]):\n",
    "    print('\\u2705 Nice work! Your dictionaries all have three values.')\n",
    "    json_pts += 2\n",
    "else:\n",
    "    print('\\u274C Check that you have a start and end date in each '\n",
    "          'dictionary as well as a file name')\n",
    "    \n",
    "print('You earned {} of 3 points for generating json file names'\n",
    "      .format(json_pts))\n",
    "json_pts"
   ]
  },
  {
   "cell_type": "markdown",
   "id": "7dd5eb80",
   "metadata": {
    "deletable": false,
    "editable": false,
    "nbgrader": {
     "cell_type": "markdown",
     "checksum": "973e95043c6b768e95527097739246d0",
     "grade": false,
     "grade_id": "instr-url",
     "locked": true,
     "schema_version": 3,
     "solution": false,
     "task": false
    }
   },
   "source": [
    "### Generate a download url for each chunk of data\n",
    "\n",
    "Take a look at the [MODIS Land Products API service documentation](https://modis.ornl.gov/data/modis_webservice.html). Create a download url template string, using:\n",
    "  * The current version\n",
    "  * The subset resource path\n",
    "  * The MCD15A3H product\n",
    "  * latitude, longitude, kmAboveBelow, and kmLeftRight values you generated above\n",
    "\n",
    "> Url query strings begin with `?` and are separated by `&`. For example: `.../subset?latitude=...&longitude=...`\n",
    "\n",
    "Using a `for` loop, go through each of your data chunk dictionaries and add a download url to each. Fill out your template using the startDate and endDate values from your dictionary - they are already correctly formatted."
   ]
  },
  {
   "cell_type": "code",
   "execution_count": 15,
   "id": "f3b3f1ee",
   "metadata": {
    "deletable": false,
    "nbgrader": {
     "cell_type": "code",
     "checksum": "bf696b5c36aa37fb45d584c8b3c5afed",
     "grade": false,
     "grade_id": "ans-url",
     "locked": false,
     "schema_version": 3,
     "solution": true,
     "task": false
    }
   },
   "outputs": [
    {
     "data": {
      "text/plain": [
       "[{'start_date': '2014001',\n",
       "  'end_date': '2014031',\n",
       "  'json_path': 'MCD15A3H-thomas-2014001-2014031.json',\n",
       "  'url': 'https://modis.ornl.gov/rst/api/v1/MCD15A3H/subset?latitude=34.45867831513905&longitude=-119.303403088672&startDate=A2014001&endDate=A2014031&kmAboveBelow=19&kmLeftRight=34'},\n",
       " {'start_date': '2014032',\n",
       "  'end_date': '2014059',\n",
       "  'json_path': 'MCD15A3H-thomas-2014032-2014059.json',\n",
       "  'url': 'https://modis.ornl.gov/rst/api/v1/MCD15A3H/subset?latitude=34.45867831513905&longitude=-119.303403088672&startDate=A2014032&endDate=A2014059&kmAboveBelow=19&kmLeftRight=34'},\n",
       " {'start_date': '2014060',\n",
       "  'end_date': '2014090',\n",
       "  'json_path': 'MCD15A3H-thomas-2014060-2014090.json',\n",
       "  'url': 'https://modis.ornl.gov/rst/api/v1/MCD15A3H/subset?latitude=34.45867831513905&longitude=-119.303403088672&startDate=A2014060&endDate=A2014090&kmAboveBelow=19&kmLeftRight=34'},\n",
       " {'start_date': '2014091',\n",
       "  'end_date': '2014120',\n",
       "  'json_path': 'MCD15A3H-thomas-2014091-2014120.json',\n",
       "  'url': 'https://modis.ornl.gov/rst/api/v1/MCD15A3H/subset?latitude=34.45867831513905&longitude=-119.303403088672&startDate=A2014091&endDate=A2014120&kmAboveBelow=19&kmLeftRight=34'},\n",
       " {'start_date': '2014121',\n",
       "  'end_date': '2014151',\n",
       "  'json_path': 'MCD15A3H-thomas-2014121-2014151.json',\n",
       "  'url': 'https://modis.ornl.gov/rst/api/v1/MCD15A3H/subset?latitude=34.45867831513905&longitude=-119.303403088672&startDate=A2014121&endDate=A2014151&kmAboveBelow=19&kmLeftRight=34'},\n",
       " {'start_date': '2014152',\n",
       "  'end_date': '2014181',\n",
       "  'json_path': 'MCD15A3H-thomas-2014152-2014181.json',\n",
       "  'url': 'https://modis.ornl.gov/rst/api/v1/MCD15A3H/subset?latitude=34.45867831513905&longitude=-119.303403088672&startDate=A2014152&endDate=A2014181&kmAboveBelow=19&kmLeftRight=34'},\n",
       " {'start_date': '2014182',\n",
       "  'end_date': '2014212',\n",
       "  'json_path': 'MCD15A3H-thomas-2014182-2014212.json',\n",
       "  'url': 'https://modis.ornl.gov/rst/api/v1/MCD15A3H/subset?latitude=34.45867831513905&longitude=-119.303403088672&startDate=A2014182&endDate=A2014212&kmAboveBelow=19&kmLeftRight=34'},\n",
       " {'start_date': '2014213',\n",
       "  'end_date': '2014243',\n",
       "  'json_path': 'MCD15A3H-thomas-2014213-2014243.json',\n",
       "  'url': 'https://modis.ornl.gov/rst/api/v1/MCD15A3H/subset?latitude=34.45867831513905&longitude=-119.303403088672&startDate=A2014213&endDate=A2014243&kmAboveBelow=19&kmLeftRight=34'},\n",
       " {'start_date': '2014244',\n",
       "  'end_date': '2014273',\n",
       "  'json_path': 'MCD15A3H-thomas-2014244-2014273.json',\n",
       "  'url': 'https://modis.ornl.gov/rst/api/v1/MCD15A3H/subset?latitude=34.45867831513905&longitude=-119.303403088672&startDate=A2014244&endDate=A2014273&kmAboveBelow=19&kmLeftRight=34'},\n",
       " {'start_date': '2014274',\n",
       "  'end_date': '2014304',\n",
       "  'json_path': 'MCD15A3H-thomas-2014274-2014304.json',\n",
       "  'url': 'https://modis.ornl.gov/rst/api/v1/MCD15A3H/subset?latitude=34.45867831513905&longitude=-119.303403088672&startDate=A2014274&endDate=A2014304&kmAboveBelow=19&kmLeftRight=34'},\n",
       " {'start_date': '2014305',\n",
       "  'end_date': '2014334',\n",
       "  'json_path': 'MCD15A3H-thomas-2014305-2014334.json',\n",
       "  'url': 'https://modis.ornl.gov/rst/api/v1/MCD15A3H/subset?latitude=34.45867831513905&longitude=-119.303403088672&startDate=A2014305&endDate=A2014334&kmAboveBelow=19&kmLeftRight=34'},\n",
       " {'start_date': '2014335',\n",
       "  'end_date': '2014365',\n",
       "  'json_path': 'MCD15A3H-thomas-2014335-2014365.json',\n",
       "  'url': 'https://modis.ornl.gov/rst/api/v1/MCD15A3H/subset?latitude=34.45867831513905&longitude=-119.303403088672&startDate=A2014335&endDate=A2014365&kmAboveBelow=19&kmLeftRight=34'},\n",
       " {'start_date': '2015001',\n",
       "  'end_date': '2015031',\n",
       "  'json_path': 'MCD15A3H-thomas-2015001-2015031.json',\n",
       "  'url': 'https://modis.ornl.gov/rst/api/v1/MCD15A3H/subset?latitude=34.45867831513905&longitude=-119.303403088672&startDate=A2015001&endDate=A2015031&kmAboveBelow=19&kmLeftRight=34'},\n",
       " {'start_date': '2015032',\n",
       "  'end_date': '2015059',\n",
       "  'json_path': 'MCD15A3H-thomas-2015032-2015059.json',\n",
       "  'url': 'https://modis.ornl.gov/rst/api/v1/MCD15A3H/subset?latitude=34.45867831513905&longitude=-119.303403088672&startDate=A2015032&endDate=A2015059&kmAboveBelow=19&kmLeftRight=34'},\n",
       " {'start_date': '2015060',\n",
       "  'end_date': '2015090',\n",
       "  'json_path': 'MCD15A3H-thomas-2015060-2015090.json',\n",
       "  'url': 'https://modis.ornl.gov/rst/api/v1/MCD15A3H/subset?latitude=34.45867831513905&longitude=-119.303403088672&startDate=A2015060&endDate=A2015090&kmAboveBelow=19&kmLeftRight=34'},\n",
       " {'start_date': '2015091',\n",
       "  'end_date': '2015120',\n",
       "  'json_path': 'MCD15A3H-thomas-2015091-2015120.json',\n",
       "  'url': 'https://modis.ornl.gov/rst/api/v1/MCD15A3H/subset?latitude=34.45867831513905&longitude=-119.303403088672&startDate=A2015091&endDate=A2015120&kmAboveBelow=19&kmLeftRight=34'},\n",
       " {'start_date': '2015121',\n",
       "  'end_date': '2015151',\n",
       "  'json_path': 'MCD15A3H-thomas-2015121-2015151.json',\n",
       "  'url': 'https://modis.ornl.gov/rst/api/v1/MCD15A3H/subset?latitude=34.45867831513905&longitude=-119.303403088672&startDate=A2015121&endDate=A2015151&kmAboveBelow=19&kmLeftRight=34'},\n",
       " {'start_date': '2015152',\n",
       "  'end_date': '2015181',\n",
       "  'json_path': 'MCD15A3H-thomas-2015152-2015181.json',\n",
       "  'url': 'https://modis.ornl.gov/rst/api/v1/MCD15A3H/subset?latitude=34.45867831513905&longitude=-119.303403088672&startDate=A2015152&endDate=A2015181&kmAboveBelow=19&kmLeftRight=34'},\n",
       " {'start_date': '2015182',\n",
       "  'end_date': '2015212',\n",
       "  'json_path': 'MCD15A3H-thomas-2015182-2015212.json',\n",
       "  'url': 'https://modis.ornl.gov/rst/api/v1/MCD15A3H/subset?latitude=34.45867831513905&longitude=-119.303403088672&startDate=A2015182&endDate=A2015212&kmAboveBelow=19&kmLeftRight=34'},\n",
       " {'start_date': '2015213',\n",
       "  'end_date': '2015243',\n",
       "  'json_path': 'MCD15A3H-thomas-2015213-2015243.json',\n",
       "  'url': 'https://modis.ornl.gov/rst/api/v1/MCD15A3H/subset?latitude=34.45867831513905&longitude=-119.303403088672&startDate=A2015213&endDate=A2015243&kmAboveBelow=19&kmLeftRight=34'},\n",
       " {'start_date': '2015244',\n",
       "  'end_date': '2015273',\n",
       "  'json_path': 'MCD15A3H-thomas-2015244-2015273.json',\n",
       "  'url': 'https://modis.ornl.gov/rst/api/v1/MCD15A3H/subset?latitude=34.45867831513905&longitude=-119.303403088672&startDate=A2015244&endDate=A2015273&kmAboveBelow=19&kmLeftRight=34'},\n",
       " {'start_date': '2015274',\n",
       "  'end_date': '2015304',\n",
       "  'json_path': 'MCD15A3H-thomas-2015274-2015304.json',\n",
       "  'url': 'https://modis.ornl.gov/rst/api/v1/MCD15A3H/subset?latitude=34.45867831513905&longitude=-119.303403088672&startDate=A2015274&endDate=A2015304&kmAboveBelow=19&kmLeftRight=34'},\n",
       " {'start_date': '2015305',\n",
       "  'end_date': '2015334',\n",
       "  'json_path': 'MCD15A3H-thomas-2015305-2015334.json',\n",
       "  'url': 'https://modis.ornl.gov/rst/api/v1/MCD15A3H/subset?latitude=34.45867831513905&longitude=-119.303403088672&startDate=A2015305&endDate=A2015334&kmAboveBelow=19&kmLeftRight=34'},\n",
       " {'start_date': '2015335',\n",
       "  'end_date': '2015365',\n",
       "  'json_path': 'MCD15A3H-thomas-2015335-2015365.json',\n",
       "  'url': 'https://modis.ornl.gov/rst/api/v1/MCD15A3H/subset?latitude=34.45867831513905&longitude=-119.303403088672&startDate=A2015335&endDate=A2015365&kmAboveBelow=19&kmLeftRight=34'},\n",
       " {'start_date': '2016001',\n",
       "  'end_date': '2016031',\n",
       "  'json_path': 'MCD15A3H-thomas-2016001-2016031.json',\n",
       "  'url': 'https://modis.ornl.gov/rst/api/v1/MCD15A3H/subset?latitude=34.45867831513905&longitude=-119.303403088672&startDate=A2016001&endDate=A2016031&kmAboveBelow=19&kmLeftRight=34'},\n",
       " {'start_date': '2016032',\n",
       "  'end_date': '2016060',\n",
       "  'json_path': 'MCD15A3H-thomas-2016032-2016060.json',\n",
       "  'url': 'https://modis.ornl.gov/rst/api/v1/MCD15A3H/subset?latitude=34.45867831513905&longitude=-119.303403088672&startDate=A2016032&endDate=A2016060&kmAboveBelow=19&kmLeftRight=34'},\n",
       " {'start_date': '2016061',\n",
       "  'end_date': '2016091',\n",
       "  'json_path': 'MCD15A3H-thomas-2016061-2016091.json',\n",
       "  'url': 'https://modis.ornl.gov/rst/api/v1/MCD15A3H/subset?latitude=34.45867831513905&longitude=-119.303403088672&startDate=A2016061&endDate=A2016091&kmAboveBelow=19&kmLeftRight=34'},\n",
       " {'start_date': '2016092',\n",
       "  'end_date': '2016121',\n",
       "  'json_path': 'MCD15A3H-thomas-2016092-2016121.json',\n",
       "  'url': 'https://modis.ornl.gov/rst/api/v1/MCD15A3H/subset?latitude=34.45867831513905&longitude=-119.303403088672&startDate=A2016092&endDate=A2016121&kmAboveBelow=19&kmLeftRight=34'},\n",
       " {'start_date': '2016122',\n",
       "  'end_date': '2016152',\n",
       "  'json_path': 'MCD15A3H-thomas-2016122-2016152.json',\n",
       "  'url': 'https://modis.ornl.gov/rst/api/v1/MCD15A3H/subset?latitude=34.45867831513905&longitude=-119.303403088672&startDate=A2016122&endDate=A2016152&kmAboveBelow=19&kmLeftRight=34'},\n",
       " {'start_date': '2016153',\n",
       "  'end_date': '2016182',\n",
       "  'json_path': 'MCD15A3H-thomas-2016153-2016182.json',\n",
       "  'url': 'https://modis.ornl.gov/rst/api/v1/MCD15A3H/subset?latitude=34.45867831513905&longitude=-119.303403088672&startDate=A2016153&endDate=A2016182&kmAboveBelow=19&kmLeftRight=34'},\n",
       " {'start_date': '2016183',\n",
       "  'end_date': '2016213',\n",
       "  'json_path': 'MCD15A3H-thomas-2016183-2016213.json',\n",
       "  'url': 'https://modis.ornl.gov/rst/api/v1/MCD15A3H/subset?latitude=34.45867831513905&longitude=-119.303403088672&startDate=A2016183&endDate=A2016213&kmAboveBelow=19&kmLeftRight=34'},\n",
       " {'start_date': '2016214',\n",
       "  'end_date': '2016244',\n",
       "  'json_path': 'MCD15A3H-thomas-2016214-2016244.json',\n",
       "  'url': 'https://modis.ornl.gov/rst/api/v1/MCD15A3H/subset?latitude=34.45867831513905&longitude=-119.303403088672&startDate=A2016214&endDate=A2016244&kmAboveBelow=19&kmLeftRight=34'},\n",
       " {'start_date': '2016245',\n",
       "  'end_date': '2016274',\n",
       "  'json_path': 'MCD15A3H-thomas-2016245-2016274.json',\n",
       "  'url': 'https://modis.ornl.gov/rst/api/v1/MCD15A3H/subset?latitude=34.45867831513905&longitude=-119.303403088672&startDate=A2016245&endDate=A2016274&kmAboveBelow=19&kmLeftRight=34'},\n",
       " {'start_date': '2016275',\n",
       "  'end_date': '2016305',\n",
       "  'json_path': 'MCD15A3H-thomas-2016275-2016305.json',\n",
       "  'url': 'https://modis.ornl.gov/rst/api/v1/MCD15A3H/subset?latitude=34.45867831513905&longitude=-119.303403088672&startDate=A2016275&endDate=A2016305&kmAboveBelow=19&kmLeftRight=34'},\n",
       " {'start_date': '2016306',\n",
       "  'end_date': '2016335',\n",
       "  'json_path': 'MCD15A3H-thomas-2016306-2016335.json',\n",
       "  'url': 'https://modis.ornl.gov/rst/api/v1/MCD15A3H/subset?latitude=34.45867831513905&longitude=-119.303403088672&startDate=A2016306&endDate=A2016335&kmAboveBelow=19&kmLeftRight=34'},\n",
       " {'start_date': '2016336',\n",
       "  'end_date': '2016366',\n",
       "  'json_path': 'MCD15A3H-thomas-2016336-2016366.json',\n",
       "  'url': 'https://modis.ornl.gov/rst/api/v1/MCD15A3H/subset?latitude=34.45867831513905&longitude=-119.303403088672&startDate=A2016336&endDate=A2016366&kmAboveBelow=19&kmLeftRight=34'},\n",
       " {'start_date': '2017001',\n",
       "  'end_date': '2017031',\n",
       "  'json_path': 'MCD15A3H-thomas-2017001-2017031.json',\n",
       "  'url': 'https://modis.ornl.gov/rst/api/v1/MCD15A3H/subset?latitude=34.45867831513905&longitude=-119.303403088672&startDate=A2017001&endDate=A2017031&kmAboveBelow=19&kmLeftRight=34'},\n",
       " {'start_date': '2017032',\n",
       "  'end_date': '2017059',\n",
       "  'json_path': 'MCD15A3H-thomas-2017032-2017059.json',\n",
       "  'url': 'https://modis.ornl.gov/rst/api/v1/MCD15A3H/subset?latitude=34.45867831513905&longitude=-119.303403088672&startDate=A2017032&endDate=A2017059&kmAboveBelow=19&kmLeftRight=34'},\n",
       " {'start_date': '2017060',\n",
       "  'end_date': '2017090',\n",
       "  'json_path': 'MCD15A3H-thomas-2017060-2017090.json',\n",
       "  'url': 'https://modis.ornl.gov/rst/api/v1/MCD15A3H/subset?latitude=34.45867831513905&longitude=-119.303403088672&startDate=A2017060&endDate=A2017090&kmAboveBelow=19&kmLeftRight=34'},\n",
       " {'start_date': '2017091',\n",
       "  'end_date': '2017120',\n",
       "  'json_path': 'MCD15A3H-thomas-2017091-2017120.json',\n",
       "  'url': 'https://modis.ornl.gov/rst/api/v1/MCD15A3H/subset?latitude=34.45867831513905&longitude=-119.303403088672&startDate=A2017091&endDate=A2017120&kmAboveBelow=19&kmLeftRight=34'},\n",
       " {'start_date': '2017121',\n",
       "  'end_date': '2017151',\n",
       "  'json_path': 'MCD15A3H-thomas-2017121-2017151.json',\n",
       "  'url': 'https://modis.ornl.gov/rst/api/v1/MCD15A3H/subset?latitude=34.45867831513905&longitude=-119.303403088672&startDate=A2017121&endDate=A2017151&kmAboveBelow=19&kmLeftRight=34'},\n",
       " {'start_date': '2017152',\n",
       "  'end_date': '2017181',\n",
       "  'json_path': 'MCD15A3H-thomas-2017152-2017181.json',\n",
       "  'url': 'https://modis.ornl.gov/rst/api/v1/MCD15A3H/subset?latitude=34.45867831513905&longitude=-119.303403088672&startDate=A2017152&endDate=A2017181&kmAboveBelow=19&kmLeftRight=34'},\n",
       " {'start_date': '2017182',\n",
       "  'end_date': '2017212',\n",
       "  'json_path': 'MCD15A3H-thomas-2017182-2017212.json',\n",
       "  'url': 'https://modis.ornl.gov/rst/api/v1/MCD15A3H/subset?latitude=34.45867831513905&longitude=-119.303403088672&startDate=A2017182&endDate=A2017212&kmAboveBelow=19&kmLeftRight=34'},\n",
       " {'start_date': '2017213',\n",
       "  'end_date': '2017243',\n",
       "  'json_path': 'MCD15A3H-thomas-2017213-2017243.json',\n",
       "  'url': 'https://modis.ornl.gov/rst/api/v1/MCD15A3H/subset?latitude=34.45867831513905&longitude=-119.303403088672&startDate=A2017213&endDate=A2017243&kmAboveBelow=19&kmLeftRight=34'},\n",
       " {'start_date': '2017244',\n",
       "  'end_date': '2017273',\n",
       "  'json_path': 'MCD15A3H-thomas-2017244-2017273.json',\n",
       "  'url': 'https://modis.ornl.gov/rst/api/v1/MCD15A3H/subset?latitude=34.45867831513905&longitude=-119.303403088672&startDate=A2017244&endDate=A2017273&kmAboveBelow=19&kmLeftRight=34'},\n",
       " {'start_date': '2017274',\n",
       "  'end_date': '2017304',\n",
       "  'json_path': 'MCD15A3H-thomas-2017274-2017304.json',\n",
       "  'url': 'https://modis.ornl.gov/rst/api/v1/MCD15A3H/subset?latitude=34.45867831513905&longitude=-119.303403088672&startDate=A2017274&endDate=A2017304&kmAboveBelow=19&kmLeftRight=34'},\n",
       " {'start_date': '2017305',\n",
       "  'end_date': '2017334',\n",
       "  'json_path': 'MCD15A3H-thomas-2017305-2017334.json',\n",
       "  'url': 'https://modis.ornl.gov/rst/api/v1/MCD15A3H/subset?latitude=34.45867831513905&longitude=-119.303403088672&startDate=A2017305&endDate=A2017334&kmAboveBelow=19&kmLeftRight=34'},\n",
       " {'start_date': '2017335',\n",
       "  'end_date': '2017365',\n",
       "  'json_path': 'MCD15A3H-thomas-2017335-2017365.json',\n",
       "  'url': 'https://modis.ornl.gov/rst/api/v1/MCD15A3H/subset?latitude=34.45867831513905&longitude=-119.303403088672&startDate=A2017335&endDate=A2017365&kmAboveBelow=19&kmLeftRight=34'},\n",
       " {'start_date': '2018001',\n",
       "  'end_date': '2018031',\n",
       "  'json_path': 'MCD15A3H-thomas-2018001-2018031.json',\n",
       "  'url': 'https://modis.ornl.gov/rst/api/v1/MCD15A3H/subset?latitude=34.45867831513905&longitude=-119.303403088672&startDate=A2018001&endDate=A2018031&kmAboveBelow=19&kmLeftRight=34'},\n",
       " {'start_date': '2018032',\n",
       "  'end_date': '2018059',\n",
       "  'json_path': 'MCD15A3H-thomas-2018032-2018059.json',\n",
       "  'url': 'https://modis.ornl.gov/rst/api/v1/MCD15A3H/subset?latitude=34.45867831513905&longitude=-119.303403088672&startDate=A2018032&endDate=A2018059&kmAboveBelow=19&kmLeftRight=34'},\n",
       " {'start_date': '2018060',\n",
       "  'end_date': '2018090',\n",
       "  'json_path': 'MCD15A3H-thomas-2018060-2018090.json',\n",
       "  'url': 'https://modis.ornl.gov/rst/api/v1/MCD15A3H/subset?latitude=34.45867831513905&longitude=-119.303403088672&startDate=A2018060&endDate=A2018090&kmAboveBelow=19&kmLeftRight=34'},\n",
       " {'start_date': '2018091',\n",
       "  'end_date': '2018120',\n",
       "  'json_path': 'MCD15A3H-thomas-2018091-2018120.json',\n",
       "  'url': 'https://modis.ornl.gov/rst/api/v1/MCD15A3H/subset?latitude=34.45867831513905&longitude=-119.303403088672&startDate=A2018091&endDate=A2018120&kmAboveBelow=19&kmLeftRight=34'},\n",
       " {'start_date': '2018121',\n",
       "  'end_date': '2018151',\n",
       "  'json_path': 'MCD15A3H-thomas-2018121-2018151.json',\n",
       "  'url': 'https://modis.ornl.gov/rst/api/v1/MCD15A3H/subset?latitude=34.45867831513905&longitude=-119.303403088672&startDate=A2018121&endDate=A2018151&kmAboveBelow=19&kmLeftRight=34'},\n",
       " {'start_date': '2018152',\n",
       "  'end_date': '2018181',\n",
       "  'json_path': 'MCD15A3H-thomas-2018152-2018181.json',\n",
       "  'url': 'https://modis.ornl.gov/rst/api/v1/MCD15A3H/subset?latitude=34.45867831513905&longitude=-119.303403088672&startDate=A2018152&endDate=A2018181&kmAboveBelow=19&kmLeftRight=34'},\n",
       " {'start_date': '2018182',\n",
       "  'end_date': '2018212',\n",
       "  'json_path': 'MCD15A3H-thomas-2018182-2018212.json',\n",
       "  'url': 'https://modis.ornl.gov/rst/api/v1/MCD15A3H/subset?latitude=34.45867831513905&longitude=-119.303403088672&startDate=A2018182&endDate=A2018212&kmAboveBelow=19&kmLeftRight=34'},\n",
       " {'start_date': '2018213',\n",
       "  'end_date': '2018243',\n",
       "  'json_path': 'MCD15A3H-thomas-2018213-2018243.json',\n",
       "  'url': 'https://modis.ornl.gov/rst/api/v1/MCD15A3H/subset?latitude=34.45867831513905&longitude=-119.303403088672&startDate=A2018213&endDate=A2018243&kmAboveBelow=19&kmLeftRight=34'},\n",
       " {'start_date': '2018244',\n",
       "  'end_date': '2018273',\n",
       "  'json_path': 'MCD15A3H-thomas-2018244-2018273.json',\n",
       "  'url': 'https://modis.ornl.gov/rst/api/v1/MCD15A3H/subset?latitude=34.45867831513905&longitude=-119.303403088672&startDate=A2018244&endDate=A2018273&kmAboveBelow=19&kmLeftRight=34'},\n",
       " {'start_date': '2018274',\n",
       "  'end_date': '2018304',\n",
       "  'json_path': 'MCD15A3H-thomas-2018274-2018304.json',\n",
       "  'url': 'https://modis.ornl.gov/rst/api/v1/MCD15A3H/subset?latitude=34.45867831513905&longitude=-119.303403088672&startDate=A2018274&endDate=A2018304&kmAboveBelow=19&kmLeftRight=34'},\n",
       " {'start_date': '2018305',\n",
       "  'end_date': '2018334',\n",
       "  'json_path': 'MCD15A3H-thomas-2018305-2018334.json',\n",
       "  'url': 'https://modis.ornl.gov/rst/api/v1/MCD15A3H/subset?latitude=34.45867831513905&longitude=-119.303403088672&startDate=A2018305&endDate=A2018334&kmAboveBelow=19&kmLeftRight=34'},\n",
       " {'start_date': '2018335',\n",
       "  'end_date': '2018365',\n",
       "  'json_path': 'MCD15A3H-thomas-2018335-2018365.json',\n",
       "  'url': 'https://modis.ornl.gov/rst/api/v1/MCD15A3H/subset?latitude=34.45867831513905&longitude=-119.303403088672&startDate=A2018335&endDate=A2018365&kmAboveBelow=19&kmLeftRight=34'}]"
      ]
     },
     "execution_count": 15,
     "metadata": {},
     "output_type": "execute_result"
    }
   ],
   "source": [
    "# Create new key to store each chunks formatted request url\n",
    "for chunk in chunks:\n",
    "    start = chunk['start_date']\n",
    "    end = chunk['end_date']\n",
    "    chunk['url'] = (\n",
    "        f'https://modis.ornl.gov/rst/api/v1/{prod}/subset'\n",
    "        f'?latitude={lat}'\n",
    "        f'&longitude={lon}'\n",
    "        f'&startDate=A{start}'\n",
    "        f'&endDate=A{end}'\n",
    "        f'&kmAboveBelow={km_above_below}'\n",
    "        f'&kmLeftRight={km_left_right}')\n",
    "\n",
    "chunks"
   ]
  },
  {
   "cell_type": "code",
   "execution_count": 16,
   "id": "34ef13f0",
   "metadata": {
    "deletable": false,
    "editable": false,
    "nbgrader": {
     "cell_type": "code",
     "checksum": "836c9bdfc332ceafab27caf4442de8e4",
     "grade": true,
     "grade_id": "tests-url",
     "locked": true,
     "points": 3,
     "schema_version": 3,
     "solution": false,
     "task": false
    }
   },
   "outputs": [
    {
     "name": "stdout",
     "output_type": "stream",
     "text": [
      "✅ Nice work! You returned a list of dictionaries.\n",
      "✅ Nice work! Your dictionaries all have four values.\n",
      "You earned 3 of 3 points for generating urls\n"
     ]
    },
    {
     "data": {
      "text/plain": [
       "3"
      ]
     },
     "execution_count": 16,
     "metadata": {},
     "output_type": "execute_result"
    }
   ],
   "source": [
    "ans_url = _\n",
    "url_pts = 0\n",
    "\n",
    "# Test if the data are a list of dictionaries\n",
    "if all([isinstance(d, dict) for d in ans_url]):\n",
    "    print('\\u2705 Nice work! You returned a list of dictionaries.')\n",
    "    url_pts += 1\n",
    "else:\n",
    "    print('\\u274C Check that you returned a list of dictionaries')\n",
    "    \n",
    "# Test if dictionaries have the correct number of values\n",
    "if all([len(d)==4 for d in ans_url]):\n",
    "    print('\\u2705 Nice work! Your dictionaries all have four values.')\n",
    "    url_pts += 2\n",
    "else:\n",
    "    print('\\u274C Check that you have a url in each ditionary')\n",
    "    \n",
    "print('You earned {} of 3 points for generating urls'\n",
    "      .format(url_pts))\n",
    "url_pts"
   ]
  },
  {
   "cell_type": "markdown",
   "id": "fdc8060c",
   "metadata": {
    "deletable": false,
    "editable": false,
    "nbgrader": {
     "cell_type": "markdown",
     "checksum": "2d75b40aaa1acfdfcb4c62a476382f4d",
     "grade": false,
     "grade_id": "instr-download-modis",
     "locked": true,
     "schema_version": 3,
     "solution": false,
     "task": false
    }
   },
   "source": [
    "### Download and Cache the MODIS data\n",
    "\n",
    "Using a `for` loop, download one MODIS `.json` file for each of your data chunk dictionaries.\n",
    "\n",
    "1. **Download:** You can't do this with earthpy, because this content is not available in the default format that earthpy uses. Instead, use the `get` function from the `requests` library, specifying in the header that you would like content in JSON format:\n",
    "\n",
    "```python\n",
    "response = requests.get(chunk['url'], headers={'Accept': 'application/json'})\n",
    "```\n",
    "\n",
    "2. **Cache:** Use a conditional statement to ensure that you don't download data that you already have. To save JSON data, you can use a **context manager** and the `json` library. For example:\n",
    "    \n",
    "```python\n",
    "with open(chunk['path'], 'w') as json_file:\n",
    "    json.dump(response.json(), json_file)\n",
    "```\n",
    "> So what's going on with the `with` and the `as` and the `open`? You need to open the file with writing permission ('w') before you can write, or \"dump\", JSON into it. By using the **context manager**, or `with/as` statement, you ensure that the file closes when you're done writing. This is important for memory management, so you don't have a bunch of open files taking up valuable space. You'll use a context manager in future assignments for opening lots of files - see [this LiDAR lesson.](https://www.earthdatascience.org/workshops/gis-open-source-python/open-lidar-raster-python/)\n",
    "\n",
    "You don't need to call anything for testing here."
   ]
  },
  {
   "cell_type": "code",
   "execution_count": 17,
   "id": "6d39f14f",
   "metadata": {
    "deletable": false,
    "nbgrader": {
     "cell_type": "code",
     "checksum": "16f698a21a82b1fced9b0e893ebe4db9",
     "grade": false,
     "grade_id": "ans-download-modis",
     "locked": false,
     "schema_version": 3,
     "solution": true,
     "task": false
    }
   },
   "outputs": [
    {
     "name": "stdout",
     "output_type": "stream",
     "text": [
      "All files cached\n"
     ]
    }
   ],
   "source": [
    "# Change working directory\n",
    "try:\n",
    "    os.chdir('thomas-modis-lai')\n",
    "except:\n",
    "    pass\n",
    "\n",
    "# Download and cache modis data in new json file for each chunk\n",
    "for chunk in chunks:\n",
    "    if not os.path.exists(chunk['json_path']):\n",
    "        with open(chunk['json_path'], 'w') as json_file:\n",
    "            print(f'Caching file: {json_file.name} in {os.getcwd()}')\n",
    "            response = requests.get(chunk['url'], headers={\n",
    "                                    'Accept': 'application/json'})\n",
    "            json.dump(response.json(), json_file)\n",
    "\n",
    "print('All files cached')"
   ]
  },
  {
   "cell_type": "code",
   "execution_count": 18,
   "id": "c848836e",
   "metadata": {
    "deletable": false,
    "editable": false,
    "nbgrader": {
     "cell_type": "code",
     "checksum": "e97228462a7283415861235bece20321",
     "grade": true,
     "grade_id": "tests-download-modis",
     "locked": true,
     "points": 5,
     "schema_version": 3,
     "solution": false,
     "task": false
    }
   },
   "outputs": [
    {
     "name": "stdout",
     "output_type": "stream",
     "text": [
      "✅ Nice work! Your JSON files all exist now.\n",
      "You earned 5 of 5 points for downloading and caching MODIS JSON files\n"
     ]
    },
    {
     "data": {
      "text/plain": [
       "5"
      ]
     },
     "execution_count": 18,
     "metadata": {},
     "output_type": "execute_result"
    }
   ],
   "source": [
    "modis_download_pts = 0\n",
    "\n",
    "if all([any([os.path.exists(val) for val in d.values()]) for d in ans_json]):\n",
    "    print('\\u2705 Nice work! Your JSON files all exist now.')\n",
    "    modis_download_pts += 5\n",
    "else:\n",
    "    print('\\u274C Check that your download completed.')\n",
    "\n",
    "print('You earned {} of 5 points for downloading and caching MODIS JSON files'\n",
    "      .format(modis_download_pts))\n",
    "modis_download_pts"
   ]
  },
  {
   "cell_type": "markdown",
   "id": "e9c72d1e",
   "metadata": {
    "deletable": false,
    "editable": false,
    "nbgrader": {
     "cell_type": "markdown",
     "checksum": "08a42a269ea72b43d957284138859484",
     "grade": false,
     "grade_id": "inst-load-modis",
     "locked": true,
     "schema_version": 3,
     "solution": false,
     "task": false
    }
   },
   "source": [
    "## Step 4: Import MODIS JSON files as `xr.DataArray`s\n",
    "\n",
    "This loop is long and tricky! You will need to refer to both the data documentation and likely the documentation of some Python libraries to get it to work. You may also find it helpful to open up one of the JSON files, which you can do in a text editor or web browser. Some tips:\n",
    "  * **Do not attempt to run it all at once**. \n",
    "  * Complete one step at a time, making sure to test that it works\n",
    "  * Make use of the tools you've learned for testing and debugging: print statements, .plot() methods\n",
    "  * Do your tests on a **subset** of your data so it doesn't take long (e.g. once or twice through the loop).\n",
    "  * Read the instructions very carefully! I'm including a lot of the gotchas here, as well as all the new functions you will need.\n",
    "  * You will probably not find a solution to this exact problem on Google. However, there are several examples of how to do parts of this workflow in [the textbook, which is search-able](https://www.earthdatascience.org/search/).\n",
    "\n",
    "### Step 4: Overview\n",
    "Using a `for` loop, import the data you downloaded as `DataArray`s. There are multiple observations in each JSON file, so you will need to have a loop with your loop, or a **nested** loop.\n",
    "\n",
    "### Step 4 Part 1: Loop through each JSON file\n",
    "The following code will need to run for each JSON file. You will need to replace the variable names with the ones you chose. One you successfully do that, the code will:\n",
    "\n",
    "  1. Read in your data from JSON\n",
    "  2. Generate x and y coordinates for your data from the JSON metadata\n",
    "\n",
    "```python\n",
    "#### Read in json data ####\n",
    "# Throw an error if the json file doesn't exist\n",
    "if not os.path.exists(chunk['path']):\n",
    "    raise ValueError('Path to .json file does not exist')\n",
    "# Open JSON file and load contents\n",
    "with open(chunk['path'], 'r') as json_file:\n",
    "    lai_json = json.load(json_file)\n",
    "\n",
    "\n",
    "#### Convert JSON to raster ####\n",
    "# Define coordinates\n",
    "xll, yll = float(lai_json['xllcorner']), float(lai_json['yllcorner'])\n",
    "nrows, ncols = lai_json['nrows'], lai_json['ncols']\n",
    "cellsize = lai_json['cellsize'] \n",
    "\n",
    "x_coords = [xll + cellsize * xi for xi in range(ncols)]\n",
    "y_coords = [yll + cellsize * yi for yi in range(nrows)]\n",
    "y_coords.reverse()\n",
    "```\n",
    "### Step 4 Part 2: Loop through each observation in each JSON file\n",
    "First, write another `for` loop to cycle through each observation (in this case, an observation is a list of data from a single date and band)\n",
    "\n",
    "**Using a conditional statement, make sure that that the 'band' of each observation is 'Lai_500m'.**\n",
    "\n",
    "Next, modify the code below, which will, once correctly modified to match your variable names:\n",
    "  1. Build the data into a DataArray\n",
    "  2. Assign the correct CRS\n",
    "  3. Mask invalid data - you will need to set this variable based on the documentation\n",
    "  4. Scale the data - again, you will need to set this variable based on the documentation\n",
    "  5. Add the DataArray to a list\n",
    "        \n",
    "```python\n",
    "# Add extra dimension to each value\n",
    "date = [pd.to_datetime(obs['calendar_date'])]\n",
    "grid = [np.array_split(obs['data'], nrows)]\n",
    "\n",
    "# Build DataArray\n",
    "lai_da = (\n",
    "    xr.DataArray(\n",
    "        data=grid, \n",
    "        coords={'date': date, 'y': y_coords, 'x': x_coords},\n",
    "        dims=['date', 'y', 'x'],\n",
    "        name='lai')\n",
    "    .rio.write_crs(modis_crs))\n",
    "\n",
    "# Mask NA values\n",
    "lai_masked_da = lai_da.where(lai_da < max_valid)\n",
    "\n",
    "# Multiply by scale factor\n",
    "lai_scaled_da = lai_masked_da * scale_factor\n",
    "\n",
    "# Add DataArray to list for concatenation\n",
    "lai_das.append(lai_scaled_da)\n",
    "```\n",
    "        \n",
    "### Step 4 Part 3: Concatenate\n",
    "Take your list of DataArrays and concatenate (using the .concat() method) into a spatiotemporal DataArray along the 'date' dimension. Check out [this example from the textbook about how to concatenate DataArrays.](https://www.earthdatascience.org/courses/use-data-open-source-python/multispectral-remote-sensing/landsat-in-Python/open-and-crop-data/)"
   ]
  },
  {
   "cell_type": "code",
   "execution_count": 19,
   "id": "22cb5a02",
   "metadata": {
    "deletable": false,
    "nbgrader": {
     "cell_type": "code",
     "checksum": "47043a039c7eaea57b2a6d420531e112",
     "grade": false,
     "grade_id": "ans-load-modis",
     "locked": false,
     "schema_version": 3,
     "solution": true,
     "task": false
    }
   },
   "outputs": [
    {
     "data": {
      "text/html": [
       "<div><svg style=\"position: absolute; width: 0; height: 0; overflow: hidden\">\n",
       "<defs>\n",
       "<symbol id=\"icon-database\" viewBox=\"0 0 32 32\">\n",
       "<path d=\"M16 0c-8.837 0-16 2.239-16 5v4c0 2.761 7.163 5 16 5s16-2.239 16-5v-4c0-2.761-7.163-5-16-5z\"></path>\n",
       "<path d=\"M16 17c-8.837 0-16-2.239-16-5v6c0 2.761 7.163 5 16 5s16-2.239 16-5v-6c0 2.761-7.163 5-16 5z\"></path>\n",
       "<path d=\"M16 26c-8.837 0-16-2.239-16-5v6c0 2.761 7.163 5 16 5s16-2.239 16-5v-6c0 2.761-7.163 5-16 5z\"></path>\n",
       "</symbol>\n",
       "<symbol id=\"icon-file-text2\" viewBox=\"0 0 32 32\">\n",
       "<path d=\"M28.681 7.159c-0.694-0.947-1.662-2.053-2.724-3.116s-2.169-2.030-3.116-2.724c-1.612-1.182-2.393-1.319-2.841-1.319h-15.5c-1.378 0-2.5 1.121-2.5 2.5v27c0 1.378 1.122 2.5 2.5 2.5h23c1.378 0 2.5-1.122 2.5-2.5v-19.5c0-0.448-0.137-1.23-1.319-2.841zM24.543 5.457c0.959 0.959 1.712 1.825 2.268 2.543h-4.811v-4.811c0.718 0.556 1.584 1.309 2.543 2.268zM28 29.5c0 0.271-0.229 0.5-0.5 0.5h-23c-0.271 0-0.5-0.229-0.5-0.5v-27c0-0.271 0.229-0.5 0.5-0.5 0 0 15.499-0 15.5 0v7c0 0.552 0.448 1 1 1h7v19.5z\"></path>\n",
       "<path d=\"M23 26h-14c-0.552 0-1-0.448-1-1s0.448-1 1-1h14c0.552 0 1 0.448 1 1s-0.448 1-1 1z\"></path>\n",
       "<path d=\"M23 22h-14c-0.552 0-1-0.448-1-1s0.448-1 1-1h14c0.552 0 1 0.448 1 1s-0.448 1-1 1z\"></path>\n",
       "<path d=\"M23 18h-14c-0.552 0-1-0.448-1-1s0.448-1 1-1h14c0.552 0 1 0.448 1 1s-0.448 1-1 1z\"></path>\n",
       "</symbol>\n",
       "</defs>\n",
       "</svg>\n",
       "<style>/* CSS stylesheet for displaying xarray objects in jupyterlab.\n",
       " *\n",
       " */\n",
       "\n",
       ":root {\n",
       "  --xr-font-color0: var(--jp-content-font-color0, rgba(0, 0, 0, 1));\n",
       "  --xr-font-color2: var(--jp-content-font-color2, rgba(0, 0, 0, 0.54));\n",
       "  --xr-font-color3: var(--jp-content-font-color3, rgba(0, 0, 0, 0.38));\n",
       "  --xr-border-color: var(--jp-border-color2, #e0e0e0);\n",
       "  --xr-disabled-color: var(--jp-layout-color3, #bdbdbd);\n",
       "  --xr-background-color: var(--jp-layout-color0, white);\n",
       "  --xr-background-color-row-even: var(--jp-layout-color1, white);\n",
       "  --xr-background-color-row-odd: var(--jp-layout-color2, #eeeeee);\n",
       "}\n",
       "\n",
       "html[theme=dark],\n",
       "body[data-theme=dark],\n",
       "body.vscode-dark {\n",
       "  --xr-font-color0: rgba(255, 255, 255, 1);\n",
       "  --xr-font-color2: rgba(255, 255, 255, 0.54);\n",
       "  --xr-font-color3: rgba(255, 255, 255, 0.38);\n",
       "  --xr-border-color: #1F1F1F;\n",
       "  --xr-disabled-color: #515151;\n",
       "  --xr-background-color: #111111;\n",
       "  --xr-background-color-row-even: #111111;\n",
       "  --xr-background-color-row-odd: #313131;\n",
       "}\n",
       "\n",
       ".xr-wrap {\n",
       "  display: block !important;\n",
       "  min-width: 300px;\n",
       "  max-width: 700px;\n",
       "}\n",
       "\n",
       ".xr-text-repr-fallback {\n",
       "  /* fallback to plain text repr when CSS is not injected (untrusted notebook) */\n",
       "  display: none;\n",
       "}\n",
       "\n",
       ".xr-header {\n",
       "  padding-top: 6px;\n",
       "  padding-bottom: 6px;\n",
       "  margin-bottom: 4px;\n",
       "  border-bottom: solid 1px var(--xr-border-color);\n",
       "}\n",
       "\n",
       ".xr-header > div,\n",
       ".xr-header > ul {\n",
       "  display: inline;\n",
       "  margin-top: 0;\n",
       "  margin-bottom: 0;\n",
       "}\n",
       "\n",
       ".xr-obj-type,\n",
       ".xr-array-name {\n",
       "  margin-left: 2px;\n",
       "  margin-right: 10px;\n",
       "}\n",
       "\n",
       ".xr-obj-type {\n",
       "  color: var(--xr-font-color2);\n",
       "}\n",
       "\n",
       ".xr-sections {\n",
       "  padding-left: 0 !important;\n",
       "  display: grid;\n",
       "  grid-template-columns: 150px auto auto 1fr 20px 20px;\n",
       "}\n",
       "\n",
       ".xr-section-item {\n",
       "  display: contents;\n",
       "}\n",
       "\n",
       ".xr-section-item input {\n",
       "  display: none;\n",
       "}\n",
       "\n",
       ".xr-section-item input + label {\n",
       "  color: var(--xr-disabled-color);\n",
       "}\n",
       "\n",
       ".xr-section-item input:enabled + label {\n",
       "  cursor: pointer;\n",
       "  color: var(--xr-font-color2);\n",
       "}\n",
       "\n",
       ".xr-section-item input:enabled + label:hover {\n",
       "  color: var(--xr-font-color0);\n",
       "}\n",
       "\n",
       ".xr-section-summary {\n",
       "  grid-column: 1;\n",
       "  color: var(--xr-font-color2);\n",
       "  font-weight: 500;\n",
       "}\n",
       "\n",
       ".xr-section-summary > span {\n",
       "  display: inline-block;\n",
       "  padding-left: 0.5em;\n",
       "}\n",
       "\n",
       ".xr-section-summary-in:disabled + label {\n",
       "  color: var(--xr-font-color2);\n",
       "}\n",
       "\n",
       ".xr-section-summary-in + label:before {\n",
       "  display: inline-block;\n",
       "  content: '►';\n",
       "  font-size: 11px;\n",
       "  width: 15px;\n",
       "  text-align: center;\n",
       "}\n",
       "\n",
       ".xr-section-summary-in:disabled + label:before {\n",
       "  color: var(--xr-disabled-color);\n",
       "}\n",
       "\n",
       ".xr-section-summary-in:checked + label:before {\n",
       "  content: '▼';\n",
       "}\n",
       "\n",
       ".xr-section-summary-in:checked + label > span {\n",
       "  display: none;\n",
       "}\n",
       "\n",
       ".xr-section-summary,\n",
       ".xr-section-inline-details {\n",
       "  padding-top: 4px;\n",
       "  padding-bottom: 4px;\n",
       "}\n",
       "\n",
       ".xr-section-inline-details {\n",
       "  grid-column: 2 / -1;\n",
       "}\n",
       "\n",
       ".xr-section-details {\n",
       "  display: none;\n",
       "  grid-column: 1 / -1;\n",
       "  margin-bottom: 5px;\n",
       "}\n",
       "\n",
       ".xr-section-summary-in:checked ~ .xr-section-details {\n",
       "  display: contents;\n",
       "}\n",
       "\n",
       ".xr-array-wrap {\n",
       "  grid-column: 1 / -1;\n",
       "  display: grid;\n",
       "  grid-template-columns: 20px auto;\n",
       "}\n",
       "\n",
       ".xr-array-wrap > label {\n",
       "  grid-column: 1;\n",
       "  vertical-align: top;\n",
       "}\n",
       "\n",
       ".xr-preview {\n",
       "  color: var(--xr-font-color3);\n",
       "}\n",
       "\n",
       ".xr-array-preview,\n",
       ".xr-array-data {\n",
       "  padding: 0 5px !important;\n",
       "  grid-column: 2;\n",
       "}\n",
       "\n",
       ".xr-array-data,\n",
       ".xr-array-in:checked ~ .xr-array-preview {\n",
       "  display: none;\n",
       "}\n",
       "\n",
       ".xr-array-in:checked ~ .xr-array-data,\n",
       ".xr-array-preview {\n",
       "  display: inline-block;\n",
       "}\n",
       "\n",
       ".xr-dim-list {\n",
       "  display: inline-block !important;\n",
       "  list-style: none;\n",
       "  padding: 0 !important;\n",
       "  margin: 0;\n",
       "}\n",
       "\n",
       ".xr-dim-list li {\n",
       "  display: inline-block;\n",
       "  padding: 0;\n",
       "  margin: 0;\n",
       "}\n",
       "\n",
       ".xr-dim-list:before {\n",
       "  content: '(';\n",
       "}\n",
       "\n",
       ".xr-dim-list:after {\n",
       "  content: ')';\n",
       "}\n",
       "\n",
       ".xr-dim-list li:not(:last-child):after {\n",
       "  content: ',';\n",
       "  padding-right: 5px;\n",
       "}\n",
       "\n",
       ".xr-has-index {\n",
       "  font-weight: bold;\n",
       "}\n",
       "\n",
       ".xr-var-list,\n",
       ".xr-var-item {\n",
       "  display: contents;\n",
       "}\n",
       "\n",
       ".xr-var-item > div,\n",
       ".xr-var-item label,\n",
       ".xr-var-item > .xr-var-name span {\n",
       "  background-color: var(--xr-background-color-row-even);\n",
       "  margin-bottom: 0;\n",
       "}\n",
       "\n",
       ".xr-var-item > .xr-var-name:hover span {\n",
       "  padding-right: 5px;\n",
       "}\n",
       "\n",
       ".xr-var-list > li:nth-child(odd) > div,\n",
       ".xr-var-list > li:nth-child(odd) > label,\n",
       ".xr-var-list > li:nth-child(odd) > .xr-var-name span {\n",
       "  background-color: var(--xr-background-color-row-odd);\n",
       "}\n",
       "\n",
       ".xr-var-name {\n",
       "  grid-column: 1;\n",
       "}\n",
       "\n",
       ".xr-var-dims {\n",
       "  grid-column: 2;\n",
       "}\n",
       "\n",
       ".xr-var-dtype {\n",
       "  grid-column: 3;\n",
       "  text-align: right;\n",
       "  color: var(--xr-font-color2);\n",
       "}\n",
       "\n",
       ".xr-var-preview {\n",
       "  grid-column: 4;\n",
       "}\n",
       "\n",
       ".xr-var-name,\n",
       ".xr-var-dims,\n",
       ".xr-var-dtype,\n",
       ".xr-preview,\n",
       ".xr-attrs dt {\n",
       "  white-space: nowrap;\n",
       "  overflow: hidden;\n",
       "  text-overflow: ellipsis;\n",
       "  padding-right: 10px;\n",
       "}\n",
       "\n",
       ".xr-var-name:hover,\n",
       ".xr-var-dims:hover,\n",
       ".xr-var-dtype:hover,\n",
       ".xr-attrs dt:hover {\n",
       "  overflow: visible;\n",
       "  width: auto;\n",
       "  z-index: 1;\n",
       "}\n",
       "\n",
       ".xr-var-attrs,\n",
       ".xr-var-data {\n",
       "  display: none;\n",
       "  background-color: var(--xr-background-color) !important;\n",
       "  padding-bottom: 5px !important;\n",
       "}\n",
       "\n",
       ".xr-var-attrs-in:checked ~ .xr-var-attrs,\n",
       ".xr-var-data-in:checked ~ .xr-var-data {\n",
       "  display: block;\n",
       "}\n",
       "\n",
       ".xr-var-data > table {\n",
       "  float: right;\n",
       "}\n",
       "\n",
       ".xr-var-name span,\n",
       ".xr-var-data,\n",
       ".xr-attrs {\n",
       "  padding-left: 25px !important;\n",
       "}\n",
       "\n",
       ".xr-attrs,\n",
       ".xr-var-attrs,\n",
       ".xr-var-data {\n",
       "  grid-column: 1 / -1;\n",
       "}\n",
       "\n",
       "dl.xr-attrs {\n",
       "  padding: 0;\n",
       "  margin: 0;\n",
       "  display: grid;\n",
       "  grid-template-columns: 125px auto;\n",
       "}\n",
       "\n",
       ".xr-attrs dt,\n",
       ".xr-attrs dd {\n",
       "  padding: 0;\n",
       "  margin: 0;\n",
       "  float: left;\n",
       "  padding-right: 10px;\n",
       "  width: auto;\n",
       "}\n",
       "\n",
       ".xr-attrs dt {\n",
       "  font-weight: normal;\n",
       "  grid-column: 1;\n",
       "}\n",
       "\n",
       ".xr-attrs dt:hover span {\n",
       "  display: inline-block;\n",
       "  background: var(--xr-background-color);\n",
       "  padding-right: 10px;\n",
       "}\n",
       "\n",
       ".xr-attrs dd {\n",
       "  grid-column: 2;\n",
       "  white-space: pre-wrap;\n",
       "  word-break: break-all;\n",
       "}\n",
       "\n",
       ".xr-icon-database,\n",
       ".xr-icon-file-text2 {\n",
       "  display: inline-block;\n",
       "  vertical-align: middle;\n",
       "  width: 1em;\n",
       "  height: 1.5em !important;\n",
       "  stroke-width: 0;\n",
       "  stroke: currentColor;\n",
       "  fill: currentColor;\n",
       "}\n",
       "</style><pre class='xr-text-repr-fallback'>&lt;xarray.DataArray &#x27;lai&#x27; (date: 458, y: 77, x: 137)&gt;\n",
       "array([[[0.3, 0.3, 0.1, ..., 0.5, 0.5, 0.7],\n",
       "        [0.1, 0.1, 0.1, ..., 0.5, 0.6, 0.6],\n",
       "        [0.2, 0.3, 0.3, ..., 0.6, 0.7, 0.6],\n",
       "        ...,\n",
       "        [nan, nan, nan, ..., 0.3, 0.3, 0.3],\n",
       "        [nan, nan, nan, ..., 0.3, 0.2, 0.2],\n",
       "        [nan, nan, nan, ..., 0.2, 0.2, 0.2]],\n",
       "\n",
       "       [[0.4, 0.1, 0.1, ..., 0.6, 0.6, 0.7],\n",
       "        [0.1, 0.1, 0.1, ..., 0.5, 0.6, 0.6],\n",
       "        [0.1, 0.1, 0.2, ..., 0.6, 0.7, 0.7],\n",
       "        ...,\n",
       "        [nan, nan, nan, ..., 0.1, 0.2, 0.2],\n",
       "        [nan, nan, nan, ..., 0.2, 0.1, 0.1],\n",
       "        [nan, nan, nan, ..., 0.2, 0.1, 0.1]],\n",
       "\n",
       "       [[0.4, 0.1, 0.2, ..., 0.6, 0.6, 0.7],\n",
       "        [0.1, 0.1, 0.1, ..., 0.5, 0.6, 0.6],\n",
       "        [0.1, 0.2, 0.2, ..., 0.6, 0.7, 0.6],\n",
       "        ...,\n",
       "...\n",
       "        ...,\n",
       "        [nan, nan, nan, ..., 0.5, 0.5, 0.5],\n",
       "        [nan, nan, nan, ..., 0.4, 0.4, 0.4],\n",
       "        [nan, nan, nan, ..., 0.5, 0.4, 0.5]],\n",
       "\n",
       "       [[0.6, 0.3, 0.3, ..., 0.7, 0.9, 0.9],\n",
       "        [0.1, 0.1, 0.1, ..., 0.7, 0.6, 0.7],\n",
       "        [0.2, 0.3, 0.3, ..., 1. , 1. , 0.8],\n",
       "        ...,\n",
       "        [nan, nan, nan, ..., 0.5, 0.5, 0.5],\n",
       "        [nan, nan, nan, ..., 0.5, 0.5, 0.5],\n",
       "        [nan, nan, nan, ..., 0.6, 0.4, 0.4]],\n",
       "\n",
       "       [[0.6, 0.3, 0.3, ..., 0.6, 0.8, 0.8],\n",
       "        [0.3, 0.3, 0.3, ..., 0.8, 0.8, 0.7],\n",
       "        [0.3, 0.3, 0.3, ..., 1. , 0.8, 0.8],\n",
       "        ...,\n",
       "        [nan, nan, nan, ..., 0.4, 0.4, 0.4],\n",
       "        [nan, nan, nan, ..., 0.5, 0.4, 0.4],\n",
       "        [nan, nan, nan, ..., 0.5, 0.4, 0.4]]])\n",
       "Coordinates:\n",
       "  * date         (date) datetime64[ns] 2014-01-01 2014-01-05 ... 2018-12-31\n",
       "  * y            (y) float64 3.849e+06 3.849e+06 ... 3.814e+06 3.814e+06\n",
       "  * x            (x) float64 -1.097e+07 -1.097e+07 ... -1.091e+07 -1.091e+07\n",
       "    spatial_ref  int64 0</pre><div class='xr-wrap' style='display:none'><div class='xr-header'><div class='xr-obj-type'>xarray.DataArray</div><div class='xr-array-name'>'lai'</div><ul class='xr-dim-list'><li><span class='xr-has-index'>date</span>: 458</li><li><span class='xr-has-index'>y</span>: 77</li><li><span class='xr-has-index'>x</span>: 137</li></ul></div><ul class='xr-sections'><li class='xr-section-item'><div class='xr-array-wrap'><input id='section-de279be3-5aee-40fb-895a-ca71a0ce61ae' class='xr-array-in' type='checkbox' checked><label for='section-de279be3-5aee-40fb-895a-ca71a0ce61ae' title='Show/hide data repr'><svg class='icon xr-icon-database'><use xlink:href='#icon-database'></use></svg></label><div class='xr-array-preview xr-preview'><span>0.3 0.3 0.1 0.2 0.2 0.2 0.2 0.1 ... 0.7 0.6 0.5 0.5 0.4 0.5 0.4 0.4</span></div><div class='xr-array-data'><pre>array([[[0.3, 0.3, 0.1, ..., 0.5, 0.5, 0.7],\n",
       "        [0.1, 0.1, 0.1, ..., 0.5, 0.6, 0.6],\n",
       "        [0.2, 0.3, 0.3, ..., 0.6, 0.7, 0.6],\n",
       "        ...,\n",
       "        [nan, nan, nan, ..., 0.3, 0.3, 0.3],\n",
       "        [nan, nan, nan, ..., 0.3, 0.2, 0.2],\n",
       "        [nan, nan, nan, ..., 0.2, 0.2, 0.2]],\n",
       "\n",
       "       [[0.4, 0.1, 0.1, ..., 0.6, 0.6, 0.7],\n",
       "        [0.1, 0.1, 0.1, ..., 0.5, 0.6, 0.6],\n",
       "        [0.1, 0.1, 0.2, ..., 0.6, 0.7, 0.7],\n",
       "        ...,\n",
       "        [nan, nan, nan, ..., 0.1, 0.2, 0.2],\n",
       "        [nan, nan, nan, ..., 0.2, 0.1, 0.1],\n",
       "        [nan, nan, nan, ..., 0.2, 0.1, 0.1]],\n",
       "\n",
       "       [[0.4, 0.1, 0.2, ..., 0.6, 0.6, 0.7],\n",
       "        [0.1, 0.1, 0.1, ..., 0.5, 0.6, 0.6],\n",
       "        [0.1, 0.2, 0.2, ..., 0.6, 0.7, 0.6],\n",
       "        ...,\n",
       "...\n",
       "        ...,\n",
       "        [nan, nan, nan, ..., 0.5, 0.5, 0.5],\n",
       "        [nan, nan, nan, ..., 0.4, 0.4, 0.4],\n",
       "        [nan, nan, nan, ..., 0.5, 0.4, 0.5]],\n",
       "\n",
       "       [[0.6, 0.3, 0.3, ..., 0.7, 0.9, 0.9],\n",
       "        [0.1, 0.1, 0.1, ..., 0.7, 0.6, 0.7],\n",
       "        [0.2, 0.3, 0.3, ..., 1. , 1. , 0.8],\n",
       "        ...,\n",
       "        [nan, nan, nan, ..., 0.5, 0.5, 0.5],\n",
       "        [nan, nan, nan, ..., 0.5, 0.5, 0.5],\n",
       "        [nan, nan, nan, ..., 0.6, 0.4, 0.4]],\n",
       "\n",
       "       [[0.6, 0.3, 0.3, ..., 0.6, 0.8, 0.8],\n",
       "        [0.3, 0.3, 0.3, ..., 0.8, 0.8, 0.7],\n",
       "        [0.3, 0.3, 0.3, ..., 1. , 0.8, 0.8],\n",
       "        ...,\n",
       "        [nan, nan, nan, ..., 0.4, 0.4, 0.4],\n",
       "        [nan, nan, nan, ..., 0.5, 0.4, 0.4],\n",
       "        [nan, nan, nan, ..., 0.5, 0.4, 0.4]]])</pre></div></div></li><li class='xr-section-item'><input id='section-1427254f-bf13-4ee1-8c2d-7db661190b92' class='xr-section-summary-in' type='checkbox'  checked><label for='section-1427254f-bf13-4ee1-8c2d-7db661190b92' class='xr-section-summary' >Coordinates: <span>(4)</span></label><div class='xr-section-inline-details'></div><div class='xr-section-details'><ul class='xr-var-list'><li class='xr-var-item'><div class='xr-var-name'><span class='xr-has-index'>date</span></div><div class='xr-var-dims'>(date)</div><div class='xr-var-dtype'>datetime64[ns]</div><div class='xr-var-preview xr-preview'>2014-01-01 ... 2018-12-31</div><input id='attrs-48840429-cef7-454f-b162-dab475c76144' class='xr-var-attrs-in' type='checkbox' disabled><label for='attrs-48840429-cef7-454f-b162-dab475c76144' title='Show/Hide attributes'><svg class='icon xr-icon-file-text2'><use xlink:href='#icon-file-text2'></use></svg></label><input id='data-62a98cfe-a344-4a8b-b30e-0a6b04fb8cba' class='xr-var-data-in' type='checkbox'><label for='data-62a98cfe-a344-4a8b-b30e-0a6b04fb8cba' title='Show/Hide data repr'><svg class='icon xr-icon-database'><use xlink:href='#icon-database'></use></svg></label><div class='xr-var-attrs'><dl class='xr-attrs'></dl></div><div class='xr-var-data'><pre>array([&#x27;2014-01-01T00:00:00.000000000&#x27;, &#x27;2014-01-05T00:00:00.000000000&#x27;,\n",
       "       &#x27;2014-01-09T00:00:00.000000000&#x27;, ..., &#x27;2018-12-23T00:00:00.000000000&#x27;,\n",
       "       &#x27;2018-12-27T00:00:00.000000000&#x27;, &#x27;2018-12-31T00:00:00.000000000&#x27;],\n",
       "      dtype=&#x27;datetime64[ns]&#x27;)</pre></div></li><li class='xr-var-item'><div class='xr-var-name'><span class='xr-has-index'>y</span></div><div class='xr-var-dims'>(y)</div><div class='xr-var-dtype'>float64</div><div class='xr-var-preview xr-preview'>3.849e+06 3.849e+06 ... 3.814e+06</div><input id='attrs-f5bd756d-b578-4d97-9c42-eb5a1533ef43' class='xr-var-attrs-in' type='checkbox' disabled><label for='attrs-f5bd756d-b578-4d97-9c42-eb5a1533ef43' title='Show/Hide attributes'><svg class='icon xr-icon-file-text2'><use xlink:href='#icon-file-text2'></use></svg></label><input id='data-b2d678fd-b38c-4129-a36e-ef8325e34c41' class='xr-var-data-in' type='checkbox'><label for='data-b2d678fd-b38c-4129-a36e-ef8325e34c41' title='Show/Hide data repr'><svg class='icon xr-icon-database'><use xlink:href='#icon-database'></use></svg></label><div class='xr-var-attrs'><dl class='xr-attrs'></dl></div><div class='xr-var-data'><pre>array([3849202.046456, 3848738.73374 , 3848275.421023, 3847812.108307,\n",
       "       3847348.79559 , 3846885.482873, 3846422.170157, 3845958.85744 ,\n",
       "       3845495.544724, 3845032.232007, 3844568.919291, 3844105.606574,\n",
       "       3843642.293858, 3843178.981141, 3842715.668425, 3842252.355708,\n",
       "       3841789.042992, 3841325.730275, 3840862.417559, 3840399.104842,\n",
       "       3839935.792126, 3839472.479409, 3839009.166693, 3838545.853976,\n",
       "       3838082.541259, 3837619.228543, 3837155.915826, 3836692.60311 ,\n",
       "       3836229.290393, 3835765.977677, 3835302.66496 , 3834839.352244,\n",
       "       3834376.039527, 3833912.726811, 3833449.414094, 3832986.101378,\n",
       "       3832522.788661, 3832059.475945, 3831596.163228, 3831132.850512,\n",
       "       3830669.537795, 3830206.225078, 3829742.912362, 3829279.599645,\n",
       "       3828816.286929, 3828352.974212, 3827889.661496, 3827426.348779,\n",
       "       3826963.036063, 3826499.723346, 3826036.41063 , 3825573.097913,\n",
       "       3825109.785197, 3824646.47248 , 3824183.159764, 3823719.847047,\n",
       "       3823256.534331, 3822793.221614, 3822329.908898, 3821866.596181,\n",
       "       3821403.283464, 3820939.970748, 3820476.658031, 3820013.345315,\n",
       "       3819550.032598, 3819086.719882, 3818623.407165, 3818160.094449,\n",
       "       3817696.781732, 3817233.469016, 3816770.156299, 3816306.843583,\n",
       "       3815843.530866, 3815380.21815 , 3814916.905433, 3814453.592717,\n",
       "       3813990.28    ])</pre></div></li><li class='xr-var-item'><div class='xr-var-name'><span class='xr-has-index'>x</span></div><div class='xr-var-dims'>(x)</div><div class='xr-var-dtype'>float64</div><div class='xr-var-preview xr-preview'>-1.097e+07 ... -1.091e+07</div><input id='attrs-a63f3dcd-5462-46a4-9dba-f44957d2d4d5' class='xr-var-attrs-in' type='checkbox' disabled><label for='attrs-a63f3dcd-5462-46a4-9dba-f44957d2d4d5' title='Show/Hide attributes'><svg class='icon xr-icon-file-text2'><use xlink:href='#icon-file-text2'></use></svg></label><input id='data-00c0dd69-dfbd-4ab4-a213-fec3d8b1daa5' class='xr-var-data-in' type='checkbox'><label for='data-00c0dd69-dfbd-4ab4-a213-fec3d8b1daa5' title='Show/Hide data repr'><svg class='icon xr-icon-database'><use xlink:href='#icon-database'></use></svg></label><div class='xr-var-attrs'><dl class='xr-attrs'></dl></div><div class='xr-var-data'><pre>array([-10969855.2     , -10969391.887283, -10968928.574567, -10968465.26185 ,\n",
       "       -10968001.949134, -10967538.636417, -10967075.323701, -10966612.010984,\n",
       "       -10966148.698268, -10965685.385551, -10965222.072835, -10964758.760118,\n",
       "       -10964295.447402, -10963832.134685, -10963368.821969, -10962905.509252,\n",
       "       -10962442.196536, -10961978.883819, -10961515.571102, -10961052.258386,\n",
       "       -10960588.945669, -10960125.632953, -10959662.320236, -10959199.00752 ,\n",
       "       -10958735.694803, -10958272.382087, -10957809.06937 , -10957345.756654,\n",
       "       -10956882.443937, -10956419.131221, -10955955.818504, -10955492.505788,\n",
       "       -10955029.193071, -10954565.880355, -10954102.567638, -10953639.254922,\n",
       "       -10953175.942205, -10952712.629488, -10952249.316772, -10951786.004055,\n",
       "       -10951322.691339, -10950859.378622, -10950396.065906, -10949932.753189,\n",
       "       -10949469.440473, -10949006.127756, -10948542.81504 , -10948079.502323,\n",
       "       -10947616.189607, -10947152.87689 , -10946689.564174, -10946226.251457,\n",
       "       -10945762.938741, -10945299.626024, -10944836.313307, -10944373.000591,\n",
       "       -10943909.687874, -10943446.375158, -10942983.062441, -10942519.749725,\n",
       "       -10942056.437008, -10941593.124292, -10941129.811575, -10940666.498859,\n",
       "       -10940203.186142, -10939739.873426, -10939276.560709, -10938813.247993,\n",
       "       -10938349.935276, -10937886.62256 , -10937423.309843, -10936959.997127,\n",
       "       -10936496.68441 , -10936033.371693, -10935570.058977, -10935106.74626 ,\n",
       "       -10934643.433544, -10934180.120827, -10933716.808111, -10933253.495394,\n",
       "       -10932790.182678, -10932326.869961, -10931863.557245, -10931400.244528,\n",
       "       -10930936.931812, -10930473.619095, -10930010.306379, -10929546.993662,\n",
       "       -10929083.680946, -10928620.368229, -10928157.055512, -10927693.742796,\n",
       "       -10927230.430079, -10926767.117363, -10926303.804646, -10925840.49193 ,\n",
       "       -10925377.179213, -10924913.866497, -10924450.55378 , -10923987.241064,\n",
       "       -10923523.928347, -10923060.615631, -10922597.302914, -10922133.990198,\n",
       "       -10921670.677481, -10921207.364765, -10920744.052048, -10920280.739332,\n",
       "       -10919817.426615, -10919354.113898, -10918890.801182, -10918427.488465,\n",
       "       -10917964.175749, -10917500.863032, -10917037.550316, -10916574.237599,\n",
       "       -10916110.924883, -10915647.612166, -10915184.29945 , -10914720.986733,\n",
       "       -10914257.674017, -10913794.3613  , -10913331.048584, -10912867.735867,\n",
       "       -10912404.423151, -10911941.110434, -10911477.797717, -10911014.485001,\n",
       "       -10910551.172284, -10910087.859568, -10909624.546851, -10909161.234135,\n",
       "       -10908697.921418, -10908234.608702, -10907771.295985, -10907307.983269,\n",
       "       -10906844.670552])</pre></div></li><li class='xr-var-item'><div class='xr-var-name'><span>spatial_ref</span></div><div class='xr-var-dims'>()</div><div class='xr-var-dtype'>int64</div><div class='xr-var-preview xr-preview'>0</div><input id='attrs-6e0505cb-0008-40a1-9962-38bf13d97b2c' class='xr-var-attrs-in' type='checkbox' ><label for='attrs-6e0505cb-0008-40a1-9962-38bf13d97b2c' title='Show/Hide attributes'><svg class='icon xr-icon-file-text2'><use xlink:href='#icon-file-text2'></use></svg></label><input id='data-c7300399-6dee-4054-a78b-b6cb41e489c2' class='xr-var-data-in' type='checkbox'><label for='data-c7300399-6dee-4054-a78b-b6cb41e489c2' title='Show/Hide data repr'><svg class='icon xr-icon-database'><use xlink:href='#icon-database'></use></svg></label><div class='xr-var-attrs'><dl class='xr-attrs'><dt><span>crs_wkt :</span></dt><dd>PROJCS[&quot;unknown&quot;,GEOGCS[&quot;unknown&quot;,DATUM[&quot;unknown&quot;,SPHEROID[&quot;unknown&quot;,6371007.181,0]],PRIMEM[&quot;Greenwich&quot;,0,AUTHORITY[&quot;EPSG&quot;,&quot;8901&quot;]],UNIT[&quot;degree&quot;,0.0174532925199433,AUTHORITY[&quot;EPSG&quot;,&quot;9122&quot;]]],PROJECTION[&quot;Sinusoidal&quot;],PARAMETER[&quot;longitude_of_center&quot;,0],PARAMETER[&quot;false_easting&quot;,0],PARAMETER[&quot;false_northing&quot;,0],UNIT[&quot;metre&quot;,1,AUTHORITY[&quot;EPSG&quot;,&quot;9001&quot;]],AXIS[&quot;Easting&quot;,EAST],AXIS[&quot;Northing&quot;,NORTH]]</dd><dt><span>semi_major_axis :</span></dt><dd>6371007.181</dd><dt><span>semi_minor_axis :</span></dt><dd>6371007.181</dd><dt><span>inverse_flattening :</span></dt><dd>0.0</dd><dt><span>reference_ellipsoid_name :</span></dt><dd>unknown</dd><dt><span>longitude_of_prime_meridian :</span></dt><dd>0.0</dd><dt><span>prime_meridian_name :</span></dt><dd>Greenwich</dd><dt><span>geographic_crs_name :</span></dt><dd>unknown</dd><dt><span>horizontal_datum_name :</span></dt><dd>unknown</dd><dt><span>projected_crs_name :</span></dt><dd>unknown</dd><dt><span>grid_mapping_name :</span></dt><dd>sinusoidal</dd><dt><span>longitude_of_projection_origin :</span></dt><dd>0.0</dd><dt><span>false_easting :</span></dt><dd>0.0</dd><dt><span>false_northing :</span></dt><dd>0.0</dd><dt><span>spatial_ref :</span></dt><dd>PROJCS[&quot;unknown&quot;,GEOGCS[&quot;unknown&quot;,DATUM[&quot;unknown&quot;,SPHEROID[&quot;unknown&quot;,6371007.181,0]],PRIMEM[&quot;Greenwich&quot;,0,AUTHORITY[&quot;EPSG&quot;,&quot;8901&quot;]],UNIT[&quot;degree&quot;,0.0174532925199433,AUTHORITY[&quot;EPSG&quot;,&quot;9122&quot;]]],PROJECTION[&quot;Sinusoidal&quot;],PARAMETER[&quot;longitude_of_center&quot;,0],PARAMETER[&quot;false_easting&quot;,0],PARAMETER[&quot;false_northing&quot;,0],UNIT[&quot;metre&quot;,1,AUTHORITY[&quot;EPSG&quot;,&quot;9001&quot;]],AXIS[&quot;Easting&quot;,EAST],AXIS[&quot;Northing&quot;,NORTH]]</dd></dl></div><div class='xr-var-data'><pre>array(0)</pre></div></li></ul></div></li><li class='xr-section-item'><input id='section-481f5674-2392-4334-9afe-2264cf5655d0' class='xr-section-summary-in' type='checkbox' disabled ><label for='section-481f5674-2392-4334-9afe-2264cf5655d0' class='xr-section-summary'  title='Expand/collapse section'>Attributes: <span>(0)</span></label><div class='xr-section-inline-details'></div><div class='xr-section-details'><dl class='xr-attrs'></dl></div></li></ul></div></div>"
      ],
      "text/plain": [
       "<xarray.DataArray 'lai' (date: 458, y: 77, x: 137)>\n",
       "array([[[0.3, 0.3, 0.1, ..., 0.5, 0.5, 0.7],\n",
       "        [0.1, 0.1, 0.1, ..., 0.5, 0.6, 0.6],\n",
       "        [0.2, 0.3, 0.3, ..., 0.6, 0.7, 0.6],\n",
       "        ...,\n",
       "        [nan, nan, nan, ..., 0.3, 0.3, 0.3],\n",
       "        [nan, nan, nan, ..., 0.3, 0.2, 0.2],\n",
       "        [nan, nan, nan, ..., 0.2, 0.2, 0.2]],\n",
       "\n",
       "       [[0.4, 0.1, 0.1, ..., 0.6, 0.6, 0.7],\n",
       "        [0.1, 0.1, 0.1, ..., 0.5, 0.6, 0.6],\n",
       "        [0.1, 0.1, 0.2, ..., 0.6, 0.7, 0.7],\n",
       "        ...,\n",
       "        [nan, nan, nan, ..., 0.1, 0.2, 0.2],\n",
       "        [nan, nan, nan, ..., 0.2, 0.1, 0.1],\n",
       "        [nan, nan, nan, ..., 0.2, 0.1, 0.1]],\n",
       "\n",
       "       [[0.4, 0.1, 0.2, ..., 0.6, 0.6, 0.7],\n",
       "        [0.1, 0.1, 0.1, ..., 0.5, 0.6, 0.6],\n",
       "        [0.1, 0.2, 0.2, ..., 0.6, 0.7, 0.6],\n",
       "        ...,\n",
       "...\n",
       "        ...,\n",
       "        [nan, nan, nan, ..., 0.5, 0.5, 0.5],\n",
       "        [nan, nan, nan, ..., 0.4, 0.4, 0.4],\n",
       "        [nan, nan, nan, ..., 0.5, 0.4, 0.5]],\n",
       "\n",
       "       [[0.6, 0.3, 0.3, ..., 0.7, 0.9, 0.9],\n",
       "        [0.1, 0.1, 0.1, ..., 0.7, 0.6, 0.7],\n",
       "        [0.2, 0.3, 0.3, ..., 1. , 1. , 0.8],\n",
       "        ...,\n",
       "        [nan, nan, nan, ..., 0.5, 0.5, 0.5],\n",
       "        [nan, nan, nan, ..., 0.5, 0.5, 0.5],\n",
       "        [nan, nan, nan, ..., 0.6, 0.4, 0.4]],\n",
       "\n",
       "       [[0.6, 0.3, 0.3, ..., 0.6, 0.8, 0.8],\n",
       "        [0.3, 0.3, 0.3, ..., 0.8, 0.8, 0.7],\n",
       "        [0.3, 0.3, 0.3, ..., 1. , 0.8, 0.8],\n",
       "        ...,\n",
       "        [nan, nan, nan, ..., 0.4, 0.4, 0.4],\n",
       "        [nan, nan, nan, ..., 0.5, 0.4, 0.4],\n",
       "        [nan, nan, nan, ..., 0.5, 0.4, 0.4]]])\n",
       "Coordinates:\n",
       "  * date         (date) datetime64[ns] 2014-01-01 2014-01-05 ... 2018-12-31\n",
       "  * y            (y) float64 3.849e+06 3.849e+06 ... 3.814e+06 3.814e+06\n",
       "  * x            (x) float64 -1.097e+07 -1.097e+07 ... -1.091e+07 -1.091e+07\n",
       "    spatial_ref  int64 0"
      ]
     },
     "execution_count": 19,
     "metadata": {},
     "output_type": "execute_result"
    }
   ],
   "source": [
    "#### Read in json data ####\n",
    "# Throw an error if the json file doesn't exist\n",
    "\n",
    "\n",
    "lai_das = []\n",
    "cnt = 0\n",
    "for chunk in chunks:\n",
    "    # Raise error if path doesn't exist\n",
    "    if not os.path.exists(chunk['json_path']):\n",
    "        raise ValueError('Path to .json file does not exist')\n",
    "    # Open JSON file and load contents\n",
    "    with open(chunk['json_path'], 'r') as json_file:\n",
    "        lai_json = json.load(json_file)\n",
    "\n",
    "        #### Convert JSON to raster ####\n",
    "        # Define coordinates\n",
    "        xll, yll = float(lai_json['xllcorner']), float(lai_json['yllcorner'])\n",
    "        nrows, ncols = lai_json['nrows'], lai_json['ncols']\n",
    "        cellsize = lai_json['cellsize']\n",
    "\n",
    "        x_coords = [xll + cellsize * xi for xi in range(ncols)]\n",
    "        y_coords = [yll + cellsize * yi for yi in range(nrows)]\n",
    "        y_coords.reverse()\n",
    "\n",
    "    # Iterate through all bands with Lai_500 and create DataArray\n",
    "    for obs in lai_json['subset']:\n",
    "        if obs['band'] == 'Lai_500m':\n",
    "            date = [pd.to_datetime(obs['calendar_date'])]\n",
    "            grid = [np.array_split(obs['data'], nrows)]\n",
    "\n",
    "            lai_da = (\n",
    "                xr.DataArray(\n",
    "                    data=grid,\n",
    "                    coords={'date': date, 'y': y_coords, 'x': x_coords},\n",
    "                    dims=['date', 'y', 'x'],\n",
    "                    name='lai')\n",
    "                .rio.write_crs(modis_crs))\n",
    "\n",
    "            # Mask NA values\n",
    "            lai_masked_da = lai_da.where(lai_da < 100)\n",
    "\n",
    "            # Multiply by scale factor\n",
    "            lai_scaled_da = lai_masked_da * scale_factor\n",
    "\n",
    "            # Add DataArray to list for concatenation\n",
    "            lai_das.append(lai_scaled_da)\n",
    "\n",
    "# Concatenate DataArrays on date dimension\n",
    "thomas_lai_da = xr.concat(lai_das, dim=\"date\")\n",
    "\n",
    "thomas_lai_da"
   ]
  },
  {
   "cell_type": "code",
   "execution_count": 20,
   "id": "79f3642b",
   "metadata": {
    "deletable": false,
    "editable": false,
    "nbgrader": {
     "cell_type": "code",
     "checksum": "1f5c82f84f2d29ce3847cb857da303ea",
     "grade": true,
     "grade_id": "tests-load-modis",
     "locked": true,
     "points": 25,
     "schema_version": 3,
     "solution": false,
     "task": false
    }
   },
   "outputs": [
    {
     "name": "stdout",
     "output_type": "stream",
     "text": [
      "✅ Nice work! You returned a DataArray.\n",
      "✅ Nice work! Your DataArray has the right amount of data.\n",
      "✅ Nice work! Your DataArray has the right shape.\n",
      "✅ Nice work! Your DataArray has the right range.\n",
      "✅ Nice work! Your DataArray has the right values.\n",
      "You received 25 of 25 points for loading your MODIS data.\n"
     ]
    },
    {
     "data": {
      "text/plain": [
       "25"
      ]
     },
     "execution_count": 20,
     "metadata": {},
     "output_type": "execute_result"
    }
   ],
   "source": [
    "ans_da = _\n",
    "da_pts = 0\n",
    "\n",
    "if isinstance(ans_da, xr.DataArray):\n",
    "    print('\\u2705 Nice work! You returned a DataArray.')\n",
    "    da_pts += 2\n",
    "else:\n",
    "    print('\\u274C Check that you called your DataArray')\n",
    "\n",
    "if ans_da.size==4831442:\n",
    "    print('\\u2705 Nice work! Your DataArray has the right amount of data.')\n",
    "    da_pts += 5\n",
    "else:\n",
    "    print('\\u274C Check your DataArray size')\n",
    "    \n",
    "if ans_da.shape==(458, 77, 137):\n",
    "    print('\\u2705 Nice work! Your DataArray has the right shape.')\n",
    "    da_pts += 5\n",
    "else:\n",
    "    print('\\u274C Check your DataArray shape')\n",
    "    \n",
    "if (ans_da.min(), ans_da.max())==(0, 7):\n",
    "    print('\\u2705 Nice work! Your DataArray has the right range.')\n",
    "    da_pts += 6\n",
    "else:\n",
    "    print('\\u274C Check your DataArray range')\n",
    "    \n",
    "if round(float(ans_da.mean()), 2)==0.86:\n",
    "    print('\\u2705 Nice work! Your DataArray has the right values.')\n",
    "    da_pts += 7\n",
    "else:\n",
    "    print('\\u274C Check your DataArray values.')\n",
    "    \n",
    "print('You received {} of 25 points for loading your MODIS data.'\n",
    "      .format(da_pts))\n",
    "da_pts"
   ]
  },
  {
   "cell_type": "markdown",
   "id": "501dcc52",
   "metadata": {
    "deletable": false,
    "editable": false,
    "nbgrader": {
     "cell_type": "markdown",
     "checksum": "a140f663d86452f3673410df137440b1",
     "grade": false,
     "grade_id": "task-plot-check",
     "locked": true,
     "points": 5,
     "schema_version": 3,
     "solution": false,
     "task": true
    }
   },
   "source": [
    "### Verify your processing with a plot\n",
    "\n",
    "Select the first date after the Thomas Fire stopped burning, and generate a map. Include the Thomas Fire outline to make sure that your data match up.\n",
    "\n",
    "    > You can use `method='backfill'` with the DataSet.sel() method to get the next date if the date you give is between observations. However, there was an observation on the last day of the Thomas Fire."
   ]
  },
  {
   "cell_type": "code",
   "execution_count": 21,
   "id": "8a405cc9",
   "metadata": {
    "deletable": false,
    "nbgrader": {
     "cell_type": "code",
     "checksum": "9f74d3f4f8bf8e6559cdc71e1154f20c",
     "grade": false,
     "grade_id": "ans-plot-check",
     "locked": false,
     "schema_version": 3,
     "solution": true,
     "task": false
    }
   },
   "outputs": [
    {
     "data": {
      "text/plain": [
       "<AxesSubplot: title={'center': 'date = 2018-01-13, spatial_ref = 0'}, xlabel='x', ylabel='y'>"
      ]
     },
     "execution_count": 21,
     "metadata": {},
     "output_type": "execute_result"
    },
    {
     "data": {
      "image/png": "[encoded data removed]",
      "text/plain": [
       "<Figure size 800x500 with 2 Axes>"
      ]
     },
     "metadata": {},
     "output_type": "display_data"
    }
   ],
   "source": [
    "# Set fig\n",
    "f, ax = plt.subplots(figsize=(8, 5))\n",
    "\n",
    "# Define stop date\n",
    "stop_date = '2018-01-13'\n",
    "\n",
    "# Plot DateArray which contains the stop date\n",
    "thomas_lai_da.sel({'date': stop_date}, method='backfill').plot(\n",
    "    ax=ax, cmap='Greens', robust=True)\n",
    "\n",
    "# Plot fire outline\n",
    "thomas_sinu_gdf.plot(facecolor='None', ax=ax)"
   ]
  },
  {
   "cell_type": "markdown",
   "id": "3b433bf5",
   "metadata": {
    "deletable": false,
    "editable": false,
    "nbgrader": {
     "cell_type": "markdown",
     "checksum": "3c096ed16ef5ac187d32c942f28ef429",
     "grade": false,
     "grade_id": "instr-outside",
     "locked": true,
     "schema_version": 3,
     "solution": false,
     "task": false
    }
   },
   "source": [
    "## Plot the LAI inside and outside the fire perimeter\n",
    "\n",
    "Create a time series plot of the average LAI inside and outside the Thomas Fire perimeter (but within the envelope of the downloaded data).\n",
    "\n",
    "Start by computing a `GeoDataFrame` of the difference between the Thomas Fire perimeter envelope (e.g. `gdf.envelope`) and the perimeter itself. Call the new `GeoDataFrame` in the cell below\n",
    "\n",
    "> You can use the `.overlay(gdf, how='difference')` method of `GeoDataFrames` to take the difference"
   ]
  },
  {
   "cell_type": "code",
   "execution_count": 22,
   "id": "851d18af",
   "metadata": {
    "deletable": false,
    "nbgrader": {
     "cell_type": "code",
     "checksum": "16d4b07b9cd7f554912db10ac54b5f7d",
     "grade": false,
     "grade_id": "ans-outside",
     "locked": false,
     "schema_version": 3,
     "solution": true,
     "task": false
    }
   },
   "outputs": [
    {
     "data": {
      "text/html": [
       "<div>\n",
       "<style scoped>\n",
       "    .dataframe tbody tr th:only-of-type {\n",
       "        vertical-align: middle;\n",
       "    }\n",
       "\n",
       "    .dataframe tbody tr th {\n",
       "        vertical-align: top;\n",
       "    }\n",
       "\n",
       "    .dataframe thead th {\n",
       "        text-align: right;\n",
       "    }\n",
       "</style>\n",
       "<table border=\"1\" class=\"dataframe\">\n",
       "  <thead>\n",
       "    <tr style=\"text-align: right;\">\n",
       "      <th></th>\n",
       "      <th>geometry</th>\n",
       "    </tr>\n",
       "  </thead>\n",
       "  <tbody>\n",
       "    <tr>\n",
       "      <th>0</th>\n",
       "      <td>MULTIPOLYGON (((-10973717.805 3811755.240, -10...</td>\n",
       "    </tr>\n",
       "  </tbody>\n",
       "</table>\n",
       "</div>"
      ],
      "text/plain": [
       "                                            geometry\n",
       "0  MULTIPOLYGON (((-10973717.805 3811755.240, -10..."
      ]
     },
     "execution_count": 22,
     "metadata": {},
     "output_type": "execute_result"
    },
    {
     "data": {
      "image/png": "[encoded data removed]",
      "text/plain": [
       "<Figure size 640x480 with 1 Axes>"
      ]
     },
     "metadata": {},
     "output_type": "display_data"
    }
   ],
   "source": [
    "# Compute difference between envelope and perimeter\n",
    "outside_gdf = gpd.GeoDataFrame(geometry=thomas_sinu_gdf.envelope).overlay(\n",
    "    thomas_sinu_gdf, how='difference')\n",
    "\n",
    "# Plot region outside perimeter\n",
    "outside_gdf.plot()\n",
    "\n",
    "outside_gdf"
   ]
  },
  {
   "cell_type": "code",
   "execution_count": 23,
   "id": "78ad3c12",
   "metadata": {
    "deletable": false,
    "editable": false,
    "nbgrader": {
     "cell_type": "code",
     "checksum": "96e63b007e18ddf1de386ec15fdbdf7c",
     "grade": true,
     "grade_id": "tests-outside",
     "locked": true,
     "points": 5,
     "schema_version": 3,
     "solution": false,
     "task": false
    }
   },
   "outputs": [
    {
     "name": "stdout",
     "output_type": "stream",
     "text": [
      "✅ Nice work! You returned a GeoDataFrame.\n",
      "✅ Nice work! Your geometry has the correct length.\n",
      "You received 5 of 5 points for differencing geometries\n"
     ]
    },
    {
     "data": {
      "text/plain": [
       "5"
      ]
     },
     "execution_count": 23,
     "metadata": {},
     "output_type": "execute_result"
    }
   ],
   "source": [
    "ans_outside_gdf = _\n",
    "outside_gdf_pts = 0\n",
    "\n",
    "if isinstance(ans_outside_gdf, gpd.GeoDataFrame):\n",
    "    print('\\u2705 Nice work! You returned a GeoDataFrame.')\n",
    "    outside_gdf_pts += 1\n",
    "else:\n",
    "    print('\\u274C Check that you returned a GeoDataFrame')\n",
    "\n",
    "if round(float(ans_outside_gdf.length), 2) == 752360.47:\n",
    "    print('\\u2705 Nice work! Your geometry has the correct length.')\n",
    "    outside_gdf_pts += 4\n",
    "else:\n",
    "    print('\\u274C Check that correctly differenced geometries')\n",
    "\n",
    "print('You received {} of 5 points for differencing geometries'\n",
    "      .format(outside_gdf_pts))\n",
    "outside_gdf_pts"
   ]
  },
  {
   "cell_type": "markdown",
   "id": "06235798",
   "metadata": {
    "deletable": false,
    "editable": false,
    "nbgrader": {
     "cell_type": "markdown",
     "checksum": "7cbf650e59c5a1d8c5ce60251e9f0417",
     "grade": false,
     "grade_id": "task-ts-plot",
     "locked": true,
     "points": 25,
     "schema_version": 3,
     "solution": false,
     "task": true
    }
   },
   "source": [
    "\n",
    "Next, for both the fire perimeter and the area outside the fire perimeter:\n",
    "  1. Clip the LAI to the geometry\n",
    "  2. Take the mean value for each date.\n",
    "  3. Plot both time series on the same axes, with a legend."
   ]
  },
  {
   "cell_type": "code",
   "execution_count": 24,
   "id": "83656032",
   "metadata": {
    "deletable": false,
    "nbgrader": {
     "cell_type": "code",
     "checksum": "fc47d5053311a7dd36a9863075d0dde1",
     "grade": false,
     "grade_id": "ans-ts-plot",
     "locked": false,
     "schema_version": 3,
     "solution": true,
     "task": false
    }
   },
   "outputs": [
    {
     "data": {
      "text/plain": [
       "<matplotlib.legend.Legend at 0x14ebb2730>"
      ]
     },
     "execution_count": 24,
     "metadata": {},
     "output_type": "execute_result"
    },
    {
     "data": {
      "image/png": "[encoded data removed]",
      "text/plain": [
       "<Figure size 800x500 with 1 Axes>"
      ]
     },
     "metadata": {},
     "output_type": "display_data"
    }
   ],
   "source": [
    "# Set fig\n",
    "f, ax = plt.subplots(figsize=(8, 5))\n",
    "\n",
    "\n",
    "def clip_lai(geometry):\n",
    "    '''\n",
    "    Clips an inputted geometry to the thomas_lai_da and aggregates LAI by Date\n",
    "\n",
    "    '''\n",
    "    return thomas_lai_da.rio.clip(geometry).groupby('date').mean(...)\n",
    "\n",
    "\n",
    "# Plot inside\n",
    "clip_lai(thomas_sinu_gdf.geometry).plot(label='Inside')\n",
    "\n",
    "# Plot outside\n",
    "clip_lai(outside_gdf.geometry).plot(label='Inside')\n",
    "\n",
    "# Set plot elements\n",
    "plt.title('Average LAI Inside/Outside the Fire Perimeter')\n",
    "plt.xlabel('Date')\n",
    "plt.ylabel('LAI')\n",
    "plt.legend()"
   ]
  },
  {
   "cell_type": "markdown",
   "id": "d92b5839",
   "metadata": {
    "deletable": false,
    "editable": false,
    "nbgrader": {
     "cell_type": "markdown",
     "checksum": "c41d25fb9701b8a2de0f06bec3ebcb9c",
     "grade": false,
     "grade_id": "task-explain",
     "locked": true,
     "points": 10,
     "schema_version": 3,
     "solution": false,
     "task": true
    }
   },
   "source": [
    "## Explain your plot\n",
    "\n",
    "Write an assertion-evidence style headline (as a Markdown Header) and 2-3 bullet points to highlight your results."
   ]
  },
  {
   "cell_type": "markdown",
   "id": "b5c5e856",
   "metadata": {},
   "source": [
    "### The average leaf area index within the fire perimeter was substantially lower in comparison to previous years, due to the Thomas fire\n",
    "\n",
    "From the plot we can see the average LAI was significantly lower in comparison to previous years. Right after the fire we can see theres close to 0 LAI, indicating how much vegetation in the area was destroyed, and even in the peak months, the LAI was significantly less than trends prior. The LAI outside of the perimeter doesn't seem to have a change in comparison to previous data. "
   ]
  },
  {
   "cell_type": "markdown",
   "id": "dee4f716",
   "metadata": {
    "deletable": false,
    "editable": false,
    "nbgrader": {
     "cell_type": "markdown",
     "checksum": "f6222ad595ce6053ecf2de6e3b555dc7",
     "grade": false,
     "grade_id": "task-animation-bonus",
     "locked": true,
     "points": 0,
     "schema_version": 3,
     "solution": false,
     "task": true
    }
   },
   "source": [
    "## BONUS plot: Animation (10 pts extra credit)\n",
    "\n",
    "Using a `for` loop, animate each frame of the LAI data from 2017 and 2018 to highlight the change. Check out the second method in this [blog post by Allen Downey on how to do this in Jupyter notebook](https://www.allendowney.com/blog/2019/07/25/matplotlib-animation-in-jupyter/)."
   ]
  },
  {
   "cell_type": "code",
   "execution_count": 25,
   "id": "356e5339",
   "metadata": {
    "deletable": false,
    "nbgrader": {
     "cell_type": "code",
     "checksum": "567d9a35a7ee6ac91d4abe6eca708c5e",
     "grade": false,
     "grade_id": "ans-animation-bonus",
     "locked": false,
     "schema_version": 3,
     "solution": true,
     "task": false
    }
   },
   "outputs": [
    {
     "data": {
      "image/png": "[encoded data removed]",
      "text/plain": [
       "<Figure size 1000x500 with 1 Axes>"
      ]
     },
     "metadata": {},
     "output_type": "display_data"
    }
   ],
   "source": [
    "# Define date range\n",
    "lai_range = thomas_lai_da.loc['2017':'2018']\n",
    "\n",
    "# Iterate through LAI data and corresponding dates\n",
    "for index, date in zip(range(len(lai_range)), lai_range['date'].values):\n",
    "    # Set fig and show LAI frames\n",
    "    plt.figure(figsize=(10, 5))\n",
    "    plt.imshow(thomas_lai_da[index])\n",
    "    plt.title(\n",
    "        'Leaf Area Index (LAI) in 2017 & 2018 \\n\\nCurrent Frame Date: '\n",
    "        f'{pd.to_datetime(date).date()}')\n",
    "    plt.show()\n",
    "\n",
    "    # Small pause between frames\n",
    "    time.sleep(.1)\n",
    "    # Don't clear last frame\n",
    "    if (index+1) != len(lai_range):\n",
    "        clear_output(wait=True)\n",
    "\n",
    "# I can only get a scale to show when using thomas_lai_da.plot(), but each\n",
    "# frame has a slightly different scale"
   ]
  },
  {
   "cell_type": "markdown",
   "id": "91d9d13c",
   "metadata": {
    "deletable": false,
    "editable": false,
    "nbgrader": {
     "cell_type": "markdown",
     "checksum": "f690ab607d8f9d68e059a1773149293f",
     "grade": false,
     "grade_id": "reproducibility",
     "locked": true,
     "points": 5,
     "schema_version": 3,
     "solution": false,
     "task": true
    }
   },
   "source": [
    "# Reproducibility\n",
    "Notebook runs all the way through. **Make sure to Restart and Run All!**"
   ]
  },
  {
   "cell_type": "markdown",
   "id": "e01b7e0d",
   "metadata": {
    "deletable": false,
    "editable": false,
    "nbgrader": {
     "cell_type": "markdown",
     "checksum": "37581acc2fec052f8e31126a12dddecb",
     "grade": false,
     "grade_id": "style",
     "locked": true,
     "points": 5,
     "schema_version": 3,
     "solution": false,
     "task": true
    }
   },
   "source": [
    "# Style: PEP-8, Spelling and Grammar, and Comments"
   ]
  }
 ],
 "metadata": {
  "kernelspec": {
   "display_name": "Python 3 (ipykernel)",
   "language": "python",
   "name": "python3"
  },
  "language_info": {
   "codemirror_mode": {
    "name": "ipython",
    "version": 3
   },
   "file_extension": ".py",
   "mimetype": "text/x-python",
   "name": "python",
   "nbconvert_exporter": "python",
   "pygments_lexer": "ipython3",
   "version": "3.8.13"
  },
  "varInspector": {
   "cols": {
    "lenName": 16,
    "lenType": 16,
    "lenVar": 40
   },
   "kernels_config": {
    "python": {
     "delete_cmd_postfix": "",
     "delete_cmd_prefix": "del ",
     "library": "var_list.py",
     "varRefreshCmd": "print(var_dic_list())"
    },
    "r": {
     "delete_cmd_postfix": ") ",
     "delete_cmd_prefix": "rm(",
     "library": "var_list.r",
     "varRefreshCmd": "cat(var_dic_list()) "
    }
   },
   "types_to_exclude": [
    "module",
    "function",
    "builtin_function_or_method",
    "instance",
    "_Feature"
   ],
   "window_display": false
  }
 },
 "nbformat": 4,
 "nbformat_minor": 5
}
