{
 "cells": [
  {
   "cell_type": "markdown",
   "metadata": {},
   "source": [
    "<img style=\"float: left;\" src=\"earth-lab-logo-rgb.png\" width=\"150\" height=\"150\" />\n",
    "\n",
    "# Earth Analytics Education"
   ]
  },
  {
   "cell_type": "markdown",
   "metadata": {},
   "source": [
    "## Important  - Assignment Guidelines\n",
    "\n",
    "1. Before you submit your assignment to GitHub, make sure to run the entire notebook with a fresh kernel. To do this first, **restart the kernel** (in the menubar, select Kernel$\\rightarrow$Restart & Run All)\n",
    "2. Always replace the `raise NotImplementedError()` code with your code that addresses the activity challenge. If you don't replace that code, your notebook will not run.\n",
    "\n",
    "```\n",
    "# YOUR CODE HERE\n",
    "raise NotImplementedError()\n",
    "```\n",
    "\n",
    "3. Any open ended questions will have a \"YOUR ANSWER HERE\" within a markdown cell. Replace that text with your answer also formatted using Markdown.\n",
    "4. **DO NOT RENAME THIS NOTEBOOK File!** If the file name changes, the autograder will not grade your assignment properly.\n",
    "\n",
    "* Only include the package imports, code, and outputs that are required to run your homework assignment.\n",
    "* Be sure that your code can be run on any operating system. This means that:\n",
    "   1. the data should be downloaded in the notebook to ensure it's reproducible\n",
    "   2. all paths should be created dynamically using the `os.path.join`\n",
    "   3. sort lists of dated files even if they are sorted correctly by default on your machine\n",
    "\n",
    "## Follow to PEP 8 Syntax Guidelines & Documentation\n",
    "\n",
    "* Run the `autopep8` tool on all cells prior to submitting (HINT: hit shift + the tool to run it on all cells at once!\n",
    "* Use clear and expressive names for variables. \n",
    "* Organize your code to support readability.\n",
    "* Check for code line length\n",
    "* Use comments and white space sparingly where it is needed\n",
    "* Make sure all python imports are at the top of your notebook and follow PEP 8 order conventions\n",
    "* Spell check your Notebook before submitting it.\n",
    "\n",
    "For all of the plots below, be sure to do the following:\n",
    "\n",
    "* Make sure each plot has a clear TITLE and, where appropriate, label the x and y axes. Be sure to include UNITS in your labels.\n"
   ]
  },
  {
   "cell_type": "markdown",
   "metadata": {},
   "source": [
    "### Add Your Name Below \n",
    "**Michael Murdock**"
   ]
  },
  {
   "cell_type": "markdown",
   "metadata": {},
   "source": [
    "<img style=\"float: left;\" src=\"colored-bar.png\"/>"
   ]
  },
  {
   "cell_type": "markdown",
   "metadata": {},
   "source": [
    "---"
   ]
  },
  {
   "cell_type": "markdown",
   "metadata": {
    "deletable": false,
    "editable": false,
    "hideCode": false,
    "hidePrompt": false,
    "nbgrader": {
     "cell_type": "markdown",
     "checksum": "1dbf8c1d34f07e41268372411268e77e",
     "grade": false,
     "grade_id": "hw-instructions",
     "locked": true,
     "schema_version": 3,
     "solution": false
    }
   },
   "source": [
    "# Week 10 Homework - Time Series Data\n",
    "\n",
    "To complete assignment 10, be sure to review the following chapters:\n",
    "\n",
    "* <a href=\"https://www.earthdatascience.org/courses/use-data-open-source-python/use-time-series-data-in-python/introduction-to-time-series-in-pandas-python/\" target=\"_blank\"> Time series data in Pandas </a>\n",
    "* <a href=\"https://www.earthdatascience.org/courses/use-data-open-source-python/data-stories/colorado-floods-2013/\" target=\"_blank\">The overview of the 2013 Floods in Colorado, USA</a>\n",
    "\n",
    "in the Earth Lab Intermediate Earth Data Science online textbook on the earthdatascience.org website."
   ]
  },
  {
   "cell_type": "markdown",
   "metadata": {
    "deletable": false,
    "editable": false,
    "nbgrader": {
     "cell_type": "markdown",
     "checksum": "dda9c65d73200cc0f0c1299b07dd9665",
     "grade": false,
     "grade_id": "cell-d1144397970fbe4c",
     "locked": true,
     "points": 7,
     "schema_version": 3,
     "solution": false,
     "task": true
    }
   },
   "source": [
    "\n",
    "## Streamflow and Precipitation Data During the Boulder 2013 Flood Event\n",
    "\n",
    "### Data Selection\n",
    "\n",
    "For this assignment, you will write Python code to download and work with time \n",
    "series data associated with a large flood event that occured in Boulder, CO, USA in 2013. You will explore the relationship between precipitation and stream discharge \n",
    "for Boulder Creek as they increased and decreased during the flood \n",
    "event. You will also consider how the values compared to previous years before \n",
    "the flood event. \n",
    "\n",
    "In the cell below, explain what data you will need to complete this analysis, including:\n",
    "  1. What type or types of data do you need?\n",
    "  2. How many years of data do you need at minimum?\n",
    "  3. For this assignment, you will use Boulder, CO precipitation data from the National Oceanic and Atmosphereic Administration (NOAA) and streamflow data from the U.S. Geological Survey (USGS). Both should be at daily resolution or higher Are there any other data source options for retrieving the data you need? What are some advantages and/or disadvantages of other sources for this analysis?"
   ]
  },
  {
   "cell_type": "markdown",
   "metadata": {},
   "source": [
    "1. A date, that's converted into a DateTime object and a continuous or discrete value.\n",
    "2. 2 years\n",
    "3. There are other data source options like CoCoRaHS, OpenTopography, The National Map, etc. A disadvantage is oftentimes granularity and time it takes to acquire or read in the data, while the main advantage is credibility compared to provisional data in USGS and other types of data that may enhance our analysis."
   ]
  },
  {
   "cell_type": "markdown",
   "metadata": {
    "deletable": false,
    "editable": false,
    "nbgrader": {
     "cell_type": "markdown",
     "checksum": "4f513a44569f8c351b00575a1249ba53",
     "grade": false,
     "grade_id": "cell-1a726335f95ef4a2",
     "locked": true,
     "points": 2,
     "schema_version": 3,
     "solution": false,
     "task": true
    }
   },
   "source": [
    "### Data Download\n",
    "Practice downloading the data you need. **You will not use your downloaded data in the analysis, but you must follow these steps to get the correct urls.** In the cell below, use the following instructions to get urls for downloading the NOAA and USGS data:\n",
    "\n",
    "#### Download Precipitation data from NOAA:\n",
    "\n",
    "* Go to the [NOAA NCEI search page](https://www.ncdc.noaa.gov/cdo-web/search)\n",
    "    * In the dataset field, select the `Precipitation Hourly` dataset\n",
    "    * In the `Date Range` field, select data from January 1, 1984 to January 1, 2014 (30 years)\n",
    "    * In the `Search For` field, select `Station`\n",
    "    * In the search box, type `Boulder, CO`\n",
    "    * Press `Search`\n",
    "* You should see a list of stations matching your criteria. The first options should be `Boulder 2, CO US`.\n",
    "    * Click on the station in the list on the left. Check that the station is indeed near Boulder, CO.\n",
    "    * Click the orange `ADD TO CART` button\n",
    "    * Hover over the orange `Cart (Free Data)` button on the top right, and click `View All Items (1)`\n",
    "* Click through the check out process\n",
    "    * Check that you are downloading a CSV file\n",
    "    * Check that your dates are correct\n",
    "    * Click `Continue`\n",
    "* Check the `Precipitation` box and click `Continue`\n",
    "* Enter your email address and click `Submit Order`\n",
    "* Check your email. When your data finishes generating, click open the email link and copy the download link (should end in .csv)\n",
    "* Wait for your order to be completed.\n",
    "    * Click `Check Order Status` once the page loads\n",
    "    * OR you can check your email and follow the order status link there\n",
    "* Right click the `Download` button and copy the link to **paste in the cell below**\n",
    "    \n",
    "    \n",
    "#### Download Streamflow data from the USGS:\n",
    "\n",
    "* Go to the [USGS NWIS Water Data for the Nation mapper application](https://maps.waterdata.usgs.gov/mapper/index.html)\n",
    "* Search for `Boulder, CO` under `Place name:`\n",
    "* Click on the location near 75th St. in Boulder.\n",
    "* Click on `Daily Data`\n",
    "* Select the entire available date range, and set your results to be as `Tab-separated`, and press `Go`\n",
    "* Copy the url that populates in your browser window and paste it below\n",
    "    "
   ]
  },
  {
   "cell_type": "markdown",
   "metadata": {},
   "source": [
    "Data urls:\n",
    "  * NOAA precipitation: https://www.ncei.noaa.gov/orders/cdo/3093689.csv\n",
    "  * USGS streamflow: https://waterdata.usgs.gov/nwis/dv?cb_00060=on&format=rdb&site_no=06730200&referred_module=sw&period=&begin_date=1838-01-01&end_date=2022-09-27"
   ]
  },
  {
   "cell_type": "markdown",
   "metadata": {
    "deletable": false,
    "editable": false,
    "nbgrader": {
     "cell_type": "markdown",
     "checksum": "6e384bd1da42c9a6a72861cca1896ea2",
     "grade": false,
     "grade_id": "cell-504babee55fcd50a",
     "locked": true,
     "points": 4,
     "schema_version": 3,
     "solution": false,
     "task": true
    }
   },
   "source": [
    "#### Exploring APIs\n",
    "\n",
    "One way to access data is through an Application Programming Interface, or API. \n",
    "\n",
    "1. What parameter would you change in the USGS url if you wanted to switch locations?\n",
    "2. Generate a url to download metadata about the precipitation *station* using [the NCEI CDO web services API](https://www.ncdc.noaa.gov/cdo-web/webservices/v2) (HINT: click on the `/stations` endpoint link and look at the examples. You can get your station ID from your order summary or the map.)\n",
    "\n",
    "> **NOTE:** You don't need to download data for this exercise. If you want to actually download the NOAA data in your Jupyter notebook for your own curiosity, **PLEASE READ THIS FIRST**. You can download  using either the `requests` library or the specialized `pyncei` library. In either case, you will need to request a token. If you do, **MAKE SURE TO DELETE YOUR INDIVIDUAL TOKEN BEFORE UPLOADING YOUR HOMEWORK!!** GitHub is not a secure place to store tokens, and if you accidentally commit one you will need to remove it from the entire history - committing a version of the file without the token is not secure because the old version can be reconstructed. Ideally, you would store tokens in a file outside your repository (for example, `~/.ncei_token` would be a typical way of making this reproducible).\n"
   ]
  },
  {
   "cell_type": "markdown",
   "metadata": {},
   "source": [
    "1. we would change our site_no parameter\n",
    "\n",
    "2. https://www.ncei.noaa.gov/cdo-web/api/v2/stations/COOP:050843"
   ]
  },
  {
   "cell_type": "markdown",
   "metadata": {
    "deletable": false,
    "editable": false,
    "nbgrader": {
     "cell_type": "markdown",
     "checksum": "10b626e2908beb59aecf27ab71732c2b",
     "grade": false,
     "grade_id": "cell-60ba8bb5d2a0d91d",
     "locked": true,
     "points": 10,
     "schema_version": 3,
     "solution": false,
     "task": true
    }
   },
   "source": [
    "### Data description and citation\n",
    "\n",
    "For each dataset, include the following information:\n",
    "  1. A 1-2 sentence description of the data\n",
    "  2. Data citation\n",
    "  3. What are the units?\n",
    "  4. What is the time interval for each data point?\n",
    "  5. Is there a \"no data\" or NA value? Note that for the NOAA data, this information IS available in the documentation (and it's different from the NA value in the earthpy version of the data)"
   ]
  },
  {
   "cell_type": "markdown",
   "metadata": {},
   "source": [
    "NOAA Precipitation dataset:\n",
    "\n",
    "1. Hourly precipitation data for over 7000 stations, collected from NWS reporting stations, volunteer observers, FAA, utility companies, etc. Specifically pulling in hourly precipitation data for Boulder county.\n",
    "2. DOC/NOAA/NESDIS/NCEI > National Centers for Environmental Information, NESDIS, NOAA, U.S. Department of Commerce & DOC/NOAA/NESDIS/NCDC > National Climatic Data Center, NESDIS, NOAA, U.S. Department of Commerce\n",
    "3. Units are in hundredths of inches or tenths of millimeters\n",
    "4. The time interval is 60 minutes (1 hour)\n",
    "5. NA value is 99999, or 999.99 in decimal form"
   ]
  },
  {
   "cell_type": "markdown",
   "metadata": {
    "deletable": false,
    "nbgrader": {
     "cell_type": "markdown",
     "checksum": "2116e599040e2c62d66e1604b8def159",
     "grade": true,
     "grade_id": "cell-0dbc9ef6aefce807",
     "locked": false,
     "points": 4,
     "schema_version": 3,
     "solution": true,
     "task": false
    }
   },
   "source": [
    "USGS Streamflow dataset:\n",
    "\n",
    "1. Daily mean discharge data for Boulder County from site - 06730200 BOULDER CREEK AT NORTH 75TH ST. NEAR BOULDER, CO. Date range for Boulder County spans from September 1987 to current.\n",
    "2. U.S. Geological Survey, 2022, National Water Information System data available on the World Wide Web (USGS Water Data for the Nation), accessed [September 28, 2022], https://nwis.waterdata.usgs.gov/nwis/wys_rptdv_ts_ids=&&adr_begin_date=2022-10-01&adr_end_date=2023-09-30&site_no=06730200&agency_cd=USGS\n",
    "3. Units are in cubic feet per second\n",
    "4. The time interval is 24 hours (1 day)\n",
    "5. Did not see a specified NA value"
   ]
  },
  {
   "cell_type": "markdown",
   "metadata": {
    "deletable": false,
    "editable": false,
    "hideCode": false,
    "hidePrompt": false,
    "nbgrader": {
     "cell_type": "markdown",
     "checksum": "9793c5034762eb173d6f39b74933b27d",
     "grade": false,
     "grade_id": "question-student-imports",
     "locked": true,
     "schema_version": 3,
     "solution": false
    }
   },
   "source": [
    "## Import Python Packages\n",
    "\n",
    "In the cell below, add code **after the line for `Your Code Here`**, replacing `raise NotImplementedError()` with your code to import the package/module needed to:\n",
    "* create plots\n",
    "* set your working directory\n",
    "* download data using earthpy functions\n",
    "* work with `pandas` DataFrames\n",
    "\n",
    "You will need a special **Python** package to help format the dates when plotting your data. Make sure to include the line below which imports `DateFormatter` from `matplotlib`.\n",
    "\n",
    "```\n",
    "from matplotlib.dates import DateFormatter\n",
    "```\n",
    "\n",
    "Be sure to list the package imports following the appropriate PEP 8 order and \n",
    "spacing requirements. "
   ]
  },
  {
   "cell_type": "code",
   "execution_count": 1,
   "metadata": {
    "deletable": false,
    "nbgrader": {
     "cell_type": "code",
     "checksum": "20489880accefdb27a2f10ca8cc97835",
     "grade": false,
     "grade_id": "student-imports-answer",
     "locked": false,
     "schema_version": 3,
     "solution": true,
     "task": false
    }
   },
   "outputs": [],
   "source": [
    "# import packages\n",
    "import matplotlib.pyplot as plt\n",
    "from matplotlib.dates import DateFormatter\n",
    "\n",
    "import os\n",
    "import earthpy as et\n",
    "import pandas as pd"
   ]
  },
  {
   "cell_type": "code",
   "execution_count": 2,
   "metadata": {
    "deletable": false,
    "editable": false,
    "nbgrader": {
     "cell_type": "code",
     "checksum": "56529904b7e3b26b84e9034f20c519d8",
     "grade": false,
     "grade_id": "cell-0d2ebb030e62047f",
     "locked": true,
     "schema_version": 3,
     "solution": false,
     "task": false
    }
   },
   "outputs": [],
   "source": [
    "# Additional imports for testing\n",
    "import numpy as np"
   ]
  },
  {
   "cell_type": "code",
   "execution_count": 3,
   "metadata": {
    "deletable": false,
    "editable": false,
    "hideCode": false,
    "hidePrompt": false,
    "nbgrader": {
     "cell_type": "code",
     "checksum": "2e96c4af0441ab503e2c4706e3e4c7bd",
     "grade": true,
     "grade_id": "student-imports-tests",
     "locked": true,
     "points": 5,
     "schema_version": 3,
     "solution": false,
     "task": false
    }
   },
   "outputs": [
    {
     "name": "stdout",
     "output_type": "stream",
     "text": [
      "✅ Score! Pandas has been imported as a pd!\n",
      "✅ Nice! matplotlib.pyplot has been imported as plt!\n",
      "✅ Great work! The os module has imported correctly!\n",
      "✅ Score! The earthpy package has imported correctly!\n",
      "✅ Nice! The DateFormatter module from matplotlib has imported correctly!\n",
      "\n",
      " ➡ You received 5 out of 5 points.\n"
     ]
    },
    {
     "data": {
      "text/plain": [
       "5"
      ]
     },
     "execution_count": 3,
     "metadata": {},
     "output_type": "execute_result"
    }
   ],
   "source": [
    "# Test package imports - DO NOT MODIFY THIS CELL!\n",
    "import_answer_points = 0\n",
    "\n",
    "try:\n",
    "    na_val = pd.NA\n",
    "    print(\"\\u2705 Score! Pandas has been imported as a pd!\")\n",
    "    import_answer_points += 1\n",
    "except NameError:\n",
    "    print(\"\\u274C Pandas has not been imported as a pd, please make \"\n",
    "          \"sure to import is properly.\")\n",
    "\n",
    "try:\n",
    "    t = plt.show()\n",
    "    print(\"\\u2705 Nice! matplotlib.pyplot has been imported as plt!\")\n",
    "    import_answer_points += 1\n",
    "except NameError:\n",
    "    print(\"matplotlib.pyplot has not been imported as plt, please \"\n",
    "          \"make sure to import this properly.\")\n",
    "\n",
    "try:\n",
    "    wd = os.getcwd()\n",
    "    print(\"\\u2705 Great work! The os module has imported correctly!\")\n",
    "    import_answer_points += 1\n",
    "except NameError:\n",
    "    print(\"\\u274C Oops make sure that the os package is imported.\")\n",
    "\n",
    "try:\n",
    "    data = et.io\n",
    "    print(\"\\u2705 Score! The earthpy package has imported correctly!\")\n",
    "    import_answer_points += 1\n",
    "except NameError:\n",
    "    print(\"\\u274C Oops make sure that the earthpy package is imported \"\n",
    "          \"using the alias et.\")\n",
    "\n",
    "try:\n",
    "    the_date = DateFormatter\n",
    "    print(\"\\u2705 Nice! The DateFormatter module from matplotlib has \"\n",
    "          \"imported correctly!\")\n",
    "    import_answer_points += 1\n",
    "except NameError:\n",
    "    print(\"\\u274C Oops make sure that the DateFormatter module from \"\n",
    "          \"matplotlib is imported.\")\n",
    "\n",
    "print(\"\\n \\u27A1 You received {} out of 5 points.\"\n",
    "      .format(import_answer_points))\n",
    "\n",
    "import_answer_points"
   ]
  },
  {
   "cell_type": "markdown",
   "metadata": {
    "deletable": false,
    "editable": false,
    "hideCode": false,
    "hidePrompt": false,
    "nbgrader": {
     "cell_type": "markdown",
     "checksum": "c09402d2ea03738fce4b512c2103b193",
     "grade": false,
     "grade_id": "set-working-directory-instructions",
     "locked": true,
     "schema_version": 3,
     "solution": false,
     "task": false
    }
   },
   "source": [
    "## Download and locate data\n",
    "\n",
    "Data are often secured, even when the data is open, similarly to the NOAA data here. Using online data stores is one way to make your workflow reproducible if there's not a simple way to download or access the data via API. For example, you can place data on Google Drive or a domain-specific repository such as CUASHI Hydroshare and get a download link (although this is often not the same as a 'Share' link).\n",
    "\n",
    "For the purposes of this assignment, the data you need is already stored online and accessible via the `earthpy` package.\n",
    "\n",
    "### Download subset from earthpy\n",
    "\n",
    "In the cell below complete the following task:\n",
    "\n",
    "1. First, use EarthPy to download the `colorado-flood` data:\n",
    "\n",
    "   ```python\n",
    "   et.data.get_data(\"colorado-flood\")\n",
    "   ```\n",
    "   \n",
    "   When you download the data, the `earth-analytics` > `data` > `colorado-flood` directory gets created on your computer for you. **Use this earthpy data** instead of the data you downloaded from NCEI and NWIS earlier in the assignment so that I can reproduce your analysis.\n",
    "2. **Use a conditional statement** to:\n",
    "    * Set the working directory to the `earth-analytics` > `data` > `colorado-flood` directory in your home directory if the path exists.\n",
    "    * Print a helpful message or raise a descriptive error if the path does not exist. "
   ]
  },
  {
   "cell_type": "code",
   "execution_count": 4,
   "metadata": {
    "deletable": false,
    "hideCode": false,
    "hidePrompt": false,
    "nbgrader": {
     "cell_type": "code",
     "checksum": "63910669445a1f9ab3d48ebaf370ef73",
     "grade": false,
     "grade_id": "download-and-set-working-directory",
     "locked": false,
     "schema_version": 3,
     "solution": true,
     "task": false
    }
   },
   "outputs": [],
   "source": [
    "# use earthpy to get colorado flood data\n",
    "colorado_flood_path = et.data.get_data(\"colorado-flood\")\n",
    "\n",
    "# if the colorado flood path exists, set our working directory\n",
    "if os.path.exists(colorado_flood_path):\n",
    "    os.chdir(os.path.join(et.io.HOME,\n",
    "                          'earth-analytics',\n",
    "                          'data',\n",
    "                          'colorado-flood'))\n",
    "# else print error message\n",
    "else:\n",
    "    print('Path does not exist, check working directory.')"
   ]
  },
  {
   "cell_type": "code",
   "execution_count": 5,
   "metadata": {
    "deletable": false,
    "editable": false,
    "hideCode": false,
    "hidePrompt": false,
    "nbgrader": {
     "cell_type": "code",
     "checksum": "28e3683c0df6faf1d6a4b816224abcaa",
     "grade": true,
     "grade_id": "student-download-tests",
     "locked": true,
     "points": 2,
     "schema_version": 3,
     "solution": false,
     "task": false
    }
   },
   "outputs": [
    {
     "name": "stdout",
     "output_type": "stream",
     "text": [
      "✅ Great - it looks like your working directory is set correctly to the colorado-flood directory\n",
      "\n",
      " ➡ You received 2 out of 2 points for setting your working directory.\n"
     ]
    },
    {
     "data": {
      "text/plain": [
       "2"
      ]
     },
     "execution_count": 5,
     "metadata": {},
     "output_type": "execute_result"
    }
   ],
   "source": [
    "# DO NOT MODIFY THIS CELL\n",
    "# Tests that the working directory is set to earth-analytics/data\n",
    "\n",
    "path = os.path.normpath(os.getcwd())\n",
    "student_wd_parts = path.split(os.sep)\n",
    "\n",
    "wd_points = 0\n",
    "\n",
    "if student_wd_parts[-3:] == ['earth-analytics', 'data', 'colorado-flood']:\n",
    "    print(\"\\u2705 Great - it looks like your working directory is set \"\n",
    "          \"correctly to the colorado-flood directory\")\n",
    "    wd_points += 2\n",
    "else:\n",
    "    print(\"\\u274C Oops, your working directory is not set to \"\n",
    "          \" the colorado-flood directory created by earthpy\")\n",
    "\n",
    "print(\"\\n \\u27A1 You received {} out of 2 points for setting your \"\n",
    "      \"working directory.\"\n",
    "      .format(wd_points))\n",
    "\n",
    "wd_points"
   ]
  },
  {
   "cell_type": "markdown",
   "metadata": {
    "deletable": false,
    "editable": false,
    "nbgrader": {
     "cell_type": "markdown",
     "checksum": "c408b8d08f208e8bc8c4f392f1469cac",
     "grade": false,
     "grade_id": "data-paths-instructions",
     "locked": true,
     "points": 2,
     "schema_version": 3,
     "solution": false,
     "task": true
    }
   },
   "source": [
    "### Explore your filesystem to find your downloaded files\n",
    "\n",
    "The cell below is configured to run bash commands because it starts with `%%bash`. **Below the `%%bash` line**, execute a bash command to print out all the files in the colorado-flood data subset."
   ]
  },
  {
   "cell_type": "code",
   "execution_count": 6,
   "metadata": {},
   "outputs": [
    {
     "name": "stdout",
     "output_type": "stream",
     "text": [
      ".\n",
      "./.DS_Store\n",
      "./precipitation\n",
      "./precipitation/PRECIP_HLY_documentation.pdf\n",
      "./precipitation/805333-precip-daily-1948-2013.csv\n",
      "./precipitation/805325-precip-dailysum-2003-2013.csv\n",
      "./precipitation/805325-precip-daily-2003-2013.csv\n",
      "./precipitation/precip-boulder-aug-oct-2013.csv\n",
      "./discharge\n",
      "./discharge/README_dischargeMetadata.rtf\n",
      "./discharge/06730200-discharge-daily-1986-2013.csv\n",
      "./discharge/06730200-discharge-daily-1986-2013.txt\n",
      "./spatial\n",
      "./spatial/boulder-leehill-rd\n",
      "./spatial/boulder-leehill-rd/clip-extent.qpj\n",
      "./spatial/boulder-leehill-rd/clip-extent.prj\n",
      "./spatial/boulder-leehill-rd/README.md\n",
      "./spatial/boulder-leehill-rd/clip-extent.dbf\n",
      "./spatial/boulder-leehill-rd/post-flood\n",
      "./spatial/boulder-leehill-rd/post-flood/lidar\n",
      "./spatial/boulder-leehill-rd/post-flood/lidar/post_DTM_hill.tif\n",
      "./spatial/boulder-leehill-rd/post-flood/lidar/post_DTM.tif\n",
      "./spatial/boulder-leehill-rd/post-flood/lidar/post_DSM.tif\n",
      "./spatial/boulder-leehill-rd/post-flood/lidar/post_DSM_hill.tif\n",
      "./spatial/boulder-leehill-rd/pre-flood\n",
      "./spatial/boulder-leehill-rd/pre-flood/camera\n",
      "./spatial/boulder-leehill-rd/pre-flood/camera/preCamera_Comp.tfw\n",
      "./spatial/boulder-leehill-rd/pre-flood/camera/preCamera_Comp.tif\n",
      "./spatial/boulder-leehill-rd/pre-flood/lidar\n",
      "./spatial/boulder-leehill-rd/pre-flood/lidar/pre_DTM.tif\n",
      "./spatial/boulder-leehill-rd/pre-flood/lidar/pre_DTM_repoject2.tif\n",
      "./spatial/boulder-leehill-rd/pre-flood/lidar/pre_DSM.tif\n",
      "./spatial/boulder-leehill-rd/pre-flood/lidar/pre_DSM_hill.tif\n",
      "./spatial/boulder-leehill-rd/pre-flood/lidar/pre_DTM_repoject.tif\n",
      "./spatial/boulder-leehill-rd/pre-flood/lidar/pre_DTM_hill.tif\n",
      "./spatial/boulder-leehill-rd/clip-extent.shp\n",
      "./spatial/boulder-leehill-rd/outputs\n",
      "./spatial/boulder-leehill-rd/outputs/lidar_chm.tif\n",
      "./spatial/boulder-leehill-rd/clip-extent.shx\n",
      "./spatial/boulder-lidar-points\n",
      "./spatial/boulder-lidar-points/2013_BLDR_flood_2013100814_471000_4428000.laz\n",
      "./spatial/boulder-lidar-points/2013_BLDR_flood_2013100814_476000_4434000.laz\n",
      "./spatial/boulder-lidar-points/2013_BLDR_flood_2013100814_487000_4432000.laz\n",
      "./spatial/README.md\n",
      "./spatial/outputs\n",
      "./spatial/outputs/lidar_chm.tiff\n",
      "./downloads\n",
      "./downloads/boulder-precip.csv\n"
     ]
    }
   ],
   "source": [
    "%%bash\n",
    "find ."
   ]
  },
  {
   "cell_type": "markdown",
   "metadata": {},
   "source": [
    "# Set data paths\n",
    "Create paths with the `os` package for the two datasets below: \n",
    "  * precipitation dataset from 1948-2013 in csv format\n",
    "  * daily streamflow (discharge) dataset from 1984 to 2013 in csv format\n",
    "  \n",
    "**Use the `os` package to ensure that the paths you create will run successfully on any operating system.** "
   ]
  },
  {
   "cell_type": "code",
   "execution_count": 7,
   "metadata": {
    "deletable": false,
    "nbgrader": {
     "cell_type": "code",
     "checksum": "496d828d812f311b00afdeb4e3d234c6",
     "grade": false,
     "grade_id": "students-setting-paths",
     "locked": false,
     "schema_version": 3,
     "solution": true,
     "task": false
    }
   },
   "outputs": [],
   "source": [
    "# using os path join to set precipitation path to csv file\n",
    "precip_path = os.path.join('precipitation',\n",
    "                           '805333-precip-daily-1948-2013.csv')\n",
    "\n",
    "# using os path join to set discharge/streamflow path to csv file\n",
    "streamflow_path = os.path.join('discharge',\n",
    "                               '06730200-discharge-daily-1986-2013.csv')"
   ]
  },
  {
   "cell_type": "markdown",
   "metadata": {
    "deletable": false,
    "editable": false,
    "nbgrader": {
     "cell_type": "markdown",
     "checksum": "47a20ef8832fe4ca0d11141cfe90dd8c",
     "grade": false,
     "grade_id": "precip-read-in-instructions",
     "locked": true,
     "schema_version": 3,
     "solution": false,
     "task": false
    }
   },
   "source": [
    "## Challenge 1: Open Precipitation Data Using Pandas\n",
    "\n",
    "Using the `read_csv()` function in `pandas`, read in your precipitation data. Don't forget to use the `parse_dates` argument to parse the `DATE` column, and to set the `na_values` to the value specified in the information given about this data above. Set the `DATE` column to be the index of the DataFrame.\n",
    "\n",
    "Call the final `DataFrame` object at the end of the cell. "
   ]
  },
  {
   "cell_type": "code",
   "execution_count": 8,
   "metadata": {
    "deletable": false,
    "nbgrader": {
     "cell_type": "code",
     "checksum": "242bcc15fb284d02c4c9ef3c39adb034",
     "grade": false,
     "grade_id": "students-read-in-precip",
     "locked": false,
     "schema_version": 3,
     "solution": true,
     "task": false
    }
   },
   "outputs": [
    {
     "data": {
      "text/html": [
       "<div>\n",
       "<style scoped>\n",
       "    .dataframe tbody tr th:only-of-type {\n",
       "        vertical-align: middle;\n",
       "    }\n",
       "\n",
       "    .dataframe tbody tr th {\n",
       "        vertical-align: top;\n",
       "    }\n",
       "\n",
       "    .dataframe thead th {\n",
       "        text-align: right;\n",
       "    }\n",
       "</style>\n",
       "<table border=\"1\" class=\"dataframe\">\n",
       "  <thead>\n",
       "    <tr style=\"text-align: right;\">\n",
       "      <th></th>\n",
       "      <th>STATION</th>\n",
       "      <th>STATION_NAME</th>\n",
       "      <th>ELEVATION</th>\n",
       "      <th>LATITUDE</th>\n",
       "      <th>LONGITUDE</th>\n",
       "      <th>HPCP</th>\n",
       "      <th>Measurement Flag</th>\n",
       "      <th>Quality Flag</th>\n",
       "    </tr>\n",
       "    <tr>\n",
       "      <th>DATE</th>\n",
       "      <th></th>\n",
       "      <th></th>\n",
       "      <th></th>\n",
       "      <th></th>\n",
       "      <th></th>\n",
       "      <th></th>\n",
       "      <th></th>\n",
       "      <th></th>\n",
       "    </tr>\n",
       "  </thead>\n",
       "  <tbody>\n",
       "    <tr>\n",
       "      <th>1948-08-01 01:00:00</th>\n",
       "      <td>COOP:050843</td>\n",
       "      <td>BOULDER 2 CO US</td>\n",
       "      <td>unknown</td>\n",
       "      <td>unknown</td>\n",
       "      <td>unknown</td>\n",
       "      <td>0.00</td>\n",
       "      <td>g</td>\n",
       "      <td></td>\n",
       "    </tr>\n",
       "    <tr>\n",
       "      <th>1948-08-02 15:00:00</th>\n",
       "      <td>COOP:050843</td>\n",
       "      <td>BOULDER 2 CO US</td>\n",
       "      <td>unknown</td>\n",
       "      <td>unknown</td>\n",
       "      <td>unknown</td>\n",
       "      <td>0.05</td>\n",
       "      <td></td>\n",
       "      <td></td>\n",
       "    </tr>\n",
       "    <tr>\n",
       "      <th>1948-08-03 09:00:00</th>\n",
       "      <td>COOP:050843</td>\n",
       "      <td>BOULDER 2 CO US</td>\n",
       "      <td>unknown</td>\n",
       "      <td>unknown</td>\n",
       "      <td>unknown</td>\n",
       "      <td>0.01</td>\n",
       "      <td></td>\n",
       "      <td></td>\n",
       "    </tr>\n",
       "    <tr>\n",
       "      <th>1948-08-03 14:00:00</th>\n",
       "      <td>COOP:050843</td>\n",
       "      <td>BOULDER 2 CO US</td>\n",
       "      <td>unknown</td>\n",
       "      <td>unknown</td>\n",
       "      <td>unknown</td>\n",
       "      <td>0.03</td>\n",
       "      <td></td>\n",
       "      <td></td>\n",
       "    </tr>\n",
       "    <tr>\n",
       "      <th>1948-08-03 15:00:00</th>\n",
       "      <td>COOP:050843</td>\n",
       "      <td>BOULDER 2 CO US</td>\n",
       "      <td>unknown</td>\n",
       "      <td>unknown</td>\n",
       "      <td>unknown</td>\n",
       "      <td>0.03</td>\n",
       "      <td></td>\n",
       "      <td></td>\n",
       "    </tr>\n",
       "    <tr>\n",
       "      <th>...</th>\n",
       "      <td>...</td>\n",
       "      <td>...</td>\n",
       "      <td>...</td>\n",
       "      <td>...</td>\n",
       "      <td>...</td>\n",
       "      <td>...</td>\n",
       "      <td>...</td>\n",
       "      <td>...</td>\n",
       "    </tr>\n",
       "    <tr>\n",
       "      <th>2013-12-22 01:00:00</th>\n",
       "      <td>COOP:050843</td>\n",
       "      <td>BOULDER 2 CO US</td>\n",
       "      <td>1650.5</td>\n",
       "      <td>40.0338</td>\n",
       "      <td>-105.2811</td>\n",
       "      <td>NaN</td>\n",
       "      <td>[</td>\n",
       "      <td></td>\n",
       "    </tr>\n",
       "    <tr>\n",
       "      <th>2013-12-23 00:00:00</th>\n",
       "      <td>COOP:050843</td>\n",
       "      <td>BOULDER 2 CO US</td>\n",
       "      <td>1650.5</td>\n",
       "      <td>40.0338</td>\n",
       "      <td>-105.2811</td>\n",
       "      <td>NaN</td>\n",
       "      <td>]</td>\n",
       "      <td></td>\n",
       "    </tr>\n",
       "    <tr>\n",
       "      <th>2013-12-23 02:00:00</th>\n",
       "      <td>COOP:050843</td>\n",
       "      <td>BOULDER 2 CO US</td>\n",
       "      <td>1650.5</td>\n",
       "      <td>40.0338</td>\n",
       "      <td>-105.2811</td>\n",
       "      <td>0.10</td>\n",
       "      <td></td>\n",
       "      <td></td>\n",
       "    </tr>\n",
       "    <tr>\n",
       "      <th>2013-12-29 01:00:00</th>\n",
       "      <td>COOP:050843</td>\n",
       "      <td>BOULDER 2 CO US</td>\n",
       "      <td>1650.5</td>\n",
       "      <td>40.0338</td>\n",
       "      <td>-105.2811</td>\n",
       "      <td>NaN</td>\n",
       "      <td>[</td>\n",
       "      <td></td>\n",
       "    </tr>\n",
       "    <tr>\n",
       "      <th>2013-12-31 00:00:00</th>\n",
       "      <td>COOP:050843</td>\n",
       "      <td>BOULDER 2 CO US</td>\n",
       "      <td>1650.5</td>\n",
       "      <td>40.0338</td>\n",
       "      <td>-105.2811</td>\n",
       "      <td>NaN</td>\n",
       "      <td>]</td>\n",
       "      <td></td>\n",
       "    </tr>\n",
       "  </tbody>\n",
       "</table>\n",
       "<p>14476 rows × 8 columns</p>\n",
       "</div>"
      ],
      "text/plain": [
       "                         STATION     STATION_NAME ELEVATION LATITUDE  \\\n",
       "DATE                                                                   \n",
       "1948-08-01 01:00:00  COOP:050843  BOULDER 2 CO US   unknown  unknown   \n",
       "1948-08-02 15:00:00  COOP:050843  BOULDER 2 CO US   unknown  unknown   \n",
       "1948-08-03 09:00:00  COOP:050843  BOULDER 2 CO US   unknown  unknown   \n",
       "1948-08-03 14:00:00  COOP:050843  BOULDER 2 CO US   unknown  unknown   \n",
       "1948-08-03 15:00:00  COOP:050843  BOULDER 2 CO US   unknown  unknown   \n",
       "...                          ...              ...       ...      ...   \n",
       "2013-12-22 01:00:00  COOP:050843  BOULDER 2 CO US    1650.5  40.0338   \n",
       "2013-12-23 00:00:00  COOP:050843  BOULDER 2 CO US    1650.5  40.0338   \n",
       "2013-12-23 02:00:00  COOP:050843  BOULDER 2 CO US    1650.5  40.0338   \n",
       "2013-12-29 01:00:00  COOP:050843  BOULDER 2 CO US    1650.5  40.0338   \n",
       "2013-12-31 00:00:00  COOP:050843  BOULDER 2 CO US    1650.5  40.0338   \n",
       "\n",
       "                     LONGITUDE  HPCP Measurement Flag Quality Flag  \n",
       "DATE                                                                \n",
       "1948-08-01 01:00:00    unknown  0.00                g               \n",
       "1948-08-02 15:00:00    unknown  0.05                                \n",
       "1948-08-03 09:00:00    unknown  0.01                                \n",
       "1948-08-03 14:00:00    unknown  0.03                                \n",
       "1948-08-03 15:00:00    unknown  0.03                                \n",
       "...                        ...   ...              ...          ...  \n",
       "2013-12-22 01:00:00  -105.2811   NaN                [               \n",
       "2013-12-23 00:00:00  -105.2811   NaN                ]               \n",
       "2013-12-23 02:00:00  -105.2811  0.10                                \n",
       "2013-12-29 01:00:00  -105.2811   NaN                [               \n",
       "2013-12-31 00:00:00  -105.2811   NaN                ]               \n",
       "\n",
       "[14476 rows x 8 columns]"
      ]
     },
     "execution_count": 8,
     "metadata": {},
     "output_type": "execute_result"
    }
   ],
   "source": [
    "# reading in precip data, parsing dates, setting index, and specify NA values\n",
    "precip_df = pd.read_csv(precip_path,\n",
    "                        parse_dates=['DATE'],\n",
    "                        index_col=['DATE'],\n",
    "                        na_values=[999.99])\n",
    "\n",
    "precip_df"
   ]
  },
  {
   "cell_type": "code",
   "execution_count": 9,
   "metadata": {
    "deletable": false,
    "editable": false,
    "nbgrader": {
     "cell_type": "code",
     "checksum": "daf554da78b5338811d97d32744fef05",
     "grade": true,
     "grade_id": "students-read-in-precip-visible-test",
     "locked": true,
     "points": 4,
     "schema_version": 3,
     "solution": false,
     "task": false
    }
   },
   "outputs": [
    {
     "name": "stdout",
     "output_type": "stream",
     "text": [
      "✅ Great, you created a pandas dataframe above\n",
      "✅ Your precipitation DataFrame has the date as the index, good job!\n",
      "✅ Your precipitation DataFrame index is in datetime format!\n",
      "✅ Your precipitation DataFrame has the expected values in it, good job!\n",
      "\n",
      " ➡ You received 4 out of 4 points for opening the precipitation data.\n"
     ]
    },
    {
     "data": {
      "text/plain": [
       "4"
      ]
     },
     "execution_count": 9,
     "metadata": {},
     "output_type": "execute_result"
    }
   ],
   "source": [
    "student_precip_answer = _\n",
    "precip_data_points = 0\n",
    "\n",
    "if isinstance(student_precip_answer, pd.DataFrame):\n",
    "    print(\"\\u2705 Great, you created a pandas dataframe above\")\n",
    "else:\n",
    "    print(\"\\u274C Oops - the cell above should have a DataFrame output.\")\n",
    "\n",
    "if student_precip_answer.index.name == 'DATE':\n",
    "    print(\"\\u2705 Your precipitation DataFrame has the date as the index, \"\n",
    "          \"good job!\")\n",
    "    precip_data_points += 1\n",
    "else:\n",
    "    print(\"\\u274C Your precipitation DataFrame does not have the date \"\n",
    "          \"as the index.\")\n",
    "\n",
    "if student_precip_answer.index.dtype == np.dtype('datetime64[ns]'):\n",
    "    print(\"\\u2705 Your precipitation DataFrame index is in datetime format!\")\n",
    "    precip_data_points += 1\n",
    "else:\n",
    "    print(\"\\u274C Your precipitation DataFrame index is not in \"\n",
    "          \"datetime format.\")\n",
    "\n",
    "if round(student_precip_answer.HPCP.sum(), 0)==1164:\n",
    "    print(\"\\u2705 Your precipitation DataFrame has the expected values \"\n",
    "          \"in it, good job!\")\n",
    "    precip_data_points += 2\n",
    "else:\n",
    "    print(\"\\u274C Your precipitation DataFrame does not have the \"\n",
    "          \"expected values in it.\")\n",
    "\n",
    "print(\"\\n \\u27A1 You received {} out of 4 points for opening the \"\n",
    "      \"precipitation data.\".format(\n",
    "    precip_data_points))\n",
    "precip_data_points"
   ]
  },
  {
   "cell_type": "markdown",
   "metadata": {
    "deletable": false,
    "editable": false,
    "nbgrader": {
     "cell_type": "markdown",
     "checksum": "8ef728fe6f9119143f37be0c88701849",
     "grade": false,
     "grade_id": "precip-resample-instructions",
     "locked": true,
     "schema_version": 3,
     "solution": false,
     "task": false
    }
   },
   "source": [
    "### Challenge 1a: Resample Precipitation Data\n",
    "\n",
    "The precipitation data that you have contains more data than you need for your analysis:\n",
    "\n",
    "1. It has a time span that extends beyond your analysis time span which is the the Boulder Flood in 2013. \n",
    "2. It contains hourly data; you will want daily summaries for your analysis so you can compare with the daily streamflow data.\n",
    "\n",
    "To account for this in the cell below: \n",
    "\n",
    "1. Subset the data to only include data within your time period of interest: August 1st, 2013 and October 30th, 2013. This should include both August 1st and October 30th. Note that there is no precipitation recorded on October 31st, and so your subset will not include this date.\n",
    "2. Resample the data to represent the daily sum of precipitation. \n",
    "\n",
    "Call the final `DataFrame` object at the end of the cell below. "
   ]
  },
  {
   "cell_type": "code",
   "execution_count": 10,
   "metadata": {
    "deletable": false,
    "nbgrader": {
     "cell_type": "code",
     "checksum": "44f4e45c9db19eb8d6fea4fdb9767369",
     "grade": false,
     "grade_id": "precip-daily-sum",
     "locked": false,
     "schema_version": 3,
     "solution": true,
     "task": false
    }
   },
   "outputs": [
    {
     "data": {
      "text/html": [
       "<div>\n",
       "<style scoped>\n",
       "    .dataframe tbody tr th:only-of-type {\n",
       "        vertical-align: middle;\n",
       "    }\n",
       "\n",
       "    .dataframe tbody tr th {\n",
       "        vertical-align: top;\n",
       "    }\n",
       "\n",
       "    .dataframe thead th {\n",
       "        text-align: right;\n",
       "    }\n",
       "</style>\n",
       "<table border=\"1\" class=\"dataframe\">\n",
       "  <thead>\n",
       "    <tr style=\"text-align: right;\">\n",
       "      <th></th>\n",
       "      <th>HPCP</th>\n",
       "    </tr>\n",
       "    <tr>\n",
       "      <th>DATE</th>\n",
       "      <th></th>\n",
       "    </tr>\n",
       "  </thead>\n",
       "  <tbody>\n",
       "    <tr>\n",
       "      <th>2013-08-01</th>\n",
       "      <td>0.1</td>\n",
       "    </tr>\n",
       "    <tr>\n",
       "      <th>2013-08-02</th>\n",
       "      <td>0.0</td>\n",
       "    </tr>\n",
       "    <tr>\n",
       "      <th>2013-08-03</th>\n",
       "      <td>0.0</td>\n",
       "    </tr>\n",
       "    <tr>\n",
       "      <th>2013-08-04</th>\n",
       "      <td>0.0</td>\n",
       "    </tr>\n",
       "    <tr>\n",
       "      <th>2013-08-05</th>\n",
       "      <td>0.1</td>\n",
       "    </tr>\n",
       "    <tr>\n",
       "      <th>...</th>\n",
       "      <td>...</td>\n",
       "    </tr>\n",
       "    <tr>\n",
       "      <th>2013-10-26</th>\n",
       "      <td>0.0</td>\n",
       "    </tr>\n",
       "    <tr>\n",
       "      <th>2013-10-27</th>\n",
       "      <td>0.0</td>\n",
       "    </tr>\n",
       "    <tr>\n",
       "      <th>2013-10-28</th>\n",
       "      <td>0.1</td>\n",
       "    </tr>\n",
       "    <tr>\n",
       "      <th>2013-10-29</th>\n",
       "      <td>0.1</td>\n",
       "    </tr>\n",
       "    <tr>\n",
       "      <th>2013-10-30</th>\n",
       "      <td>0.2</td>\n",
       "    </tr>\n",
       "  </tbody>\n",
       "</table>\n",
       "<p>91 rows × 1 columns</p>\n",
       "</div>"
      ],
      "text/plain": [
       "            HPCP\n",
       "DATE            \n",
       "2013-08-01   0.1\n",
       "2013-08-02   0.0\n",
       "2013-08-03   0.0\n",
       "2013-08-04   0.0\n",
       "2013-08-05   0.1\n",
       "...          ...\n",
       "2013-10-26   0.0\n",
       "2013-10-27   0.0\n",
       "2013-10-28   0.1\n",
       "2013-10-29   0.1\n",
       "2013-10-30   0.2\n",
       "\n",
       "[91 rows x 1 columns]"
      ]
     },
     "execution_count": 10,
     "metadata": {},
     "output_type": "execute_result"
    }
   ],
   "source": [
    "# selecting time range and resampling to get daily precip sum\n",
    "precip_flood_range = precip_df.loc[\n",
    "    '2013-08-01': '2013-10-30'].resample('D').sum()\n",
    "\n",
    "precip_flood_range"
   ]
  },
  {
   "cell_type": "code",
   "execution_count": 11,
   "metadata": {
    "deletable": false,
    "editable": false,
    "nbgrader": {
     "cell_type": "code",
     "checksum": "c8041ccc44a586f3d7424beb00c1def9",
     "grade": true,
     "grade_id": "precip-daily-sum-tests",
     "locked": true,
     "points": 3,
     "schema_version": 3,
     "solution": false,
     "task": false
    }
   },
   "outputs": [
    {
     "name": "stdout",
     "output_type": "stream",
     "text": [
      "✅ Your daily sum for the precipitation DataFrame has the date as the index, good job!\n",
      "✅ Your daily sum for the precipitation DataFrame has the expected values in it, good job!\n",
      "\n",
      " ➡ You received 3 out of 3 points for getting the daily sum of the precipitation data.\n"
     ]
    },
    {
     "data": {
      "text/plain": [
       "3"
      ]
     },
     "execution_count": 11,
     "metadata": {},
     "output_type": "execute_result"
    }
   ],
   "source": [
    "# DO NOT MODIFY THIS CELL\n",
    "\n",
    "precip_daily_sum_student = _\n",
    "\n",
    "precip_daily_points = 0\n",
    "\n",
    "if precip_daily_sum_student.index.name == 'DATE':\n",
    "    print(\"\\u2705 Your daily sum for the precipitation DataFrame has \"\n",
    "          \"the date as the index, good job!\")\n",
    "    precip_daily_points += 1\n",
    "else:\n",
    "    print(\"\\u274C Your daily sum for the precipitation DataFrame does \"\n",
    "          \"not have the date as the index.\")\n",
    "\n",
    "if round(precip_daily_sum_student.HPCP.sum(), 0)==21:\n",
    "    print(\"\\u2705 Your daily sum for the precipitation DataFrame has \"\n",
    "          \"the expected values in it, good job!\")\n",
    "    precip_daily_points += 2\n",
    "else:\n",
    "    print(\"\\u274C Your daily sum for the precipitation DataFrame does \"\n",
    "          \"not have the expected values in it.\")\n",
    "\n",
    "print(\"\\n \\u27A1 You received {} out of 3 points for getting the daily \"\n",
    "      \"sum of the precipitation data.\"\n",
    "      .format(precip_daily_points))\n",
    "\n",
    "precip_daily_points"
   ]
  },
  {
   "cell_type": "markdown",
   "metadata": {
    "deletable": false,
    "editable": false,
    "nbgrader": {
     "cell_type": "markdown",
     "checksum": "cb67e3b7e1da3abc9b241b48e930a39f",
     "grade": false,
     "grade_id": "precip-monthly-max-instructions",
     "locked": true,
     "schema_version": 3,
     "solution": false,
     "task": false
    }
   },
   "source": [
    "### Challenge 1b: Calculate the monthly maximum daily precipitation value in 2013\n",
    "\n",
    "\n",
    "In the cell below, use the same hourly precipitation dataset to \n",
    "calculate the **maximum daily total** for each month in the year 2013.\n",
    "\n",
    "This means that you will need to calculate:\n",
    " 1. A daily sum, THEN\n",
    " 2. A monthly maximum those daily totals.\n",
    "\n",
    "Call the final `DataFrame` object at the end of the cell. "
   ]
  },
  {
   "cell_type": "code",
   "execution_count": 12,
   "metadata": {
    "deletable": false,
    "nbgrader": {
     "cell_type": "code",
     "checksum": "9c12f1cb59737cb886263ee51cf265aa",
     "grade": false,
     "grade_id": "precip-monthly-max",
     "locked": false,
     "schema_version": 3,
     "solution": true,
     "task": false
    }
   },
   "outputs": [
    {
     "data": {
      "text/html": [
       "<div>\n",
       "<style scoped>\n",
       "    .dataframe tbody tr th:only-of-type {\n",
       "        vertical-align: middle;\n",
       "    }\n",
       "\n",
       "    .dataframe tbody tr th {\n",
       "        vertical-align: top;\n",
       "    }\n",
       "\n",
       "    .dataframe thead th {\n",
       "        text-align: right;\n",
       "    }\n",
       "</style>\n",
       "<table border=\"1\" class=\"dataframe\">\n",
       "  <thead>\n",
       "    <tr style=\"text-align: right;\">\n",
       "      <th></th>\n",
       "      <th>HPCP</th>\n",
       "    </tr>\n",
       "    <tr>\n",
       "      <th>DATE</th>\n",
       "      <th></th>\n",
       "    </tr>\n",
       "  </thead>\n",
       "  <tbody>\n",
       "    <tr>\n",
       "      <th>2013-01-31</th>\n",
       "      <td>0.1</td>\n",
       "    </tr>\n",
       "    <tr>\n",
       "      <th>2013-02-28</th>\n",
       "      <td>0.4</td>\n",
       "    </tr>\n",
       "    <tr>\n",
       "      <th>2013-03-31</th>\n",
       "      <td>0.6</td>\n",
       "    </tr>\n",
       "    <tr>\n",
       "      <th>2013-04-30</th>\n",
       "      <td>0.9</td>\n",
       "    </tr>\n",
       "    <tr>\n",
       "      <th>2013-05-31</th>\n",
       "      <td>1.2</td>\n",
       "    </tr>\n",
       "    <tr>\n",
       "      <th>2013-06-30</th>\n",
       "      <td>0.2</td>\n",
       "    </tr>\n",
       "    <tr>\n",
       "      <th>2013-07-31</th>\n",
       "      <td>0.5</td>\n",
       "    </tr>\n",
       "    <tr>\n",
       "      <th>2013-08-31</th>\n",
       "      <td>0.2</td>\n",
       "    </tr>\n",
       "    <tr>\n",
       "      <th>2013-09-30</th>\n",
       "      <td>7.3</td>\n",
       "    </tr>\n",
       "    <tr>\n",
       "      <th>2013-10-31</th>\n",
       "      <td>0.7</td>\n",
       "    </tr>\n",
       "    <tr>\n",
       "      <th>2013-11-30</th>\n",
       "      <td>0.2</td>\n",
       "    </tr>\n",
       "    <tr>\n",
       "      <th>2013-12-31</th>\n",
       "      <td>0.3</td>\n",
       "    </tr>\n",
       "  </tbody>\n",
       "</table>\n",
       "</div>"
      ],
      "text/plain": [
       "            HPCP\n",
       "DATE            \n",
       "2013-01-31   0.1\n",
       "2013-02-28   0.4\n",
       "2013-03-31   0.6\n",
       "2013-04-30   0.9\n",
       "2013-05-31   1.2\n",
       "2013-06-30   0.2\n",
       "2013-07-31   0.5\n",
       "2013-08-31   0.2\n",
       "2013-09-30   7.3\n",
       "2013-10-31   0.7\n",
       "2013-11-30   0.2\n",
       "2013-12-31   0.3"
      ]
     },
     "execution_count": 12,
     "metadata": {},
     "output_type": "execute_result"
    }
   ],
   "source": [
    "# selecting time range and resampling for daily sum, and again for monthly max\n",
    "precip_monthly_max_df = precip_df.loc[\n",
    "    '2013-01-01':'2013-12-31'].resample('D').sum().resample('M').max()\n",
    "\n",
    "precip_monthly_max_df"
   ]
  },
  {
   "cell_type": "code",
   "execution_count": 13,
   "metadata": {
    "deletable": false,
    "editable": false,
    "nbgrader": {
     "cell_type": "code",
     "checksum": "40b3e4d7167b34465fc467cafe6bcb79",
     "grade": true,
     "grade_id": "precip-monthly-max-tests",
     "locked": true,
     "points": 4,
     "schema_version": 3,
     "solution": false,
     "task": false
    }
   },
   "outputs": [
    {
     "name": "stdout",
     "output_type": "stream",
     "text": [
      "✅ Your monthly max for the precipitation DataFrame has the date as the index, good job!\n",
      "✅ Your monthly max for the precipitation DataFrame has the correct number of entries, good job!\n",
      "✅ Your monthly max for the precipitation DataFrame has the expected values in it, good job!\n",
      "\n",
      " ➡ You received 4 out of 4 points for getting the monthly maximum of the precipitation data.\n"
     ]
    },
    {
     "data": {
      "text/plain": [
       "4"
      ]
     },
     "execution_count": 13,
     "metadata": {},
     "output_type": "execute_result"
    }
   ],
   "source": [
    "# DO NOT MODIFY THIS CELL\n",
    "\n",
    "import numpy as np\n",
    "precip_monthly_max_student = _\n",
    "\n",
    "precip_monthly_max_points = 0\n",
    "\n",
    "if precip_monthly_max_student.index.name == 'DATE':\n",
    "    print(\"\\u2705 Your monthly max for the precipitation DataFrame has \"\n",
    "          \"the date as the index, good job!\")\n",
    "    precip_monthly_max_points += 1\n",
    "else:\n",
    "    print(\"\\u274C Your monthly max for the precipitation DataFrame does \"\n",
    "          \"not have the date as the index.\")\n",
    "\n",
    "if len(precip_monthly_max_student) == 12:\n",
    "    print(\"\\u2705 Your monthly max for the precipitation DataFrame has \"\n",
    "          \"the correct number of entries, good job!\")\n",
    "    precip_monthly_max_points += 1\n",
    "else:\n",
    "    print(\"\\u274C Your monthly max for the precipitation DataFrame does \"\n",
    "          \"not have the correct number of entries.\")\n",
    "\n",
    "if round(precip_monthly_max_student.HPCP.sum(), 0)==13:\n",
    "    print(\"\\u2705 Your monthly max for the precipitation DataFrame has \"\n",
    "          \"the expected values in it, good job!\")\n",
    "    precip_monthly_max_points += 2\n",
    "else:\n",
    "    print(\"\\u274C Your monthly max for the precipitation DataFrame does \"\n",
    "          \"not have the expected values in it.\")\n",
    "\n",
    "print(\"\\n \\u27A1 You received {} out of 4 points for getting the \"\n",
    "      \"monthly maximum of the precipitation data.\"\n",
    "      .format(precip_monthly_max_points))\n",
    "\n",
    "precip_monthly_max_points"
   ]
  },
  {
   "cell_type": "markdown",
   "metadata": {
    "deletable": false,
    "editable": false,
    "nbgrader": {
     "cell_type": "markdown",
     "checksum": "65b85046690b1e4602eabc8a81d8d3f1",
     "grade": false,
     "grade_id": "cell-552a10d8e1e48da1",
     "locked": true,
     "points": 0,
     "schema_version": 3,
     "solution": false,
     "task": true
    }
   },
   "source": [
    "#### BONUS (5 pts extra credit): Use conditionals and loops to check your work\n",
    "The monthly daily maximum precipitation is a complicated calculation. Check your work by computing the maximum daily total for each month individually in a `for` loop:\n",
    "  1. First, get the precipitation data from 2013\n",
    "  2. Group your data by month and loop through each month. There are several ways to do this - for now, you can give pd.DataFrame.groupby a new column to group by as in the following code, substituting your 2013 `DataFrame` name for `dataframe_name`:\n",
    "      ```python\n",
    "      for month, precip_grp_df in dataframe_name.groupby(dataframe_name.index.month):\n",
    "      ```\n",
    "  3. Each iteration of the loop, resample the DataFrame for the month to a **daily sum**, and then take the **maximum**.\n",
    "  4. Each iteration of the loop, **pull out the precipitation (HPCP) value** for that month that you computed above by resampling alone. Use the `.iloc` (index locator) attribute of the `DataFrame` to get the correct value, substituting your monthly daily maximum `DataFrame` name for `dataframe_name`:\n",
    "      ```python\n",
    "      dataframe_name_from_challenge_1b.HPCP.iloc[month-1]\n",
    "      ```\n",
    "      **Python indexes from zero - you must subtract 1 from the month number to get the correct index**\n",
    "  5. Each iteration of the loop, use a **conditional** to check if the value computed in the loop (below) is the sample as the value computed by resampling alone (above). Print a descriptive message if the value don't match."
   ]
  },
  {
   "cell_type": "code",
   "execution_count": 14,
   "metadata": {
    "deletable": false,
    "nbgrader": {
     "cell_type": "code",
     "checksum": "063d5f2bcda0a15f730227819e434c47",
     "grade": false,
     "grade_id": "cell-7e52202e0af836d3",
     "locked": false,
     "schema_version": 3,
     "solution": true,
     "task": false
    }
   },
   "outputs": [],
   "source": [
    "# selecting time range\n",
    "precip_2013 = precip_df.loc['2013-01-01':'2013-12-31']\n",
    "\n",
    "# iterating through df grouped by month\n",
    "for month, precip_grp_df in precip_2013.groupby(precip_2013.index.month):\n",
    "    # iterating through the dfs monthly daily maximum\n",
    "    for test_value in [precip_grp_df.resample('D').sum().max()[0]]:\n",
    "        # if test value is not equal to the calculated df value\n",
    "        if test_value != precip_monthly_max_df.HPCP.iloc[month-1]:\n",
    "            # print error message\n",
    "            print('Test value is not equal to sample value')"
   ]
  },
  {
   "cell_type": "markdown",
   "metadata": {
    "deletable": false,
    "editable": false,
    "nbgrader": {
     "cell_type": "markdown",
     "checksum": "50d45949aeeeeb16d3ba25f1de2fdff6",
     "grade": false,
     "grade_id": "precip-monthly-sum-instructions",
     "locked": true,
     "schema_version": 3,
     "solution": false,
     "task": false
    }
   },
   "source": [
    "### Challenge 1c: Calculate monthly sums for the entire time period (1948-2013)\n",
    "\n",
    "How does the precipitation during the flood compare to the previous 65 years of precipitation? Find the monthly sum of the hourly precipitation dataset. Include all months in the original dataset. \n",
    "\n",
    "Call the final `DataFrame` object at the end of the cell. "
   ]
  },
  {
   "cell_type": "code",
   "execution_count": 15,
   "metadata": {
    "deletable": false,
    "nbgrader": {
     "cell_type": "code",
     "checksum": "12020597bc2466d377a06b2bea88ad9b",
     "grade": false,
     "grade_id": "precip-monthly-sum",
     "locked": false,
     "schema_version": 3,
     "solution": true,
     "task": false
    }
   },
   "outputs": [
    {
     "data": {
      "text/html": [
       "<div>\n",
       "<style scoped>\n",
       "    .dataframe tbody tr th:only-of-type {\n",
       "        vertical-align: middle;\n",
       "    }\n",
       "\n",
       "    .dataframe tbody tr th {\n",
       "        vertical-align: top;\n",
       "    }\n",
       "\n",
       "    .dataframe thead th {\n",
       "        text-align: right;\n",
       "    }\n",
       "</style>\n",
       "<table border=\"1\" class=\"dataframe\">\n",
       "  <thead>\n",
       "    <tr style=\"text-align: right;\">\n",
       "      <th></th>\n",
       "      <th>HPCP</th>\n",
       "    </tr>\n",
       "    <tr>\n",
       "      <th>DATE</th>\n",
       "      <th></th>\n",
       "    </tr>\n",
       "  </thead>\n",
       "  <tbody>\n",
       "    <tr>\n",
       "      <th>1948-08-31</th>\n",
       "      <td>0.36</td>\n",
       "    </tr>\n",
       "    <tr>\n",
       "      <th>1948-09-30</th>\n",
       "      <td>0.83</td>\n",
       "    </tr>\n",
       "    <tr>\n",
       "      <th>1948-10-31</th>\n",
       "      <td>0.55</td>\n",
       "    </tr>\n",
       "    <tr>\n",
       "      <th>1948-11-30</th>\n",
       "      <td>0.99</td>\n",
       "    </tr>\n",
       "    <tr>\n",
       "      <th>1948-12-31</th>\n",
       "      <td>0.20</td>\n",
       "    </tr>\n",
       "    <tr>\n",
       "      <th>...</th>\n",
       "      <td>...</td>\n",
       "    </tr>\n",
       "    <tr>\n",
       "      <th>2013-08-31</th>\n",
       "      <td>1.00</td>\n",
       "    </tr>\n",
       "    <tr>\n",
       "      <th>2013-09-30</th>\n",
       "      <td>17.70</td>\n",
       "    </tr>\n",
       "    <tr>\n",
       "      <th>2013-10-31</th>\n",
       "      <td>2.00</td>\n",
       "    </tr>\n",
       "    <tr>\n",
       "      <th>2013-11-30</th>\n",
       "      <td>0.40</td>\n",
       "    </tr>\n",
       "    <tr>\n",
       "      <th>2013-12-31</th>\n",
       "      <td>0.50</td>\n",
       "    </tr>\n",
       "  </tbody>\n",
       "</table>\n",
       "<p>785 rows × 1 columns</p>\n",
       "</div>"
      ],
      "text/plain": [
       "             HPCP\n",
       "DATE             \n",
       "1948-08-31   0.36\n",
       "1948-09-30   0.83\n",
       "1948-10-31   0.55\n",
       "1948-11-30   0.99\n",
       "1948-12-31   0.20\n",
       "...           ...\n",
       "2013-08-31   1.00\n",
       "2013-09-30  17.70\n",
       "2013-10-31   2.00\n",
       "2013-11-30   0.40\n",
       "2013-12-31   0.50\n",
       "\n",
       "[785 rows x 1 columns]"
      ]
     },
     "execution_count": 15,
     "metadata": {},
     "output_type": "execute_result"
    }
   ],
   "source": [
    "# resampling by month and summing precipitation\n",
    "precip_monthly_sum = precip_df.resample('M').sum()\n",
    "\n",
    "precip_monthly_sum"
   ]
  },
  {
   "cell_type": "code",
   "execution_count": 16,
   "metadata": {
    "deletable": false,
    "editable": false,
    "nbgrader": {
     "cell_type": "code",
     "checksum": "e7e69f81416c41cecf30b85b0757441d",
     "grade": true,
     "grade_id": "precip-monthly-sum-tests",
     "locked": true,
     "points": 4,
     "schema_version": 3,
     "solution": false,
     "task": false
    }
   },
   "outputs": [
    {
     "name": "stdout",
     "output_type": "stream",
     "text": [
      "✅ Your monthly sum for the precipitation DataFrame has the date as the index, good job!\n",
      "✅ Your monthly sum for the precipitation DataFrame has the correct number of entries, good job!\n",
      "✅ Your monthly sum for the precipitation DataFrame has the expected values in it, good job!\n",
      "\n",
      " ➡ You received 4 out of 4 points for getting the monthly sum of the precipitation data.\n"
     ]
    },
    {
     "data": {
      "text/plain": [
       "4"
      ]
     },
     "execution_count": 16,
     "metadata": {},
     "output_type": "execute_result"
    }
   ],
   "source": [
    "# DO NOT MODIFY THIS CELL\n",
    "\n",
    "precip_monthly_sum_student = _\n",
    "\n",
    "precip_monthly_sum_points = 0\n",
    "\n",
    "if precip_monthly_sum_student.index.name == 'DATE':\n",
    "    print(\"\\u2705 Your monthly sum for the precipitation DataFrame has \"\n",
    "          \"the date as the index, good job!\")\n",
    "    precip_monthly_sum_points += 1\n",
    "else:\n",
    "    print(\"\\u274C Your monthly sum for the precipitation DataFrame does \"\n",
    "          \"not have the date as the index.\")\n",
    "\n",
    "if len(precip_monthly_sum_student) == 785:\n",
    "    print(\"\\u2705 Your monthly sum for the precipitation DataFrame has \"\n",
    "          \"the correct number of entries, good job!\")\n",
    "    precip_monthly_sum_points += 1\n",
    "else:\n",
    "    print(\"\\u274C Your monthly sum for the precipitation DataFrame \"\n",
    "          \"does not have the correct number of entries.\")\n",
    "\n",
    "if round(precip_monthly_sum_student.HPCP.max(), 0)==18:\n",
    "    print(\"\\u2705 Your monthly sum for the precipitation DataFrame has \"\n",
    "          \"the expected values in it, good job!\")\n",
    "    precip_monthly_sum_points += 2\n",
    "else:\n",
    "    print(\"\\u274C Your monthly sum for the precipitation DataFrame does \"\n",
    "          \"not have the expected values in it.\")\n",
    "\n",
    "print(\"\\n \\u27A1 You received {} out of 4 points for getting the monthly \"\n",
    "      \"sum of the precipitation data.\"\n",
    "      .format(precip_monthly_sum_points))\n",
    "\n",
    "precip_monthly_sum_points"
   ]
  },
  {
   "cell_type": "markdown",
   "metadata": {
    "deletable": false,
    "editable": false,
    "nbgrader": {
     "cell_type": "markdown",
     "checksum": "7a0297347dab477dc939a97908c0d4ac",
     "grade": false,
     "grade_id": "precip-plotting-instructions",
     "locked": true,
     "points": 6,
     "schema_version": 3,
     "solution": false,
     "task": true
    }
   },
   "source": [
    "## Challenge 1d: Plot Precipitation Data in a Figure\n",
    "\n",
    "Create a figure with 3 line subplots using the data that you calculated above as follows:\n",
    "\n",
    "* Subplot 1: daily precipitation values from Aug 1, 2013 to Oct 31, 2013. This should include both August 1st and October 31st.\n",
    "    * Plot needs a title, x axis label, and y axis label. The y label should have units of measure in it. \n",
    "    * X axis tick labels should be month-day (e.g. \"Aug-01\")\n",
    "* Subplot 2: monthly maximum values of precipitation in 2013\n",
    "    * Plot needs a title, x axis label, and y axis label. The y label should have units of measure in it. \n",
    "    * X axis tick labels should be month-day (e.g. \"Aug-01\")\n",
    "* Subplot 3 monthly totals of precipitation for all years in dataset\n",
    "    * Plot needs a title, x axis label, and y axis label. The y label should have units of measure in it. \n",
    "    * X axis label should be Year (e.g. \"2013\")\n",
    "    \n",
    "You can use the `DateFormatter` package imported above to ensure you x axis labels are formatted correctly. "
   ]
  },
  {
   "cell_type": "code",
   "execution_count": 17,
   "metadata": {
    "deletable": false,
    "nbgrader": {
     "cell_type": "code",
     "checksum": "24a359ed7840e352ccd1382e1dca702c",
     "grade": false,
     "grade_id": "precip-plots",
     "locked": false,
     "schema_version": 3,
     "solution": true,
     "task": false
    }
   },
   "outputs": [
    {
     "data": {
      "text/plain": [
       "Text(0, 0.5, 'HPCP (0.1 mm)')"
      ]
     },
     "execution_count": 17,
     "metadata": {},
     "output_type": "execute_result"
    },
    {
     "data": {
      "image/png": "[encoded data removed]",
      "text/plain": [
       "<Figure size 720x1224 with 3 Axes>"
      ]
     },
     "metadata": {
      "needs_background": "light"
     },
     "output_type": "display_data"
    }
   ],
   "source": [
    "# set figure and size\n",
    "f, ax = plt.subplots(3, 1, figsize=(10, 17))\n",
    "\n",
    "# plot daily precip values from Aug 2013 to Oct 2013\n",
    "ax[0].plot(precip_flood_range)\n",
    "# date formatting\n",
    "ax[0].xaxis.set_major_formatter(DateFormatter('%b-%d'))\n",
    "# setting plot elements\n",
    "ax[0].set_title(\"Boulder Country Daily Precipitation (Aug 2013 - Oct 2013)\")\n",
    "ax[0].set_xlabel(\"Date\")\n",
    "ax[0].set_ylabel(\"HPCP (0.1 mm)\")\n",
    "\n",
    "\n",
    "# plot monthly max precip values in 2013\n",
    "ax[1].plot(precip_monthly_max_df)\n",
    "# ax[1].plot(precip_monthly_max_df)\n",
    "# date formatting\n",
    "ax[1].xaxis.set_major_formatter(DateFormatter('%b-%d'))\n",
    "# setting plot elements\n",
    "ax[1].set_title(\"Boulder Country Monthly Maximum Precipitation (2013)\")\n",
    "ax[1].set_xlabel(\"Date\")\n",
    "ax[1].set_ylabel(\"HPCP (0.1 mm)\")\n",
    "\n",
    "\n",
    "# plot monthly precipitation totals for all years\n",
    "ax[2].plot(precip_monthly_sum)\n",
    "# date formatting\n",
    "ax[2].xaxis.set_major_formatter(DateFormatter('%Y'))\n",
    "# setting plot elements\n",
    "ax[2].set_title(\"Boulder Country Monthly Precipitation Total (1948-2013)\")\n",
    "ax[2].set_xlabel(\"Year\")\n",
    "ax[2].set_ylabel(\"HPCP (0.1 mm)\")"
   ]
  },
  {
   "cell_type": "markdown",
   "metadata": {
    "deletable": false,
    "editable": false,
    "nbgrader": {
     "cell_type": "markdown",
     "checksum": "2cb36c37cb1c72decd0c74b6661174c7",
     "grade": false,
     "grade_id": "discharge-read-in-instructions",
     "locked": true,
     "schema_version": 3,
     "solution": false,
     "task": false
    }
   },
   "source": [
    "## Challenge 2: Repeat the same analysis using discharge data\n",
    "\n",
    "Using the same functions as above, read in your discharge data. Don't forget to use the `parse_dates` argument to parse the `datetime` column, and to set the `na_values` to the value specified in the information given about this data above. Set the `datetime` column to be the index of the DataFrame.\n",
    "\n",
    "Call the final `DataFrame` object at the end of the cell. "
   ]
  },
  {
   "cell_type": "code",
   "execution_count": 18,
   "metadata": {
    "deletable": false,
    "nbgrader": {
     "cell_type": "code",
     "checksum": "5cd19d997ef199255a8e3f7d510f9aac",
     "grade": false,
     "grade_id": "students-read-in-discharge",
     "locked": false,
     "schema_version": 3,
     "solution": true,
     "task": false
    }
   },
   "outputs": [
    {
     "data": {
      "text/html": [
       "<div>\n",
       "<style scoped>\n",
       "    .dataframe tbody tr th:only-of-type {\n",
       "        vertical-align: middle;\n",
       "    }\n",
       "\n",
       "    .dataframe tbody tr th {\n",
       "        vertical-align: top;\n",
       "    }\n",
       "\n",
       "    .dataframe thead th {\n",
       "        text-align: right;\n",
       "    }\n",
       "</style>\n",
       "<table border=\"1\" class=\"dataframe\">\n",
       "  <thead>\n",
       "    <tr style=\"text-align: right;\">\n",
       "      <th></th>\n",
       "      <th>agency_cd</th>\n",
       "      <th>site_no</th>\n",
       "      <th>disValue</th>\n",
       "      <th>qualCode</th>\n",
       "    </tr>\n",
       "    <tr>\n",
       "      <th>datetime</th>\n",
       "      <th></th>\n",
       "      <th></th>\n",
       "      <th></th>\n",
       "      <th></th>\n",
       "    </tr>\n",
       "  </thead>\n",
       "  <tbody>\n",
       "    <tr>\n",
       "      <th>1986-10-01</th>\n",
       "      <td>USGS</td>\n",
       "      <td>6730200</td>\n",
       "      <td>30.0</td>\n",
       "      <td>A</td>\n",
       "    </tr>\n",
       "    <tr>\n",
       "      <th>1986-10-02</th>\n",
       "      <td>USGS</td>\n",
       "      <td>6730200</td>\n",
       "      <td>30.0</td>\n",
       "      <td>A</td>\n",
       "    </tr>\n",
       "    <tr>\n",
       "      <th>1986-10-03</th>\n",
       "      <td>USGS</td>\n",
       "      <td>6730200</td>\n",
       "      <td>30.0</td>\n",
       "      <td>A</td>\n",
       "    </tr>\n",
       "    <tr>\n",
       "      <th>1986-10-04</th>\n",
       "      <td>USGS</td>\n",
       "      <td>6730200</td>\n",
       "      <td>30.0</td>\n",
       "      <td>A</td>\n",
       "    </tr>\n",
       "    <tr>\n",
       "      <th>1986-10-05</th>\n",
       "      <td>USGS</td>\n",
       "      <td>6730200</td>\n",
       "      <td>30.0</td>\n",
       "      <td>A</td>\n",
       "    </tr>\n",
       "    <tr>\n",
       "      <th>...</th>\n",
       "      <td>...</td>\n",
       "      <td>...</td>\n",
       "      <td>...</td>\n",
       "      <td>...</td>\n",
       "    </tr>\n",
       "    <tr>\n",
       "      <th>2013-12-27</th>\n",
       "      <td>USGS</td>\n",
       "      <td>6730200</td>\n",
       "      <td>38.0</td>\n",
       "      <td>A</td>\n",
       "    </tr>\n",
       "    <tr>\n",
       "      <th>2013-12-28</th>\n",
       "      <td>USGS</td>\n",
       "      <td>6730200</td>\n",
       "      <td>32.0</td>\n",
       "      <td>A</td>\n",
       "    </tr>\n",
       "    <tr>\n",
       "      <th>2013-12-29</th>\n",
       "      <td>USGS</td>\n",
       "      <td>6730200</td>\n",
       "      <td>31.0</td>\n",
       "      <td>A</td>\n",
       "    </tr>\n",
       "    <tr>\n",
       "      <th>2013-12-30</th>\n",
       "      <td>USGS</td>\n",
       "      <td>6730200</td>\n",
       "      <td>30.0</td>\n",
       "      <td>A</td>\n",
       "    </tr>\n",
       "    <tr>\n",
       "      <th>2013-12-31</th>\n",
       "      <td>USGS</td>\n",
       "      <td>6730200</td>\n",
       "      <td>31.0</td>\n",
       "      <td>A</td>\n",
       "    </tr>\n",
       "  </tbody>\n",
       "</table>\n",
       "<p>9954 rows × 4 columns</p>\n",
       "</div>"
      ],
      "text/plain": [
       "           agency_cd  site_no  disValue qualCode\n",
       "datetime                                        \n",
       "1986-10-01      USGS  6730200      30.0        A\n",
       "1986-10-02      USGS  6730200      30.0        A\n",
       "1986-10-03      USGS  6730200      30.0        A\n",
       "1986-10-04      USGS  6730200      30.0        A\n",
       "1986-10-05      USGS  6730200      30.0        A\n",
       "...              ...      ...       ...      ...\n",
       "2013-12-27      USGS  6730200      38.0        A\n",
       "2013-12-28      USGS  6730200      32.0        A\n",
       "2013-12-29      USGS  6730200      31.0        A\n",
       "2013-12-30      USGS  6730200      30.0        A\n",
       "2013-12-31      USGS  6730200      31.0        A\n",
       "\n",
       "[9954 rows x 4 columns]"
      ]
     },
     "execution_count": 18,
     "metadata": {},
     "output_type": "execute_result"
    }
   ],
   "source": [
    "# read in discharge data, parse dates, and set index\n",
    "discharge_df = pd.read_csv(streamflow_path,\n",
    "                           parse_dates=['datetime'],\n",
    "                           index_col=['datetime'])\n",
    "\n",
    "discharge_df"
   ]
  },
  {
   "cell_type": "code",
   "execution_count": 19,
   "metadata": {
    "deletable": false,
    "editable": false,
    "nbgrader": {
     "cell_type": "code",
     "checksum": "b8217c953a0220abb391e059749505f8",
     "grade": true,
     "grade_id": "test-discharge-read-in",
     "locked": true,
     "points": 5,
     "schema_version": 3,
     "solution": false,
     "task": false
    }
   },
   "outputs": [
    {
     "name": "stdout",
     "output_type": "stream",
     "text": [
      "✅ Your discharge DataFrame has the date as the index, good job!\n",
      "✅ Your daily subset values for the discharge DataFrame has the date set as datetime type, good job!\n",
      "✅ Your discharge DataFrame has the expected values in it, good job!\n",
      "\n",
      " ➡ You received 5 out of 5 points for opening the discharge data.\n"
     ]
    },
    {
     "data": {
      "text/plain": [
       "5"
      ]
     },
     "execution_count": 19,
     "metadata": {},
     "output_type": "execute_result"
    }
   ],
   "source": [
    "# DO NOT MODIFY THIS CELL\n",
    "\n",
    "student_discharge_answer = _\n",
    "\n",
    "discharge_data_points = 0\n",
    "\n",
    "if student_discharge_answer.index.name == 'datetime':\n",
    "    print(\"\\u2705 Your discharge DataFrame has the date as the index, \"\n",
    "          \"good job!\")\n",
    "    discharge_data_points += 1\n",
    "else:\n",
    "    print(\"\\u274C Your discharge DataFrame does not have the date as \"\n",
    "          \"the index.\")\n",
    "\n",
    "if student_discharge_answer.index.dtype == np.dtype('datetime64[ns]'):\n",
    "    print(\"\\u2705 Your daily subset values for the discharge DataFrame \"\n",
    "          \"has the date set as datetime type, good job!\")\n",
    "    discharge_data_points += 1\n",
    "else:\n",
    "    print(\"\\u274C Your daily subset values for the discharge DataFrame \"\n",
    "          \"does not have the date set as datetime type.\")\n",
    "\n",
    "if round(student_discharge_answer.disValue.sum(), 0)==932816:\n",
    "    print(\"\\u2705 Your discharge DataFrame has the expected values in \"\n",
    "          \"it, good job!\")\n",
    "    discharge_data_points += 3\n",
    "else:\n",
    "    print(\"\\u274C Your discharge DataFrame does not have the expected \"\n",
    "          \"values in it.\")\n",
    "\n",
    "print(\"\\n \\u27A1 You received {} out of 5 points for opening the \"\n",
    "      \"discharge data.\"\n",
    "      .format(discharge_data_points))\n",
    "\n",
    "discharge_data_points"
   ]
  },
  {
   "cell_type": "markdown",
   "metadata": {
    "deletable": false,
    "editable": false,
    "nbgrader": {
     "cell_type": "markdown",
     "checksum": "ec629e0085453fa7321765338cec8e99",
     "grade": false,
     "grade_id": "discharge-subset-instructions",
     "locked": true,
     "schema_version": 3,
     "solution": false,
     "task": false
    }
   },
   "source": [
    "### Challenge 2a: Subset Stream Discharge Data To Your Study Time Period\n",
    "\n",
    "In the cell below, subset the stream discharge data to the same timeframe \n",
    "that you are interested in: August 1st, 2013 to October 31st, 2013. This should include both August 1st and October 31st. Check your dataframe to ensure it starts and stops on the correct dates, some subsetting methods will return slightly different start and end times!\n",
    "\n",
    "Call the final `DataFrame` object at the end of the cell. "
   ]
  },
  {
   "cell_type": "code",
   "execution_count": 20,
   "metadata": {
    "deletable": false,
    "nbgrader": {
     "cell_type": "code",
     "checksum": "89f9f8ea1c69bde63c116ab0a6f1318c",
     "grade": false,
     "grade_id": "discharge-daily",
     "locked": false,
     "schema_version": 3,
     "solution": true,
     "task": false
    }
   },
   "outputs": [
    {
     "data": {
      "text/html": [
       "<div>\n",
       "<style scoped>\n",
       "    .dataframe tbody tr th:only-of-type {\n",
       "        vertical-align: middle;\n",
       "    }\n",
       "\n",
       "    .dataframe tbody tr th {\n",
       "        vertical-align: top;\n",
       "    }\n",
       "\n",
       "    .dataframe thead th {\n",
       "        text-align: right;\n",
       "    }\n",
       "</style>\n",
       "<table border=\"1\" class=\"dataframe\">\n",
       "  <thead>\n",
       "    <tr style=\"text-align: right;\">\n",
       "      <th></th>\n",
       "      <th>agency_cd</th>\n",
       "      <th>site_no</th>\n",
       "      <th>disValue</th>\n",
       "      <th>qualCode</th>\n",
       "    </tr>\n",
       "    <tr>\n",
       "      <th>datetime</th>\n",
       "      <th></th>\n",
       "      <th></th>\n",
       "      <th></th>\n",
       "      <th></th>\n",
       "    </tr>\n",
       "  </thead>\n",
       "  <tbody>\n",
       "    <tr>\n",
       "      <th>2013-08-01</th>\n",
       "      <td>USGS</td>\n",
       "      <td>6730200</td>\n",
       "      <td>64.0</td>\n",
       "      <td>A</td>\n",
       "    </tr>\n",
       "    <tr>\n",
       "      <th>2013-08-02</th>\n",
       "      <td>USGS</td>\n",
       "      <td>6730200</td>\n",
       "      <td>68.0</td>\n",
       "      <td>A</td>\n",
       "    </tr>\n",
       "    <tr>\n",
       "      <th>2013-08-03</th>\n",
       "      <td>USGS</td>\n",
       "      <td>6730200</td>\n",
       "      <td>65.0</td>\n",
       "      <td>A</td>\n",
       "    </tr>\n",
       "    <tr>\n",
       "      <th>2013-08-04</th>\n",
       "      <td>USGS</td>\n",
       "      <td>6730200</td>\n",
       "      <td>65.0</td>\n",
       "      <td>A</td>\n",
       "    </tr>\n",
       "    <tr>\n",
       "      <th>2013-08-05</th>\n",
       "      <td>USGS</td>\n",
       "      <td>6730200</td>\n",
       "      <td>62.0</td>\n",
       "      <td>A</td>\n",
       "    </tr>\n",
       "    <tr>\n",
       "      <th>...</th>\n",
       "      <td>...</td>\n",
       "      <td>...</td>\n",
       "      <td>...</td>\n",
       "      <td>...</td>\n",
       "    </tr>\n",
       "    <tr>\n",
       "      <th>2013-10-27</th>\n",
       "      <td>USGS</td>\n",
       "      <td>6730200</td>\n",
       "      <td>156.0</td>\n",
       "      <td>A</td>\n",
       "    </tr>\n",
       "    <tr>\n",
       "      <th>2013-10-28</th>\n",
       "      <td>USGS</td>\n",
       "      <td>6730200</td>\n",
       "      <td>148.0</td>\n",
       "      <td>A</td>\n",
       "    </tr>\n",
       "    <tr>\n",
       "      <th>2013-10-29</th>\n",
       "      <td>USGS</td>\n",
       "      <td>6730200</td>\n",
       "      <td>123.0</td>\n",
       "      <td>A</td>\n",
       "    </tr>\n",
       "    <tr>\n",
       "      <th>2013-10-30</th>\n",
       "      <td>USGS</td>\n",
       "      <td>6730200</td>\n",
       "      <td>114.0</td>\n",
       "      <td>A</td>\n",
       "    </tr>\n",
       "    <tr>\n",
       "      <th>2013-10-31</th>\n",
       "      <td>USGS</td>\n",
       "      <td>6730200</td>\n",
       "      <td>104.0</td>\n",
       "      <td>A</td>\n",
       "    </tr>\n",
       "  </tbody>\n",
       "</table>\n",
       "<p>92 rows × 4 columns</p>\n",
       "</div>"
      ],
      "text/plain": [
       "           agency_cd  site_no  disValue qualCode\n",
       "datetime                                        \n",
       "2013-08-01      USGS  6730200      64.0        A\n",
       "2013-08-02      USGS  6730200      68.0        A\n",
       "2013-08-03      USGS  6730200      65.0        A\n",
       "2013-08-04      USGS  6730200      65.0        A\n",
       "2013-08-05      USGS  6730200      62.0        A\n",
       "...              ...      ...       ...      ...\n",
       "2013-10-27      USGS  6730200     156.0        A\n",
       "2013-10-28      USGS  6730200     148.0        A\n",
       "2013-10-29      USGS  6730200     123.0        A\n",
       "2013-10-30      USGS  6730200     114.0        A\n",
       "2013-10-31      USGS  6730200     104.0        A\n",
       "\n",
       "[92 rows x 4 columns]"
      ]
     },
     "execution_count": 20,
     "metadata": {},
     "output_type": "execute_result"
    }
   ],
   "source": [
    "# selecting time range\n",
    "discharge_flood_range = discharge_df.loc['2013-08-01':'2013-10-31']\n",
    "\n",
    "discharge_flood_range"
   ]
  },
  {
   "cell_type": "code",
   "execution_count": 21,
   "metadata": {
    "deletable": false,
    "editable": false,
    "nbgrader": {
     "cell_type": "code",
     "checksum": "bf31da85bf0dc1a69c88a0a502a9cd1b",
     "grade": true,
     "grade_id": "discharge-daily-test",
     "locked": true,
     "points": 5,
     "schema_version": 3,
     "solution": false,
     "task": false
    }
   },
   "outputs": [
    {
     "name": "stdout",
     "output_type": "stream",
     "text": [
      "✅ Your daily subset values for the discharge DataFrame has the date as the index, good job!\n",
      "✅ Your daily subset values for the discharge DataFrame has the date set as datetime type, good job!\n",
      "✅ Your daily subset values for the discharge DataFrame has been subset correctly, good job!\n",
      "✅ Your daily subset values for the discharge DataFrame has the expected values in it, good job!\n",
      "\n",
      " ➡ You received 5 out of 5 points for getting the daily subset values of the discharge data.\n"
     ]
    },
    {
     "data": {
      "text/plain": [
       "5"
      ]
     },
     "execution_count": 21,
     "metadata": {},
     "output_type": "execute_result"
    }
   ],
   "source": [
    "# DO NOT MODIFY THIS CELL\n",
    "\n",
    "q_daily_sum_student = _\n",
    "\n",
    "q_daily_points = 0\n",
    "\n",
    "\n",
    "if q_daily_sum_student.index.name == 'datetime':\n",
    "    print(\"\\u2705 Your daily subset values for the discharge DataFrame \"\n",
    "          \"has the date as the index, good job!\")\n",
    "    q_daily_points += 1\n",
    "else:\n",
    "    print(\"\\u274C Your daily subset values for the discharge DataFrame \"\n",
    "          \"does not have the date as the index.\")\n",
    "\n",
    "if q_daily_sum_student.index.dtype == np.dtype('datetime64[ns]'):\n",
    "    print(\"\\u2705 Your daily subset values for the discharge DataFrame \"\n",
    "          \"has the date set as datetime type, good job!\")\n",
    "    q_daily_points += 1\n",
    "else:\n",
    "    print(\"\\u274C Your daily subset values for the discharge DataFrame \"\n",
    "          \"does not have the date set as datetime type.\")\n",
    "\n",
    "if (q_daily_sum_student.index.min()==pd.to_datetime('2013-08-01')\n",
    "    and q_daily_sum_student.index.max()==pd.to_datetime('2013-10-31')):\n",
    "    print(\"\\u2705 Your daily subset values for the discharge DataFrame \"\n",
    "          \"has been subset correctly, good job!\")\n",
    "    q_daily_points += 1\n",
    "else:\n",
    "    print(\"\\u274C Your daily subset values for the discharge DataFrame \"\n",
    "          \"has not been subset correctly.\")\n",
    "\n",
    "if round(q_daily_sum_student.disValue.sum(), 0)==34349:\n",
    "    print(\"\\u2705 Your daily subset values for the discharge DataFrame \"\n",
    "          \"has the expected values in it, good job!\")\n",
    "    q_daily_points += 2\n",
    "else:\n",
    "    print(\"\\u274C Your daily subset values for the discharge DataFrame \"\n",
    "          \"does not have the expected values in it.\")\n",
    "\n",
    "print(\"\\n \\u27A1 You received {} out of 5 points for getting the daily \"\n",
    "      \"subset values of the discharge data.\"\n",
    "      .format(q_daily_points))\n",
    "\n",
    "q_daily_points"
   ]
  },
  {
   "cell_type": "markdown",
   "metadata": {
    "deletable": false,
    "editable": false,
    "nbgrader": {
     "cell_type": "markdown",
     "checksum": "2090ee0d7deb23fdd60d3908418c4017",
     "grade": false,
     "grade_id": "discharge-monthly-max-instructions",
     "locked": true,
     "schema_version": 3,
     "solution": false,
     "task": false
    }
   },
   "source": [
    "### Challenge 2b: Calculate the Monthly Maximum and Sum for Stream Discharge Data in 2013\n",
    "\n",
    "Use your original stream discharge dataset to calculate the maximum \n",
    "daily discharge rate **for each month in the year 2013**.\n",
    "\n",
    "HINT: you can calculate multiple summary values using the `.agg()` method.\n",
    "The approach looks like this:\n",
    "\n",
    "```python\n",
    "(your_df['year-here']\n",
    " .resample('value-here')\n",
    " .agg(new_max_column_name=('column-you-want-to-summarize', 'max'),\n",
    "      new_sum_column_name=('column-you-want-to-summarize', 'sum')))\n",
    "```\n",
    "\n",
    "Call the final `DataFrame` object at the end of the cell. "
   ]
  },
  {
   "cell_type": "code",
   "execution_count": 22,
   "metadata": {
    "deletable": false,
    "nbgrader": {
     "cell_type": "code",
     "checksum": "fecf4ac619a6a3634f1250450ed77458",
     "grade": false,
     "grade_id": "dicharge-monthly-max",
     "locked": false,
     "schema_version": 3,
     "solution": true,
     "task": false
    }
   },
   "outputs": [
    {
     "data": {
      "text/html": [
       "<div>\n",
       "<style scoped>\n",
       "    .dataframe tbody tr th:only-of-type {\n",
       "        vertical-align: middle;\n",
       "    }\n",
       "\n",
       "    .dataframe tbody tr th {\n",
       "        vertical-align: top;\n",
       "    }\n",
       "\n",
       "    .dataframe thead th {\n",
       "        text-align: right;\n",
       "    }\n",
       "</style>\n",
       "<table border=\"1\" class=\"dataframe\">\n",
       "  <thead>\n",
       "    <tr style=\"text-align: right;\">\n",
       "      <th></th>\n",
       "      <th>max_discharge</th>\n",
       "      <th>sum_discharge</th>\n",
       "    </tr>\n",
       "    <tr>\n",
       "      <th>datetime</th>\n",
       "      <th></th>\n",
       "      <th></th>\n",
       "    </tr>\n",
       "  </thead>\n",
       "  <tbody>\n",
       "    <tr>\n",
       "      <th>2013-01-31</th>\n",
       "      <td>26.0</td>\n",
       "      <td>332.4</td>\n",
       "    </tr>\n",
       "    <tr>\n",
       "      <th>2013-02-28</th>\n",
       "      <td>4.7</td>\n",
       "      <td>93.6</td>\n",
       "    </tr>\n",
       "    <tr>\n",
       "      <th>2013-03-31</th>\n",
       "      <td>8.9</td>\n",
       "      <td>183.1</td>\n",
       "    </tr>\n",
       "    <tr>\n",
       "      <th>2013-04-30</th>\n",
       "      <td>35.0</td>\n",
       "      <td>477.2</td>\n",
       "    </tr>\n",
       "    <tr>\n",
       "      <th>2013-05-31</th>\n",
       "      <td>501.0</td>\n",
       "      <td>6937.0</td>\n",
       "    </tr>\n",
       "    <tr>\n",
       "      <th>2013-06-30</th>\n",
       "      <td>629.0</td>\n",
       "      <td>7888.0</td>\n",
       "    </tr>\n",
       "    <tr>\n",
       "      <th>2013-07-31</th>\n",
       "      <td>136.0</td>\n",
       "      <td>2714.0</td>\n",
       "    </tr>\n",
       "    <tr>\n",
       "      <th>2013-08-31</th>\n",
       "      <td>108.0</td>\n",
       "      <td>1704.0</td>\n",
       "    </tr>\n",
       "    <tr>\n",
       "      <th>2013-09-30</th>\n",
       "      <td>4770.0</td>\n",
       "      <td>25844.0</td>\n",
       "    </tr>\n",
       "    <tr>\n",
       "      <th>2013-10-31</th>\n",
       "      <td>424.0</td>\n",
       "      <td>6801.0</td>\n",
       "    </tr>\n",
       "    <tr>\n",
       "      <th>2013-11-30</th>\n",
       "      <td>94.0</td>\n",
       "      <td>1917.0</td>\n",
       "    </tr>\n",
       "    <tr>\n",
       "      <th>2013-12-31</th>\n",
       "      <td>53.0</td>\n",
       "      <td>1064.0</td>\n",
       "    </tr>\n",
       "  </tbody>\n",
       "</table>\n",
       "</div>"
      ],
      "text/plain": [
       "            max_discharge  sum_discharge\n",
       "datetime                                \n",
       "2013-01-31           26.0          332.4\n",
       "2013-02-28            4.7           93.6\n",
       "2013-03-31            8.9          183.1\n",
       "2013-04-30           35.0          477.2\n",
       "2013-05-31          501.0         6937.0\n",
       "2013-06-30          629.0         7888.0\n",
       "2013-07-31          136.0         2714.0\n",
       "2013-08-31          108.0         1704.0\n",
       "2013-09-30         4770.0        25844.0\n",
       "2013-10-31          424.0         6801.0\n",
       "2013-11-30           94.0         1917.0\n",
       "2013-12-31           53.0         1064.0"
      ]
     },
     "execution_count": 22,
     "metadata": {},
     "output_type": "execute_result"
    }
   ],
   "source": [
    "# resampling by month to get monthly precipitation sum and max values\n",
    "discharge_flood_range_aggs = (\n",
    "    discharge_df.loc['2013']\n",
    "    .resample('M')\n",
    "    .agg(max_discharge=('disValue', 'max'),\n",
    "         sum_discharge=('disValue', 'sum'))\n",
    ")\n",
    "\n",
    "discharge_flood_range_aggs"
   ]
  },
  {
   "cell_type": "code",
   "execution_count": 23,
   "metadata": {
    "deletable": false,
    "editable": false,
    "nbgrader": {
     "cell_type": "code",
     "checksum": "06f89b39b599287217f65968855df1e5",
     "grade": true,
     "grade_id": "discharge-monthly-max-tests",
     "locked": true,
     "points": 5,
     "schema_version": 3,
     "solution": false,
     "task": false
    }
   },
   "outputs": [
    {
     "name": "stdout",
     "output_type": "stream",
     "text": [
      "✅ Your monthly summary values for the discharge DataFrame has the date as the index, good job!\n",
      "✅ Your monthly summary values for the discharge DataFrame has the date set as datetime type, good job!\n",
      "✅ Your discharge DataFrame has the expected values in it, good job!\n",
      "\n",
      " ➡ You received 5 out of 5 points for getting the monthly maximum of the discharge data.\n"
     ]
    },
    {
     "data": {
      "text/plain": [
       "5"
      ]
     },
     "execution_count": 23,
     "metadata": {},
     "output_type": "execute_result"
    }
   ],
   "source": [
    "# DO NOT MODIFY THIS CELL\n",
    "\n",
    "q_monthly_max_student = _\n",
    "\n",
    "q_monthly_max_points = 0\n",
    "\n",
    "if q_monthly_max_student.index.name == 'datetime':\n",
    "    print(\"\\u2705 Your monthly summary values for the discharge \"\n",
    "          \"DataFrame has the date as the index, good job!\")\n",
    "    q_monthly_max_points += 1\n",
    "else:\n",
    "    print(\"\\u274C Your monthly summary values for the discharge \"\n",
    "          \"DataFrame does not have the date as the index.\")\n",
    "\n",
    "if q_monthly_max_student.index.dtype == np.dtype('datetime64[ns]'):\n",
    "    print(\"\\u2705 Your monthly summary values for the discharge \"\n",
    "          \"DataFrame has the date set as datetime type, good job!\")\n",
    "    q_monthly_max_points += 1\n",
    "else:\n",
    "    print(\"\\u274C Your monthly summary values for the discharge \"\n",
    "          \"DataFrame does not have the date set as datetime type.\")\n",
    "\n",
    "try:\n",
    "    if round(q_monthly_max_student.sum().sum(), 0)==62745:\n",
    "        print(\"\\u2705 Your discharge DataFrame has \"\n",
    "              \"the expected values in it, good job!\")\n",
    "        q_monthly_max_points += 3\n",
    "    else:\n",
    "        print(\"\\u274C Your discharge DataFrame does \"\n",
    "              \"not have the expected values in it.\")\n",
    "except KeyError:\n",
    "    print(\"Dataframe was not resampled correctly and is missing the \"\n",
    "          \"max column.\")\n",
    "\n",
    "print(\"\\n \\u27A1 You received {} out of 5 points for getting the \"\n",
    "      \"monthly maximum of the discharge data.\"\n",
    "      .format(q_monthly_max_points))\n",
    "\n",
    "q_monthly_max_points"
   ]
  },
  {
   "cell_type": "markdown",
   "metadata": {
    "deletable": false,
    "editable": false,
    "nbgrader": {
     "cell_type": "markdown",
     "checksum": "06d6330f4ab445d55b24172e8afca3cb",
     "grade": false,
     "grade_id": "monthly-total-discharge-instructions",
     "locked": true,
     "schema_version": 3,
     "solution": false,
     "task": false
    }
   },
   "source": [
    "### Challenge 2c: Calculate Monthly Total Stream Discharge\n",
    "\n",
    "In the cell below, calculate the sum for each month of stream discharge for \n",
    "the entire time period in the data.\n",
    "\n",
    "Be sure to call your dataframe at the end of the cell."
   ]
  },
  {
   "cell_type": "code",
   "execution_count": 24,
   "metadata": {
    "deletable": false,
    "nbgrader": {
     "cell_type": "code",
     "checksum": "6fb165775130e3f365f581485fee3ee2",
     "grade": false,
     "grade_id": "monthly-total-discharge-answer",
     "locked": false,
     "schema_version": 3,
     "solution": true,
     "task": false
    }
   },
   "outputs": [
    {
     "data": {
      "text/html": [
       "<div>\n",
       "<style scoped>\n",
       "    .dataframe tbody tr th:only-of-type {\n",
       "        vertical-align: middle;\n",
       "    }\n",
       "\n",
       "    .dataframe tbody tr th {\n",
       "        vertical-align: top;\n",
       "    }\n",
       "\n",
       "    .dataframe thead th {\n",
       "        text-align: right;\n",
       "    }\n",
       "</style>\n",
       "<table border=\"1\" class=\"dataframe\">\n",
       "  <thead>\n",
       "    <tr style=\"text-align: right;\">\n",
       "      <th></th>\n",
       "      <th>site_no</th>\n",
       "      <th>disValue</th>\n",
       "    </tr>\n",
       "    <tr>\n",
       "      <th>datetime</th>\n",
       "      <th></th>\n",
       "      <th></th>\n",
       "    </tr>\n",
       "  </thead>\n",
       "  <tbody>\n",
       "    <tr>\n",
       "      <th>1986-10-31</th>\n",
       "      <td>208636200</td>\n",
       "      <td>978.0</td>\n",
       "    </tr>\n",
       "    <tr>\n",
       "      <th>1986-11-30</th>\n",
       "      <td>201906000</td>\n",
       "      <td>1556.0</td>\n",
       "    </tr>\n",
       "    <tr>\n",
       "      <th>1986-12-31</th>\n",
       "      <td>208636200</td>\n",
       "      <td>2000.0</td>\n",
       "    </tr>\n",
       "    <tr>\n",
       "      <th>1987-01-31</th>\n",
       "      <td>208636200</td>\n",
       "      <td>2116.0</td>\n",
       "    </tr>\n",
       "    <tr>\n",
       "      <th>1987-02-28</th>\n",
       "      <td>188445600</td>\n",
       "      <td>1653.0</td>\n",
       "    </tr>\n",
       "    <tr>\n",
       "      <th>...</th>\n",
       "      <td>...</td>\n",
       "      <td>...</td>\n",
       "    </tr>\n",
       "    <tr>\n",
       "      <th>2013-08-31</th>\n",
       "      <td>208636200</td>\n",
       "      <td>1704.0</td>\n",
       "    </tr>\n",
       "    <tr>\n",
       "      <th>2013-09-30</th>\n",
       "      <td>201906000</td>\n",
       "      <td>25844.0</td>\n",
       "    </tr>\n",
       "    <tr>\n",
       "      <th>2013-10-31</th>\n",
       "      <td>208636200</td>\n",
       "      <td>6801.0</td>\n",
       "    </tr>\n",
       "    <tr>\n",
       "      <th>2013-11-30</th>\n",
       "      <td>201906000</td>\n",
       "      <td>1917.0</td>\n",
       "    </tr>\n",
       "    <tr>\n",
       "      <th>2013-12-31</th>\n",
       "      <td>208636200</td>\n",
       "      <td>1064.0</td>\n",
       "    </tr>\n",
       "  </tbody>\n",
       "</table>\n",
       "<p>327 rows × 2 columns</p>\n",
       "</div>"
      ],
      "text/plain": [
       "              site_no  disValue\n",
       "datetime                       \n",
       "1986-10-31  208636200     978.0\n",
       "1986-11-30  201906000    1556.0\n",
       "1986-12-31  208636200    2000.0\n",
       "1987-01-31  208636200    2116.0\n",
       "1987-02-28  188445600    1653.0\n",
       "...               ...       ...\n",
       "2013-08-31  208636200    1704.0\n",
       "2013-09-30  201906000   25844.0\n",
       "2013-10-31  208636200    6801.0\n",
       "2013-11-30  201906000    1917.0\n",
       "2013-12-31  208636200    1064.0\n",
       "\n",
       "[327 rows x 2 columns]"
      ]
     },
     "execution_count": 24,
     "metadata": {},
     "output_type": "execute_result"
    }
   ],
   "source": [
    "# resampling by month and summing precipitation value\n",
    "discharge_monthly_sum = discharge_df.resample('M').sum()\n",
    "\n",
    "discharge_monthly_sum"
   ]
  },
  {
   "cell_type": "code",
   "execution_count": 25,
   "metadata": {
    "deletable": false,
    "editable": false,
    "nbgrader": {
     "cell_type": "code",
     "checksum": "d8ee338295c97f3b34a52cd8d18487f2",
     "grade": true,
     "grade_id": "monthly-total-discharge-tests",
     "locked": true,
     "points": 5,
     "schema_version": 3,
     "solution": false,
     "task": false
    }
   },
   "outputs": [
    {
     "name": "stdout",
     "output_type": "stream",
     "text": [
      "✅ Your data has been subset to the correct dates, good job!\n",
      "✅ Your monthly sum for the discharge DataFrame has the expected values in it, good job!\n",
      "\n",
      " ➡ You received 5 out of 5 points for resampling the monthly sums of the discharge data.\n"
     ]
    },
    {
     "data": {
      "text/plain": [
       "5"
      ]
     },
     "execution_count": 25,
     "metadata": {},
     "output_type": "execute_result"
    }
   ],
   "source": [
    "# DO NOT MODIFY THIS CELL\n",
    "\n",
    "student_discharge_sum = _\n",
    "\n",
    "discharge_monthly_sum_points = 0\n",
    "\n",
    "if (student_discharge_sum.index.year.min()==1986\n",
    "  and student_discharge_sum.index.year.max()==2013):\n",
    "    print(\"\\u2705 Your data has been subset to the correct dates, \"\n",
    "          \"good job!\")\n",
    "    discharge_monthly_sum_points += 1\n",
    "else:\n",
    "    print(\"\\u274C Your data has not been subset to the correct dates.\")\n",
    "\n",
    "if round(student_discharge_sum.disValue.max(), 0)==26048:\n",
    "    print(\"\\u2705 Your monthly sum for the discharge DataFrame has \"\n",
    "          \"the expected values in it, good job!\")\n",
    "    discharge_monthly_sum_points += 4\n",
    "else:\n",
    "    print(\"\\u274C Your monthly sum for the discharge DataFrame does \"\n",
    "          \"not have the expected values in it.\")\n",
    "\n",
    "print(\"\\n \\u27A1 You received {} out of 5 points for resampling the \"\n",
    "      \"monthly sums of the discharge data.\"\n",
    "      .format(discharge_monthly_sum_points))\n",
    "\n",
    "discharge_monthly_sum_points"
   ]
  },
  {
   "cell_type": "markdown",
   "metadata": {
    "deletable": false,
    "editable": false,
    "nbgrader": {
     "cell_type": "markdown",
     "checksum": "a1f0e606df0121badfa45699a8246341",
     "grade": false,
     "grade_id": "discharge-plots-instructions",
     "locked": true,
     "points": 6,
     "schema_version": 3,
     "solution": false,
     "task": true
    }
   },
   "source": [
    "## Challenge 2e: Figure - Plot Stream Discharge Data\n",
    "\n",
    "Create a vertically stacked figure that contains the following stream discharge subplots (You should have all of the data above needed to create these figures:\n",
    "\n",
    "* Subplot 1: daily discharge values from Aug 1, 2013 to Oct 31, 2013\n",
    "    * Plot needs a title, x axis label, and y axis label. The y label should have units of measure in it. \n",
    "    * X axis tick labels should be month-day (e.g. \"Aug-01\")\n",
    "* Subplot 2: Monthly maximum stream discharge for 2013\n",
    "    * Plot needs a title, x axis label, and y axis label. The y label should have units of measure in it. \n",
    "    * X axis tick labels should be month-day (e.g. \"Aug-01\")\n",
    "* Subplot 3: monthly totals of discharge for all years in dataset\n",
    "    * Plot needs a title, x axis label, and y axis label. The y label should have units of measure in it. \n",
    "    * X axis label should be Year (e.g. \"2013\")\n",
    "       \n",
    "You can use the `DateFormatter` package imported above to ensure you x axis labels are formatted correctly. "
   ]
  },
  {
   "cell_type": "markdown",
   "metadata": {
    "deletable": false,
    "editable": false,
    "nbgrader": {
     "cell_type": "markdown",
     "checksum": "d355baf6b184728ad7c15cd1cd3c9c70",
     "grade": false,
     "grade_id": "cell-09a9e6c1a023a5da",
     "locked": true,
     "points": 0,
     "schema_version": 3,
     "solution": false,
     "task": true
    }
   },
   "source": [
    "BONUS (10 pts extra credit): Notice that you are repeating a lot of code here? Write a function to produce this plot from any daily `DataFrame`, and use it to generate your plots here and above. What parameters do you need to generalize your approach?"
   ]
  },
  {
   "cell_type": "code",
   "execution_count": 26,
   "metadata": {
    "deletable": false,
    "nbgrader": {
     "cell_type": "code",
     "checksum": "20c24353d8ddc7babd1fc242cbe2f348",
     "grade": false,
     "grade_id": "discharge-plots",
     "locked": false,
     "schema_version": 3,
     "solution": true,
     "task": false
    }
   },
   "outputs": [
    {
     "data": {
      "image/png": "[encoded data removed]",
      "text/plain": [
       "<Figure size 720x1224 with 3 Axes>"
      ]
     },
     "metadata": {
      "needs_background": "light"
     },
     "output_type": "display_data"
    }
   ],
   "source": [
    "# function to produce plot\n",
    "def plot_time_series(df, axis, format_, title, xlabel, ylabel):\n",
    "    # plot inputted df on inputted axis\n",
    "    axis.plot(df)\n",
    "    # set date formatter\n",
    "    axis.xaxis.set_major_formatter(DateFormatter(format_))\n",
    "    # set elements\n",
    "    axis.set_title(title)\n",
    "    axis.set_xlabel(xlabel)\n",
    "    axis.set_ylabel(ylabel)\n",
    "\n",
    "\n",
    "# set figure and size\n",
    "fig, axis = plt.subplots(3, 1, figsize=(10, 17))\n",
    "\n",
    "# plot daily discharge Aug 2013 - Oct 2013\n",
    "plot_time_series(\n",
    "    discharge_flood_range.resample('D').sum().drop('site_no', axis=1),\n",
    "    axis=axis[0],\n",
    "    format_=\"%b-%d\",\n",
    "    title='Boulder Country Daily Discharge (Aug 2013 - Oct 2013)',\n",
    "    xlabel='Date',\n",
    "    ylabel='Mean Discharge (ft3/s)'\n",
    ")\n",
    "\n",
    "# plot monthly max discharge 2013\n",
    "plot_time_series(\n",
    "    discharge_flood_range_aggs.max_discharge,\n",
    "    axis=axis[1],\n",
    "    format_=\"%b-%d\",\n",
    "    title='Boulder Country Monthly Maximum Discharge (2013)',\n",
    "    xlabel='Date',\n",
    "    ylabel='Mean Discharge (ft3/s)'\n",
    ")\n",
    "\n",
    "# plot monthly total discharge all time\n",
    "plot_time_series(\n",
    "    discharge_monthly_sum.drop('site_no', axis=1),\n",
    "    axis=axis[2],\n",
    "    format_=\"%Y\",\n",
    "    title='Boulder Country Monthly Discharge Total (1948-2013)',\n",
    "    xlabel='Year',\n",
    "    ylabel='Mean Discharge (ft3/s)'\n",
    ")"
   ]
  },
  {
   "cell_type": "markdown",
   "metadata": {
    "deletable": false,
    "editable": false,
    "nbgrader": {
     "cell_type": "markdown",
     "checksum": "0b3f10639b5114a9e9f727a32f283164",
     "grade": false,
     "grade_id": "precip-discharge-compare-instructions",
     "locked": true,
     "points": 4,
     "schema_version": 3,
     "solution": false,
     "task": true
    }
   },
   "source": [
    "## Challenge 3 - Figure of Precipitation and Discharge Combined\n",
    "\n",
    "Above, you created code to plot precipitation and stream discharge in \n",
    "two different figures. Create a figure with two subplots stacked on \n",
    "top of each other in the cell below as follows:\n",
    "\n",
    "1. Subplot 1: Daily total precipitation for the flood event time period (aug-october 2013)\n",
    "2. Subplot 2: Daily stream discharge for the flood event time period (aug-october 2013)\n",
    "\n",
    "HINT: You can use the SAME CODE that you used above to create the first \n",
    "precipitation plot and the first discharge plot to create these subplots! You will\n",
    "just need to create a new figure and axis object(s) below.\n"
   ]
  },
  {
   "cell_type": "code",
   "execution_count": 27,
   "metadata": {
    "deletable": false,
    "nbgrader": {
     "cell_type": "code",
     "checksum": "be5458560543109b4fc0d00c70dfd9ef",
     "grade": false,
     "grade_id": "precip-discharge-compare-answer",
     "locked": false,
     "schema_version": 3,
     "solution": true,
     "task": false
    }
   },
   "outputs": [
    {
     "data": {
      "image/png": "[encoded data removed]",
      "text/plain": [
       "<Figure size 720x936 with 2 Axes>"
      ]
     },
     "metadata": {
      "needs_background": "light"
     },
     "output_type": "display_data"
    }
   ],
   "source": [
    "f_, ax_ = plt.subplots(2, 1, figsize=(10, 13))\n",
    "\n",
    "# using function to plot daily precipitation during flood date range\n",
    "plot_time_series(\n",
    "    precip_flood_range,\n",
    "    axis=ax_[0],\n",
    "    format_=\"%b-%d\",\n",
    "    title='Boulder Country Daily Precipitation (Aug 2013 - Oct 2013)',\n",
    "    xlabel='Date',\n",
    "    ylabel='HPCP (0.1 mm)'\n",
    ")\n",
    "\n",
    "# using function to plot daily discharge during flood date range\n",
    "plot_time_series(\n",
    "    discharge_flood_range.resample('D').sum().drop('site_no', axis=1),\n",
    "    axis=ax_[1],\n",
    "    format_=\"%b-%d\",\n",
    "    title='Boulder Country Daily Discharge (Aug 2013 - Oct 2013)',\n",
    "    xlabel='Date',\n",
    "    ylabel='Mean Discharge (ft3/s)'\n",
    ")"
   ]
  },
  {
   "cell_type": "markdown",
   "metadata": {
    "deletable": false,
    "editable": false,
    "nbgrader": {
     "cell_type": "markdown",
     "checksum": "82d55aa6b7c68f193a33c1b12bf5d81d",
     "grade": false,
     "grade_id": "task-explain-patterns",
     "locked": true,
     "points": 7,
     "schema_version": 3,
     "solution": false,
     "task": true
    }
   },
   "source": [
    "## Challenge 3b - Explain Patterns In the Data\n",
    "\n",
    "For your final streamflow and precipitation plot, write an assertion-evidence style take away as a heading in the cell below. Follow up with 2-3 sentences or bullet points explaining your conclusion. Consider:\n",
    "\n",
    "1. When was the peak precip / discharge period during the flood?\n",
    "2. Do the dates associated with peak precip and discharge line up (are they the same?)?"
   ]
  },
  {
   "cell_type": "markdown",
   "metadata": {},
   "source": [
    "### The 2013 Boulder Flood was Caused by Significant Rainfall on September 12th\n",
    "\n",
    "As we can see from the plots above, the max precipitation and discharge occurred on September 12th (i.e, the same day). After September 12th, the discharge has a gradual decline while all the precipitation flows out. This gives evidence to the fact that September 12th is the sole contributor to the Boulder flood in 2013, considering rainfall before and after the date is very little."
   ]
  },
  {
   "cell_type": "markdown",
   "metadata": {
    "deletable": false,
    "editable": false,
    "nbgrader": {
     "cell_type": "markdown",
     "checksum": "aef8b057f821b8e8e3dab835b6e98a81",
     "grade": false,
     "grade_id": "pep8-grading",
     "locked": true,
     "points": 6,
     "schema_version": 3,
     "solution": false,
     "task": true
    }
   },
   "source": [
    "## Pep 8, and Does the Notebook Run?\n",
    "In this cell, we will give you points for the following\n",
    "\n",
    "1. PEP 8 is followed throughout the notebook (3 points)\n",
    "3. The notebook runs from top to bottom without any editing (it is reproducible) (3 points)"
   ]
  }
 ],
 "metadata": {
  "kernelspec": {
   "display_name": "Python 3 (ipykernel)",
   "language": "python",
   "name": "python3"
  },
  "language_info": {
   "codemirror_mode": {
    "name": "ipython",
    "version": 3
   },
   "file_extension": ".py",
   "mimetype": "text/x-python",
   "name": "python",
   "nbconvert_exporter": "python",
   "pygments_lexer": "ipython3",
   "version": "3.9.10"
  },
  "toc": {
   "base_numbering": 1,
   "nav_menu": {},
   "number_sections": true,
   "sideBar": true,
   "skip_h1_title": false,
   "title_cell": "Table of Contents",
   "title_sidebar": "Contents",
   "toc_cell": false,
   "toc_position": {
    "height": "calc(100% - 180px)",
    "left": "10px",
    "top": "150px",
    "width": "248.2px"
   },
   "toc_section_display": true,
   "toc_window_display": true
  },
  "varInspector": {
   "cols": {
    "lenName": 16,
    "lenType": 16,
    "lenVar": 40
   },
   "kernels_config": {
    "python": {
     "delete_cmd_postfix": "",
     "delete_cmd_prefix": "del ",
     "library": "var_list.py",
     "varRefreshCmd": "print(var_dic_list())"
    },
    "r": {
     "delete_cmd_postfix": ") ",
     "delete_cmd_prefix": "rm(",
     "library": "var_list.r",
     "varRefreshCmd": "cat(var_dic_list()) "
    }
   },
   "types_to_exclude": [
    "module",
    "function",
    "builtin_function_or_method",
    "instance",
    "_Feature"
   ],
   "window_display": false
  }
 },
 "nbformat": 4,
 "nbformat_minor": 2
}
